{
 "cells": [
  {
   "cell_type": "code",
   "execution_count": 7,
   "metadata": {},
   "outputs": [],
   "source": [
    "import numpy as np"
   ]
  },
  {
   "cell_type": "code",
   "execution_count": 8,
   "metadata": {},
   "outputs": [
    {
     "data": {
      "text/plain": [
       "array([[0., 1., 2.],\n",
       "       [3., 4., 5.],\n",
       "       [6., 7., 8.]])"
      ]
     },
     "execution_count": 8,
     "metadata": {},
     "output_type": "execute_result"
    }
   ],
   "source": [
    "# Basic declaration of array numpy\n",
    "x = np.array([[0., 1., 2.],\n",
    "              [3., 4., 5.],\n",
    "              [6., 7., 8.]])\n",
    "\n",
    "x"
   ]
  },
  {
   "cell_type": "code",
   "execution_count": 11,
   "metadata": {},
   "outputs": [
    {
     "name": "stdout",
     "output_type": "stream",
     "text": [
      "[[ 0.  1.  4.]\n",
      " [ 9. 16. 25.]\n",
      " [36. 49. 64.]]\n",
      "[[0. 1. 2.]\n",
      " [3. 4. 5.]\n",
      " [6. 7. 8.]]\n"
     ]
    },
    {
     "data": {
      "text/plain": [
       "array([0.5, 1.5, 2.5])"
      ]
     },
     "execution_count": 11,
     "metadata": {},
     "output_type": "execute_result"
    }
   ],
   "source": [
    "# Begin simple operations\n",
    "x = x ** 2\n",
    "\n",
    "print(x)\n",
    "\n",
    "# Square root of each entry in array\n",
    "x = np.sqrt(x)\n",
    "print(x)\n",
    "\n",
    "# Slices return arrays, operate on these too.\n",
    "# Add 0.5 to row 0 of x\n",
    "y = .5 + x[0, :]\n",
    "y"
   ]
  },
  {
   "cell_type": "code",
   "execution_count": 34,
   "metadata": {},
   "outputs": [
    {
     "name": "stdout",
     "output_type": "stream",
     "text": [
      "[[-4.  -2.5 -1. ]\n",
      " [ 0.5  6.   6.5]\n",
      " [ 5.   6.5  8. ]]\n",
      "[[-0.  -3.5 -6. ]\n",
      " [-7.5  8.   7.5]\n",
      " [-6.  -3.5 -0. ]]\n",
      "36.0\n",
      "[ 9. 12. 15.]\n",
      "[ 3. 12. 21.]\n"
     ]
    }
   ],
   "source": [
    "# Operation between two arrays\n",
    "x = np.array([[0., 1., 2.],\n",
    "              [3., 4., 5.],\n",
    "              [6., 7., 8.]])\n",
    "\n",
    "y = np.array([[-4, -3.5, -3.,], \n",
    "              [-2.5, 2, 1.5], \n",
    "              [-1, -0.5, -0.]])\n",
    "\n",
    "print(x + y)\n",
    "\n",
    "print(x * y)\n",
    "\n",
    "# Operations on sequence of numbers (sum)\n",
    "print(np.sum(x))\n",
    "\n",
    "# Summing over rows (axis = 0)\n",
    "print(np.sum(x, axis=0)) # rows\n",
    "print(np.sum(x, axis=1)) # columns"
   ]
  },
  {
   "cell_type": "code",
   "execution_count": 25,
   "metadata": {},
   "outputs": [
    {
     "name": "stdout",
     "output_type": "stream",
     "text": [
      "49995000\n",
      "\n",
      "Total time: 0.0009992122650146484s\n",
      "49995000\n",
      "\n",
      "Total time: 0.0009992122650146484s\n",
      "[4 6 8]\n",
      "[   1 -112]\n",
      "50\n"
     ]
    }
   ],
   "source": [
    "'''\n",
    "Vectorized Operations\n",
    "\n",
    "Vectorization - the use of optimized, pre-compiled code written in a low-level language (e.g. C) \n",
    "                to perform mathematical operations over a data sequence. This is done in in place\n",
    "                of an explicit iteration written in the native language\n",
    "Vectorization outcome can be a tremendous speedup relative to analogous computation performed in Python.\n",
    "'''\n",
    "import time\n",
    "\n",
    "# exp pof numpy\n",
    "start = time.time()\n",
    "print(np.sum(np.arange(10000))) # Using sum reduce the computing time (~11 microseconds)\n",
    "end = time.time()\n",
    "\n",
    "total_time = end - start\n",
    "print(\"\\nTotal time: \"\n",
    "      + str(total_time) + 's')\n",
    "\n",
    "# Similar output, but different methods which takes a lot more computing time\n",
    "total = 0\n",
    "start = time.time()\n",
    "for i in np.arange(10000):\n",
    "    total += i\n",
    "print(total)\n",
    "end = time.time()\n",
    "print(\"\\nTotal time: \"\n",
    "      + str(total_time) + 's')\n",
    "\n",
    "print(2 * np.array([2, 3, 4]))\n",
    "\n",
    "print(np.array([11, 12]) - np.array([10, 124]))\n",
    "# dot = multiply their corresponding entries and sum result\n",
    "print(np.dot(np.array([1, -3, 4]), np.array([2, 0, 12])))"
   ]
  },
  {
   "cell_type": "code",
   "execution_count": 44,
   "metadata": {},
   "outputs": [
    {
     "name": "stdout",
     "output_type": "stream",
     "text": [
      "[[       nan 0.30103   ]\n",
      " [0.47712125 0.60205999]]\n"
     ]
    },
    {
     "name": "stderr",
     "output_type": "stream",
     "text": [
      "C:\\ProgramData\\Anaconda3\\lib\\site-packages\\ipykernel_launcher.py:11: RuntimeWarning: invalid value encountered in log10\n",
      "  # This is added back by InteractiveShellApp.init_path()\n"
     ]
    }
   ],
   "source": [
    "'''\n",
    "Numpy Unary functions\n",
    "'''\n",
    "x = [1., 2., 3.]\n",
    "y = np.exp(x)\n",
    "y\n",
    "\n",
    "# Performing unary functions on 2D-array\n",
    "x = np.array([[-1, 2], [3, 4]])\n",
    "x\n",
    "print(np.log10(x))"
   ]
  },
  {
   "cell_type": "code",
   "execution_count": 52,
   "metadata": {},
   "outputs": [
    {
     "name": "stdout",
     "output_type": "stream",
     "text": [
      "[2.07944154 2.30258509]\n"
     ]
    },
    {
     "data": {
      "text/plain": [
       "array([[2.07944154],\n",
       "       [2.30258509]])"
      ]
     },
     "execution_count": 52,
     "metadata": {},
     "output_type": "execute_result"
    }
   ],
   "source": [
    "# Test - apply log to 2-D array of \n",
    "x = np.array([[0, 1, 2, 3],\n",
    "              [4, 5, 6, 7],\n",
    "              [8, 9, 10, 11],\n",
    "              [12, 13, 14, 15]])\n",
    "\n",
    "print(np.log(x[2, 0::2]))\n",
    "\n",
    "y = np.array([[np.log(x[2,0])],\n",
    "              [np.log(x[2,2])]\n",
    "             ])\n",
    "y"
   ]
  },
  {
   "cell_type": "code",
   "execution_count": 54,
   "metadata": {},
   "outputs": [
    {
     "data": {
      "text/plain": [
       "4"
      ]
     },
     "execution_count": 54,
     "metadata": {},
     "output_type": "execute_result"
    }
   ],
   "source": [
    "np.maximum(2, 444)\n",
    "np.minimum(11, 4)"
   ]
  }
 ],
 "metadata": {
  "kernelspec": {
   "display_name": "Python 3",
   "language": "python",
   "name": "python3"
  },
  "language_info": {
   "codemirror_mode": {
    "name": "ipython",
    "version": 3
   },
   "file_extension": ".py",
   "mimetype": "text/x-python",
   "name": "python",
   "nbconvert_exporter": "python",
   "pygments_lexer": "ipython3",
   "version": "3.7.4"
  }
 },
 "nbformat": 4,
 "nbformat_minor": 4
}
