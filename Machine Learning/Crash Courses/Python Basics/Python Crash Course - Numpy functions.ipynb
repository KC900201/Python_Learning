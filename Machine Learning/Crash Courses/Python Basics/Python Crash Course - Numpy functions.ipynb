{
 "cells": [
  {
   "cell_type": "code",
   "execution_count": 3,
   "metadata": {},
   "outputs": [
    {
     "name": "stdout",
     "output_type": "stream",
     "text": [
      "[[1. 1. 1. 1.]\n",
      " [1. 1. 1. 1.]]\n",
      "[[0. 0. 0. 0. 0.]\n",
      " [0. 0. 0. 0. 0.]]\n",
      "[ 0.17186254 -4.97116159  3.37780523  2.70825262  6.43118828  1.6260429\n",
      "  2.59378651 -9.16579527 -0.42719168  6.01766225]\n"
     ]
    },
    {
     "data": {
      "text/plain": [
       "array([1, 3, 5])"
      ]
     },
     "execution_count": 3,
     "metadata": {},
     "output_type": "execute_result"
    }
   ],
   "source": [
    "# How to create Numpy arrays\n",
    "import numpy as np\n",
    "\n",
    "# Simplest is to create arrays of ones and zeros\n",
    "x = np.ones((2, 4)) # r, c\n",
    "y = np.zeros((2,5))\n",
    "\n",
    "print(x)\n",
    "print(y)\n",
    "\n",
    "# creating an array from a Python sequence\n",
    "a = np.array([i ** 2 for i in range(2, 10)])\n",
    "\n",
    "# array of evenly-spaced points\n",
    "a = np.linspace(0,10,5)\n",
    "a\n",
    "\n",
    "# creating an array by sampling 10 numbers\n",
    "# randomly from a mean-1, std-dev-5 normal\n",
    "# distribution\n",
    "c = np.random.normal(1, 5, 10)\n",
    "print(c)\n",
    "# creating an array of a specified datatype\n",
    "np.array([1.5, 3.20, 5.78], dtype=int)"
   ]
  },
  {
   "cell_type": "code",
   "execution_count": 21,
   "metadata": {},
   "outputs": [
    {
     "name": "stdout",
     "output_type": "stream",
     "text": [
      "[ 1  2  3  4  5  6  7  8  9 10 11 12 13 14 15 16 17 18 19]\n"
     ]
    },
    {
     "data": {
      "text/plain": [
       "array([-1. , -0.5,  0. ,  0.5,  1. ])"
      ]
     },
     "execution_count": 21,
     "metadata": {},
     "output_type": "execute_result"
    }
   ],
   "source": [
    "# arange and linspace\n",
    "a = np.arange(1, 20, 1) # start (included): 0, stop (excluded): 10, step:1\n",
    "print(a)\n",
    "\n",
    "# supplying one value to `arange` amounts to specifying the stop value\n",
    "a = np.arange(10)\n",
    "a\n",
    "\n",
    "'''\n",
    " The linspace function allows you to generate  evenly-spaced points within a user-specified interval  \n",
    " ( and  are included in the interval). This is often used to generate a domain of values on which to evaluate \n",
    " a mathematical function (e.g. if you want to the sine function from  to  on a finely-divided grid).\n",
    "'''\n",
    "\n",
    "# generate five evenly-spaced points on the interval [-1, 1]\n",
    "a = np.linspace(-1, 1, 5)\n",
    "a"
   ]
  },
  {
   "cell_type": "code",
   "execution_count": 30,
   "metadata": {},
   "outputs": [
    {
     "name": "stdout",
     "output_type": "stream",
     "text": [
      "[[0.1931372  0.09002433 0.47890536 0.93592139 0.09669184]\n",
      " [0.95658612 0.87122978 0.56070687 0.92521851 0.81157169]\n",
      " [0.21963757 0.2870891  0.27358881 0.84784779 0.65992942]]\n"
     ]
    },
    {
     "data": {
      "text/plain": [
       "array([ 1.37360749,  0.04796838,  0.29831944, -0.62404966, -0.60609167])"
      ]
     },
     "execution_count": 30,
     "metadata": {},
     "output_type": "execute_result"
    }
   ],
   "source": [
    "# Random sampling method\n",
    "rng = np.random.default_rng()\n",
    "# print(rng)\n",
    "\n",
    "# create a shape-(3,3) array by drawing its entries randomly\n",
    "# from the uniform distribution [0, 1)\n",
    "x = rng.random((3,5))\n",
    "print(x)\n",
    "\n",
    "# create a shape-(5,) array by drawing its entries randomly\n",
    "# from a mean-0, variance-1 normal (a.k.a. Gaussian) distribution\n",
    "rng.normal(size=(5,))"
   ]
  },
  {
   "cell_type": "code",
   "execution_count": 43,
   "metadata": {},
   "outputs": [
    {
     "name": "stdout",
     "output_type": "stream",
     "text": [
      "[-1.  -0.5  0.   0.5  1. ]\n",
      "[-1.   -0.25  0.5   1.25  2.  ]\n",
      "[[-1.   -0.5   0.    0.5   1.  ]\n",
      " [-1.   -0.25  0.5   1.25  2.  ]]\n",
      "[-1.   -0.5   0.    0.5   1.   -1.   -0.25  0.5   1.25  2.  ]\n"
     ]
    }
   ],
   "source": [
    "# Joining arrays together\n",
    "x = np.linspace(-1, 1, 5)\n",
    "print(x)\n",
    "# y = np.ones((1, 5))\n",
    "y = np.linspace(-1, 2, 5)\n",
    "print(y)\n",
    "\n",
    "# Stacking methods - stack 'x' and 'y' vertically\n",
    "a = np.vstack([x, y])\n",
    "print(a)\n",
    "# Stacking methods - stack 'x' and 'y' horizontally\n",
    "b = np.hstack([x, y])\n",
    "print(b)"
   ]
  },
  {
   "cell_type": "code",
   "execution_count": 8,
   "metadata": {},
   "outputs": [
    {
     "name": "stdout",
     "output_type": "stream",
     "text": [
      "[ 4  9 16]\n",
      "[(0, 4), (1, 9), (2, 16)]\n"
     ]
    }
   ],
   "source": [
    "# Array iteration\n",
    "# First try with 'enumerate' function in an iterable\n",
    "[i for i in enumerate('abcdef')]\n",
    "\n",
    "# try enumerate in an array\n",
    "x = np.array([i ** 2 for i in range(2, 5)])\n",
    "print(x)\n",
    "print([i for i in enumerate(x)]) # works, putting array in enumerate"
   ]
  },
  {
   "cell_type": "code",
   "execution_count": 18,
   "metadata": {},
   "outputs": [
    {
     "name": "stdout",
     "output_type": "stream",
     "text": [
      "4\n"
     ]
    }
   ],
   "source": [
    "# Using numpy ndenumerate\n",
    "x = np.array([[[90, 23, 3], \n",
    "               [23, 45, 44]], \n",
    "              [[-8, 23, 43], \n",
    "               [1, 3, 4]]])\n",
    "\n",
    "[i for i in np.ndenumerate(x)] # enumerating through 3 d array\n",
    "\n",
    "print(x[1, 1, 2])"
   ]
  },
  {
   "cell_type": "code",
   "execution_count": 24,
   "metadata": {},
   "outputs": [
    {
     "data": {
      "text/plain": [
       "array([[ 0,  1,  2,  3,  4,  5],\n",
       "       [ 6,  7,  8,  9, 10, 11],\n",
       "       [12, 13, 14, 15, 16, 17],\n",
       "       [18, 19, 20, 21, 22, 23]])"
      ]
     },
     "execution_count": 24,
     "metadata": {},
     "output_type": "execute_result"
    }
   ],
   "source": [
    "'''\n",
    "2 types of array traversal method in Numpy -> row-major (c) VS column-major (F) traversal ordering\n",
    "Numpy utilizes row-major ordering as a default for any operation that requires an array to be traversed\n",
    "'''\n",
    "\n",
    "x = np.arange(2*3*4) # it will be an 1-d array\n",
    "x.reshape(2,3,4)\n",
    "x.reshape(4,6)\n",
    "\n",
    "# Testing\n",
    "# np.arange(10).reshape(2,5).reshape(10)"
   ]
  }
 ],
 "metadata": {
  "kernelspec": {
   "display_name": "Python 3",
   "language": "python",
   "name": "python3"
  },
  "language_info": {
   "codemirror_mode": {
    "name": "ipython",
    "version": 3
   },
   "file_extension": ".py",
   "mimetype": "text/x-python",
   "name": "python",
   "nbconvert_exporter": "python",
   "pygments_lexer": "ipython3",
   "version": "3.8.8"
  }
 },
 "nbformat": 4,
 "nbformat_minor": 4
}
