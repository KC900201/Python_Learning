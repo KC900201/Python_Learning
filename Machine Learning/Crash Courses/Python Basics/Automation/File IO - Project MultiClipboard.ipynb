{
 "cells": [
  {
   "cell_type": "code",
   "execution_count": 5,
   "metadata": {},
   "outputs": [
    {
     "data": {
      "text/plain": [
       "'\\nSay you’re a geography teacher with 35 students in your class and you want to\\ngive a pop quiz on US state capitals. Alas, your class has a few bad eggs in it,\\nand you can’t trust the students not to cheat. You’d like to randomize the order\\nof questions so that each quiz is unique, making it impossible for anyone to crib\\nanswers from anyone else. Of course, doing this by hand would be a lengthy and\\nboring affair. Fortunately, you know some Python.\\nHere is what the program does:\\nCreates 35 different quizzes.\\nCreates 50 multiple-choice questions for each quiz, in random order.\\nProvides the correct answer and three random wrong answers for each\\nquestion, in random order.\\nWrites the quizzes to 35 text files.\\nWrites the answer keys to 35 text files.\\nThis means the code will need to do the following:\\nStore the states and their capitals in a dictionary.\\nCall open(), write(), and close() for the quiz and answer key text files.\\nUse random.shuffle() to randomize the order of the questions and\\nmultiple-choice options.\\n'"
      ]
     },
     "execution_count": 5,
     "metadata": {},
     "output_type": "execute_result"
    }
   ],
   "source": [
    "\"\"\"\n",
    "Say you’re a geography teacher with 35 students in your class and you want to\n",
    "give a pop quiz on US state capitals. Alas, your class has a few bad eggs in it,\n",
    "and you can’t trust the students not to cheat. You’d like to randomize the order\n",
    "of questions so that each quiz is unique, making it impossible for anyone to crib\n",
    "answers from anyone else. Of course, doing this by hand would be a lengthy and\n",
    "boring affair. Fortunately, you know some Python.\n",
    "Here is what the program does:\n",
    "Creates 35 different quizzes.\n",
    "Creates 50 multiple-choice questions for each quiz, in random order.\n",
    "Provides the correct answer and three random wrong answers for each\n",
    "question, in random order.\n",
    "Writes the quizzes to 35 text files.\n",
    "Writes the answer keys to 35 text files.\n",
    "This means the code will need to do the following:\n",
    "Store the states and their capitals in a dictionary.\n",
    "Call open(), write(), and close() for the quiz and answer key text files.\n",
    "Use random.shuffle() to randomize the order of the questions and\n",
    "multiple-choice options.\n",
    "\"\"\""
   ]
  },
  {
   "cell_type": "code",
   "execution_count": 7,
   "metadata": {},
   "outputs": [],
   "source": [
    "# Import libraries\n",
    "import shelve, pyperclip, sys\n",
    "\n",
    "mcbShelf = shelve.open('mcb')\n",
    "\n",
    "# Save clipboard content (w/ keyword)\n",
    "if len(sys.argv) == 3 and sys.argv[1].lower() == 'save':\n",
    "    mcbShelf[sys.argv[2]] == pyperclip.paste()\n",
    "elif len(sys.argv) == 2:\n",
    "    # List keywords and load content\n",
    "    \n",
    "\n",
    "mcbShelf.close()"
   ]
  },
  {
   "cell_type": "code",
   "execution_count": null,
   "metadata": {},
   "outputs": [],
   "source": []
  }
 ],
 "metadata": {
  "kernelspec": {
   "display_name": "Python 3",
   "language": "python",
   "name": "python3"
  },
  "language_info": {
   "codemirror_mode": {
    "name": "ipython",
    "version": 3
   },
   "file_extension": ".py",
   "mimetype": "text/x-python",
   "name": "python",
   "nbconvert_exporter": "python",
   "pygments_lexer": "ipython3",
   "version": "3.8.8"
  }
 },
 "nbformat": 4,
 "nbformat_minor": 4
}
