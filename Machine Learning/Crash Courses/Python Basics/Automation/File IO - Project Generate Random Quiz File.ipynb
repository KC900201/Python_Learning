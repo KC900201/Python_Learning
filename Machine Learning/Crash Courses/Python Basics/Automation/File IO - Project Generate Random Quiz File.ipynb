{
 "cells": [
  {
   "cell_type": "code",
   "execution_count": 1,
   "metadata": {},
   "outputs": [
    {
     "data": {
      "text/plain": [
       "'\\nGenerating Random Quiz Files\\nSay you’re a geography teacher with 35 students in your class and you want to\\ngive a pop quiz on US state capitals. Alas, your class has a few bad eggs in it,\\nand you can’t trust the students not to cheat. You’d like to randomize the order\\nof questions so that each quiz is unique, making it impossible for anyone to crib\\nanswers from anyone else. Of course, doing this by hand would be a lengthy and\\nboring affair. Fortunately, you know some Python.\\nHere is what the program does:\\nCreates 35 different quizzes.\\nCreates 50 multiple-choice questions for each quiz, in random order.\\nProvides the correct answer and three random wrong answers for each\\nquestion, in random order.\\nWrites the quizzes to 35 text files.\\nWrites the answer keys to 35 text files.\\nThis means the code will need to do the following:\\nStore the states and their capitals in a dictionary.\\nCall open(), write(), and close() for the quiz and answer key text files.\\nUse random.shuffle() to randomize the order of the questions and\\nmultiple-choice options.\\n'"
      ]
     },
     "execution_count": 1,
     "metadata": {},
     "output_type": "execute_result"
    }
   ],
   "source": [
    "'''\n",
    "Generating Random Quiz Files\n",
    "Say you’re a geography teacher with 35 students in your class and you want to\n",
    "give a pop quiz on US state capitals. Alas, your class has a few bad eggs in it,\n",
    "and you can’t trust the students not to cheat. You’d like to randomize the order\n",
    "of questions so that each quiz is unique, making it impossible for anyone to crib\n",
    "answers from anyone else. Of course, doing this by hand would be a lengthy and\n",
    "boring affair. Fortunately, you know some Python.\n",
    "Here is what the program does:\n",
    "Creates 35 different quizzes.\n",
    "Creates 50 multiple-choice questions for each quiz, in random order.\n",
    "Provides the correct answer and three random wrong answers for each\n",
    "question, in random order.\n",
    "Writes the quizzes to 35 text files.\n",
    "Writes the answer keys to 35 text files.\n",
    "This means the code will need to do the following:\n",
    "Store the states and their capitals in a dictionary.\n",
    "Call open(), write(), and close() for the quiz and answer key text files.\n",
    "Use random.shuffle() to randomize the order of the questions and\n",
    "multiple-choice options.\n",
    "'''"
   ]
  },
  {
   "cell_type": "code",
   "execution_count": 8,
   "metadata": {},
   "outputs": [],
   "source": [
    "# Libraries import\n",
    "import random\n",
    "\n",
    "# Quiz data\n",
    "capitals = {'Alabama': 'Montgomery', 'Alaska': 'Juneau', 'Arizona': 'Phoenix',\n",
    "            'Arkansas': 'Little Rock', 'California': 'Sacramento', 'Colorado': 'Denver'}\n",
    "\n",
    "# Generate 35 quiz lines\n",
    "for quizNum in range(len(capitals)):\n",
    "    # Create quiz and answer key files\n",
    "    quizFile = open('capitalsquiz%s.txt' % (quizNum + 1), 'w')\n",
    "    answerKeyFile = open('capitalsquiz_answers%s.txt' % (quizNum + 1), 'w')\n",
    "    \n",
    "    # Write out header of quiz\n",
    "    quizFile.write('Name:\\n\\nDate:\\n\\nPeriod:\\n\\n')\n",
    "    quizFile.write((' ' * 20) + 'State Capitals Quiz (Form %s)' % (quizNum + 1))\n",
    "    quizFile.write('\\n\\n')\n",
    "    \n",
    "    # Shuffle the order of the states\n",
    "    states = list(capitals.keys())\n",
    "    random.shuffle(states)\n",
    "    \n",
    "    # Create the Answer Options\n",
    "    # loop through all states, making a question for each\n",
    "    for questionNum in range(len(capitals)):\n",
    "        correctAnswer = capitals[states[questionNum]]\n",
    "        wrongAnswers = list(capitals.values())\n",
    "        del wrongAnswers[wrongAnswers.index(correctAnswer)]\n",
    "        wrongAnswers = random.sample(wrongAnswers, 3)\n",
    "        answerOptions = wrongAnswers + [correctAnswer]\n",
    "        random.shuffle(answerOptions)\n",
    "\n",
    "        # Write the questions and answer optinons to the quiz file\n",
    "        quizFile.write('%s. What is the capital of %s\\n' % (questionNum + 1, states[questionNum]))\n",
    "\n",
    "        for i in range(4):\n",
    "            quizFile.write(' %s. %s\\n' % ('ABCD'[i], answerOptions[i]))\n",
    "\n",
    "        quizFile.write('\\n')\n",
    "        # Write the asnwer to key file\n",
    "        answerKeyFile.write('%s. %s\\n' % (questionNum + 1, 'ABCD'[answerOptions.index(correctAnswer)]))\n",
    "\n",
    "    quizFile.close()\n",
    "    answerKeyFile.close()"
   ]
  }
 ],
 "metadata": {
  "kernelspec": {
   "display_name": "Python 3",
   "language": "python",
   "name": "python3"
  },
  "language_info": {
   "codemirror_mode": {
    "name": "ipython",
    "version": 3
   },
   "file_extension": ".py",
   "mimetype": "text/x-python",
   "name": "python",
   "nbconvert_exporter": "python",
   "pygments_lexer": "ipython3",
   "version": "3.8.8"
  }
 },
 "nbformat": 4,
 "nbformat_minor": 4
}
