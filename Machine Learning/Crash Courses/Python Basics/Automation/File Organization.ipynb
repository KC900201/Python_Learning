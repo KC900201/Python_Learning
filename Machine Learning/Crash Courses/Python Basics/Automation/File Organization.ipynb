{
 "cells": [
  {
   "cell_type": "code",
   "execution_count": 3,
   "metadata": {},
   "outputs": [
    {
     "ename": "FileExistsError",
     "evalue": "[WinError 183] Cannot create a file when that file already exists: 'hello'",
     "output_type": "error",
     "traceback": [
      "\u001b[1;31m---------------------------------------------------------------------------\u001b[0m",
      "\u001b[1;31mFileExistsError\u001b[0m                           Traceback (most recent call last)",
      "\u001b[1;32m<ipython-input-3-11817c35ae6e>\u001b[0m in \u001b[0;36m<module>\u001b[1;34m\u001b[0m\n\u001b[0;32m      9\u001b[0m \u001b[1;31m# Move, rename files and folders\u001b[0m\u001b[1;33m\u001b[0m\u001b[1;33m\u001b[0m\u001b[1;33m\u001b[0m\u001b[0m\n\u001b[0;32m     10\u001b[0m \u001b[1;31m# shutil.move()\u001b[0m\u001b[1;33m\u001b[0m\u001b[1;33m\u001b[0m\u001b[1;33m\u001b[0m\u001b[0m\n\u001b[1;32m---> 11\u001b[1;33m \u001b[0mos\u001b[0m\u001b[1;33m.\u001b[0m\u001b[0mmkdir\u001b[0m\u001b[1;33m(\u001b[0m\u001b[1;34m'hello'\u001b[0m\u001b[1;33m)\u001b[0m\u001b[1;33m\u001b[0m\u001b[1;33m\u001b[0m\u001b[0m\n\u001b[0m\u001b[0;32m     12\u001b[0m \u001b[1;31m# shutil.move('hello.txt', 'hello\\hello.txt')\u001b[0m\u001b[1;33m\u001b[0m\u001b[1;33m\u001b[0m\u001b[1;33m\u001b[0m\u001b[0m\n",
      "\u001b[1;31mFileExistsError\u001b[0m: [WinError 183] Cannot create a file when that file already exists: 'hello'"
     ]
    }
   ],
   "source": [
    "# Using shutil library for fil org\n",
    "import shutil\n",
    "import os\n",
    "\n",
    "# Copy files and folders functions\n",
    "# shutil.copy()\n",
    "# shutil.copytree()\n",
    "\n",
    "# Move, rename files and folders\n",
    "# shutil.move()\n",
    "os.mkdir('hello')\n",
    "# shutil.move('hello.txt', 'hello\\hello.txt')"
   ]
  },
  {
   "cell_type": "code",
   "execution_count": 4,
   "metadata": {},
   "outputs": [],
   "source": [
    "# remove tree at path\n",
    "shutil.rmtree('hello')"
   ]
  },
  {
   "cell_type": "code",
   "execution_count": 12,
   "metadata": {},
   "outputs": [],
   "source": [
    "# safe delets with send2trash module\n",
    "import send2trash\n",
    "\n",
    "# Creates a new file\n",
    "baconFile  = open('bacon.txt', 'a')\n",
    "baconFile.write('I love bacon')\n",
    "\n",
    "baconFile.close()\n",
    "\n",
    "# Delete file safely\n",
    "send2trash.send2trash('bacon.txt') # send file to recycle bin instead of permanently delete"
   ]
  },
  {
   "cell_type": "code",
   "execution_count": 8,
   "metadata": {},
   "outputs": [
    {
     "name": "stdout",
     "output_type": "stream",
     "text": [
      "The current folder is ..\n",
      "SUBFOLDER OF ..: .ipynb_checkpoints\n",
      "SUBFOLDER OF ..: Automation\n",
      "FILE INSIDE ..: Python Crash Course -  File IO.ipynb\n",
      "FILE INSIDE ..: Python Crash Course - Data Structures.ipynb\n",
      "FILE INSIDE ..: Python Crash Course - Imports and Packages.ipynb\n",
      "FILE INSIDE ..: Python Crash Course - Math.ipynb\n",
      "FILE INSIDE ..: Python Crash Course - Matplotlib.ipynb\n",
      "FILE INSIDE ..: Python Crash Course - NumPy Array Broadcasting.ipynb\n",
      "FILE INSIDE ..: Python Crash Course - NumPy essentials.ipynb\n",
      "FILE INSIDE ..: Python Crash Course - Numpy functions.ipynb\n",
      "FILE INSIDE ..: Python Crash Course - Numpy Mathematical Operations.ipynb\n",
      "FILE INSIDE ..: Python Crash Course - Numpy Vectorized Operations.ipynb\n",
      "FILE INSIDE ..: Python Crash Course - Numpy.ipynb\n",
      "FILE INSIDE ..: Python Crash Course - Object Oriented Programming.ipynb\n",
      "FILE INSIDE ..: Python Crash Course - Problems & Challenges.ipynb\n",
      "FILE INSIDE ..: Python Crash Course - Sets and Collections.ipynb\n",
      "FILE INSIDE ..: Python Crash Course - Strings and Lists.ipynb\n",
      "The current folder is ..\\.ipynb_checkpoints\n",
      "FILE INSIDE ..\\.ipynb_checkpoints: Python Crash Course -  File IO-checkpoint.ipynb\n",
      "The current folder is ..\\Automation\n",
      "SUBFOLDER OF ..\\Automation: .ipynb_checkpoints\n",
      "FILE INSIDE ..\\Automation: File IO - Project Generate Random Quiz File.ipynb\n",
      "FILE INSIDE ..\\Automation: File IO - Project MultiClipboard.ipynb\n",
      "FILE INSIDE ..\\Automation: File IO - reading and writing.ipynb\n",
      "FILE INSIDE ..\\Automation: File Organization.ipynb\n",
      "FILE INSIDE ..\\Automation: mcb.bak\n",
      "FILE INSIDE ..\\Automation: mcb.dat\n",
      "FILE INSIDE ..\\Automation: mcb.dir\n",
      "FILE INSIDE ..\\Automation: Regex Pattern Matching.ipynb\n",
      "The current folder is ..\\Automation\\.ipynb_checkpoints\n",
      "FILE INSIDE ..\\Automation\\.ipynb_checkpoints: File IO - Project Generate Random Quiz File-checkpoint.ipynb\n",
      "FILE INSIDE ..\\Automation\\.ipynb_checkpoints: File IO - Project MultiClipboard-checkpoint.ipynb\n",
      "FILE INSIDE ..\\Automation\\.ipynb_checkpoints: File IO - reading and writing-checkpoint.ipynb\n",
      "FILE INSIDE ..\\Automation\\.ipynb_checkpoints: File Organization-checkpoint.ipynb\n",
      "FILE INSIDE ..\\Automation\\.ipynb_checkpoints: Regex Pattern Matching-checkpoint.ipynb\n"
     ]
    }
   ],
   "source": [
    "# Walking down a directory tree\n",
    "\n",
    "# Example of walking down an existing directory\n",
    "'''\n",
    "The os.walk() function is passed a single string value: the path of a folder. You\n",
    "can use os.walk() in a for loop statement to walk a directory tree, much like\n",
    "how you can use the range() function to walk over a range of numbers. Unlike\n",
    "range(), the os.walk() function will return three values on each iteration\n",
    "through the loop:\n",
    "1. A string of the current folder’s name\n",
    "2. A list of strings of the folders in the current folder\n",
    "3. A list of strings of the files in the current folder\n",
    "'''\n",
    "for folderName, subfolders, filenames in os.walk('..'):\n",
    "    print('The current folder is ' + folderName)\n",
    "    \n",
    "    for subfolder in subfolders:\n",
    "        print('SUBFOLDER OF ' + folderName + \": \" + subfolder)\n",
    "    \n",
    "    for filename in filenames:\n",
    "        print('FILE INSIDE ' + folderName + \": \" + filename)"
   ]
  },
  {
   "cell_type": "code",
   "execution_count": 28,
   "metadata": {},
   "outputs": [
    {
     "name": "stdout",
     "output_type": "stream",
     "text": [
      "['zip/hello.txt']\n",
      "12\n"
     ]
    }
   ],
   "source": [
    "# Reading zip files\n",
    "import zipfile\n",
    "\n",
    "# Example - reading from test.zip\n",
    "exampleZip = zipfile.ZipFile('new.zip')\n",
    "# List out file names inside zip folder\n",
    "print(exampleZip.namelist())\n",
    "\n",
    "sokaInfo = exampleZip.getinfo('zip/hello.txt')\n",
    "print(sokaInfo.file_size) # actual file size\n",
    "sokaInfo.compress_size # compressed file size\n",
    "\n",
    "# Extracting file from zip files\n",
    "exampleZip.extractall() # extract whole zip file\n",
    "# exampleZip.extract('zip/hello.txt') # will extract file to existing folder\n",
    "# exampleZip.extract('zip/hello.txt', 'zip') # will extract file to a new folder with <name>\n",
    "exampleZip.close()"
   ]
  },
  {
   "cell_type": "code",
   "execution_count": 26,
   "metadata": {},
   "outputs": [],
   "source": [
    "# Creating and adding to zip files\n",
    "newZip = zipfile.ZipFile('new.zip', 'w')\n",
    "newZip.write('zip/hello.txt', compress_type=zipfile.ZIP_DEFLATED) # put file into new compressed zip folder\n",
    "newZip.close()\n",
    "'''\n",
    "Keep in mind that, just as with writing to files, write mode will erase all existing\n",
    "contents of a ZIP file. If you want to simply add files to an existing ZIP file, pass\n",
    "'a' as the second argument to zipfile.ZipFile() to open the ZIP file in\n",
    "append mode.\n",
    "'''"
   ]
  }
 ],
 "metadata": {
  "kernelspec": {
   "display_name": "Python 3",
   "language": "python",
   "name": "python3"
  },
  "language_info": {
   "codemirror_mode": {
    "name": "ipython",
    "version": 3
   },
   "file_extension": ".py",
   "mimetype": "text/x-python",
   "name": "python",
   "nbconvert_exporter": "python",
   "pygments_lexer": "ipython3",
   "version": "3.8.8"
  }
 },
 "nbformat": 4,
 "nbformat_minor": 4
}
