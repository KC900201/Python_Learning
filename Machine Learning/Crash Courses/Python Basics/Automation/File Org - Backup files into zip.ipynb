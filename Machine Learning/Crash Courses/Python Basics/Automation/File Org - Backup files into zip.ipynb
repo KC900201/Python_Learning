{
 "cells": [
  {
   "cell_type": "code",
   "execution_count": 1,
   "metadata": {},
   "outputs": [
    {
     "name": "stdout",
     "output_type": "stream",
     "text": [
      "Creating testBackup_1.zip...\n",
      "Adding files in C:\\Users\\setsu\\Documents\\Projects\\Python_Learning\\Machine Learning\\Crash Courses\\Python Basics\\Automation\\testBackup...\n",
      "Done.\n"
     ]
    }
   ],
   "source": [
    "import zipfile, os\n",
    "\n",
    "def backupToZip(folder):\n",
    "#     Backup the entire contents of \"folder\" into a ZIP file\n",
    "    folder = os.path.abspath(folder)\n",
    "#     Figure out the filename this code should use based on\n",
    "#     what files already exist\n",
    "    number = 1\n",
    "    while True:\n",
    "        zipFileName = os.path.basename(folder) + '_' + str(number) + '.zip'\n",
    "        if not os.path.exists(zipFileName):\n",
    "            break\n",
    "        number = number + 1\n",
    "    \n",
    "#     Create the zip file\n",
    "    print('Creating %s...' % (zipFileName))\n",
    "    backupZip = zipfile.ZipFile(zipFileName, 'w')\n",
    "#    Walk the entire folder tree and compress the files in each folder\n",
    "    for foldername, subfolders, filenames in os.walk(folder):\n",
    "        print('Adding files in %s...' % (foldername))\n",
    "        # Add the current folder to the ZIp file\n",
    "        backupZip.write(foldername)\n",
    "        # Add all the files in this folder to zip file\n",
    "        for filename in filenames:\n",
    "            newBase = os.path.basename(folder) + '_'\n",
    "            if filename.startswith(newBase) and filename.endswith('zip'):\n",
    "                contine\n",
    "            backupZip.write(os.path.join(foldername, filename))\n",
    "    backupZip.close()\n",
    "    print('Done.')\n",
    "\n",
    "\n",
    "backupToZip('.\\\\testBackup')\n",
    "    \n",
    "# backupToZip('C:\\\\Users\\\\setsu\\\\Documents\\\\Projects\\\\Python_Learning\\\\Machine Learning\\\\Crash Courses\\\\Python Basics\\\\Automation\\\\testBackup')"
   ]
  }
 ],
 "metadata": {
  "kernelspec": {
   "display_name": "Python 3",
   "language": "python",
   "name": "python3"
  },
  "language_info": {
   "codemirror_mode": {
    "name": "ipython",
    "version": 3
   },
   "file_extension": ".py",
   "mimetype": "text/x-python",
   "name": "python",
   "nbconvert_exporter": "python",
   "pygments_lexer": "ipython3",
   "version": "3.8.8"
  }
 },
 "nbformat": 4,
 "nbformat_minor": 4
}
