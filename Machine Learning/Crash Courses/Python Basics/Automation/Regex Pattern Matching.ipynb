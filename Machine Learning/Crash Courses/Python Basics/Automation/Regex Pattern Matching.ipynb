{
 "cells": [
  {
   "cell_type": "code",
   "execution_count": 14,
   "metadata": {},
   "outputs": [
    {
     "name": "stdout",
     "output_type": "stream",
     "text": [
      "Phone number found: 415-555-1011\n",
      "Phone number found: 415-555-9999\n",
      "done\n"
     ]
    }
   ],
   "source": [
    "\"\"\"\n",
    "Case 1 - Regular Expressions\n",
    "\"\"\"\n",
    "# Example - find phone number patterns w/ Regex\n",
    "def isPhoneNumber(text):\n",
    "    if len(text) != 12:\n",
    "        return False\n",
    "    \n",
    "    for i in range(0, 3):\n",
    "        if not text[i].isdecimal():\n",
    "            return False\n",
    "        \n",
    "    if text[3] != '-' or text[7] != '-':\n",
    "        return False\n",
    "    \n",
    "    for i in range (4, 7):\n",
    "        if not text[i].isdecimal():\n",
    "            return False\n",
    "            \n",
    "    for i in range(8, 12):\n",
    "        if not text[i].isdecimal():\n",
    "            return False\n",
    "        \n",
    "    return True\n",
    "\n",
    "isPhoneNumber('155-155-1555')\n",
    "\n",
    "# isPhoneNumber('Check')\n",
    "\n",
    "message = 'Call me at 415-555-1011 tomorrow. 415-555-9999 is my office.'\n",
    "\n",
    "for i in range(len(message)):\n",
    "    chunk = message[i:i+12]\n",
    "    if isPhoneNumber(chunk):\n",
    "        print('Phone number found: ' + chunk)\n",
    "\n",
    "print('done')"
   ]
  },
  {
   "cell_type": "code",
   "execution_count": 2,
   "metadata": {},
   "outputs": [
    {
     "name": "stdout",
     "output_type": "stream",
     "text": [
      "125-0041\n"
     ]
    }
   ],
   "source": [
    "# Using regex\n",
    "import re # library for regular expressions\n",
    "\n",
    "phoneNumRegex = re.compile(r'\\d\\d\\d-\\d\\d\\d\\-\\d\\d\\d\\d')\n",
    "\n",
    "res = phoneNumRegex.search('My number is 234-123-2944').group() # returns a Match object when using re to search for matching string\n",
    "\n",
    "# print(res)\n",
    "\n",
    "# Exercise (using re library)\n",
    "# Exp - japanese post code\n",
    "JPN_POST_CODE = re.compile(r'\\d\\d\\d-\\d\\d\\d\\d')\n",
    "\n",
    "address = '125-0041, Tokyo-to Katsushika-ku, Kanamachi 1-chome, 4th building room no. 225. 192-0003'\n",
    "\n",
    "res = JPN_POST_CODE.search(address)\n",
    "\n",
    "print(res.group())\n",
    "\n",
    "# Link - http://regexpal.com/"
   ]
  },
  {
   "cell_type": "code",
   "execution_count": 64,
   "metadata": {},
   "outputs": [
    {
     "name": "stdout",
     "output_type": "stream",
     "text": [
      "234\n"
     ]
    },
    {
     "data": {
      "text/plain": [
       "'Batwoman'"
      ]
     },
     "execution_count": 64,
     "metadata": {},
     "output_type": "execute_result"
    }
   ],
   "source": [
    "# Parentheses grouping\n",
    "# Reusing phone number\n",
    "'''\n",
    "The first set of parentheses in a regex string will be group 1. The second set will\n",
    "be group 2. By passing the integer 1 or 2 to the group() match object method,\n",
    "you can grab different parts of the matched text. Passing 0 or nothing to the\n",
    "group() method will return the entire matched text.\n",
    "'''\n",
    "PHONE_NUM_REGEX = re.compile(r'(\\d\\d\\d)-(\\d\\d\\d\\-\\d\\d\\d\\d)')\n",
    "\n",
    "res = PHONE_NUM_REGEX.search('My number is 234-123-2944')\n",
    "\n",
    "print(res.group(1))\n",
    "res.group(2)\n",
    "\n",
    "# Matching multiple groups\n",
    "POST_CODE_REG = re.compile(r'\\d\\d\\d-\\d\\d\\d\\d|\\d\\d\\d\\d\\d')\n",
    "\n",
    "post_code_message = '124-9023, 43200'\n",
    "\n",
    "jpn_post_code = POST_CODE_REG.search(post_code_message)\n",
    "jpn_post_code.group() # only able to group the first matching for regex with groups\n",
    "\n",
    "# using findall() will return a list of matched strings with the regex\n",
    "my_post_code = POST_CODE_REG.findall(post_code_message) \n",
    "my_post_code\n",
    "\n",
    "# Matching with ?\n",
    "'''\n",
    "Use when matg only optinally. Regex should find a match whether or not bit of text is here.\n",
    "You can think of the ? as saying, “Match zero or one of the group preceding this\n",
    "question mark.”\n",
    "''' \n",
    "batRegex = re.compile(r'Bat(wo)?man')\n",
    "\n",
    "bat_message = 'The Adventures of Batman'\n",
    "bat_w_message = 'The Adventures of Batwoman'\n",
    "\n",
    "mo1 = batRegex.search(bat_message)\n",
    "mo1.group()\n",
    "\n",
    "mo2 = batRegex.search(bat_w_message)\n",
    "mo2.group()\n"
   ]
  },
  {
   "cell_type": "code",
   "execution_count": 11,
   "metadata": {},
   "outputs": [
    {
     "data": {
      "text/plain": [
       "'batman'"
      ]
     },
     "execution_count": 11,
     "metadata": {},
     "output_type": "execute_result"
    }
   ],
   "source": [
    "# Case insensitive matching\n",
    "\n",
    "batRegex = re.compile(r'Bat(wo)?man', re.IGNORECASE) # adding re.IGNORECASE or re.I as second argument to ignore case while matching\n",
    "\n",
    "bat_message = 'Batman, BATMAN, batMan, batman'\n",
    "\n",
    "res = batRegex.search('Batwoman')\n",
    "\n",
    "res.group()\n",
    "\n",
    "batRegexTwo = re.compile(r'Bat(wo)?man', re.IGNORECASE | re.DOTALL | re.VERBOSE)\n",
    "res = batRegexTwo.search('batman, batWoman, batWOMAN').group()\n",
    "res"
   ]
  },
  {
   "cell_type": "code",
   "execution_count": 24,
   "metadata": {},
   "outputs": [],
   "source": [
    "# Project: Phone number and email address extractor\n",
    "import pyperclip, re\n",
    "\n",
    "\n",
    "def findPhoneNumberEmailMatch(text = ''):\n",
    "    # Creating regex\n",
    "    # phone number\n",
    "    phoneRegex = re.compile(r'''(\n",
    "        (\\d{3}|\\(\\d{3}\\))?\n",
    "        (\\s|-|\\.)?\n",
    "        (\\d{3})\n",
    "        (\\s|-|\\.)\n",
    "        (\\d{4})                         # \n",
    "        (\\s*(ext|x|ext.)\\s*(\\d{2,5}))?  #extension\n",
    "    )''', re.VERBOSE)\n",
    "\n",
    "    # email\n",
    "    emailRegex = re.compile(r'''([a-zA-Z0-9._%+-]+\n",
    "                            @\n",
    "                            [a-zA-Z0-9.-]+\n",
    "                            (\\.[a-zA-Z]{2,4})\n",
    "                            )''', re.VERBOSE)\n",
    "\n",
    "    pyperclip.copy(text)\n",
    "    \n",
    "    # Find matches in clipboard test\n",
    "    text = str(pyperclip.paste())\n",
    "    matches = []\n",
    "\n",
    "    for groups in phoneRegex.findall(text):\n",
    "        phoneNum = '-'.join([groups[1], groups[3], groups[5]])\n",
    "        if groups[8] != '':\n",
    "            phoneNum += ' x' + groups[8]\n",
    "        matches.append(phoneNum)\n",
    "    for groups in emailRegex.findall(text):\n",
    "        matches.append(groups[0])\n",
    "\n",
    "    # Copy results to clipboard\n",
    "    if len(matches) > 0:\n",
    "        pyperclip.copy('\\n'.join(matches))\n",
    "        print('Copied to clipboard')\n",
    "        print('\\n'.join(matches))\n",
    "    else:\n",
    "        print('No phone numbers or email address found')"
   ]
  },
  {
   "cell_type": "code",
   "execution_count": 32,
   "metadata": {},
   "outputs": [
    {
     "name": "stdout",
     "output_type": "stream",
     "text": [
      "Copied to clipboard\n",
      "122-302-1232\n",
      "erre@gmail.com\n",
      "No phone numbers or email address found\n"
     ]
    }
   ],
   "source": [
    "findPhoneNumberEmailMatch('erre@gmail.com, 122-302-1232')\n",
    "\n",
    "findPhoneNumberEmailMatch()"
   ]
  },
  {
   "cell_type": "code",
   "execution_count": null,
   "metadata": {},
   "outputs": [],
   "source": []
  },
  {
   "cell_type": "code",
   "execution_count": null,
   "metadata": {},
   "outputs": [],
   "source": []
  }
 ],
 "metadata": {
  "kernelspec": {
   "display_name": "Python 3",
   "language": "python",
   "name": "python3"
  },
  "language_info": {
   "codemirror_mode": {
    "name": "ipython",
    "version": 3
   },
   "file_extension": ".py",
   "mimetype": "text/x-python",
   "name": "python",
   "nbconvert_exporter": "python",
   "pygments_lexer": "ipython3",
   "version": "3.8.8"
  }
 },
 "nbformat": 4,
 "nbformat_minor": 2
}
