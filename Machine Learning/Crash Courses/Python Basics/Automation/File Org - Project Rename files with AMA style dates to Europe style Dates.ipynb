{
 "cells": [
  {
   "cell_type": "code",
   "execution_count": 13,
   "metadata": {},
   "outputs": [],
   "source": [
    "# rename Dates\n",
    "# Import libraries\n",
    "import shutil, os, re\n",
    "\n",
    "# Create regex that matches files with American date format\n",
    "datePattern = re.compile(r\"\"\"^(.*?)    \n",
    "                ((0|1)?\\d)-\n",
    "                ((0|1|2|3)?\\d)-\n",
    "                ((19|20)\\d\\d)\n",
    "                (.*?)$\n",
    "                \"\"\", re.VERBOSE)"
   ]
  },
  {
   "cell_type": "code",
   "execution_count": 17,
   "metadata": {},
   "outputs": [
    {
     "name": "stdout",
     "output_type": "stream",
     "text": [
      "Renaming \"C:\\Users\\setsu\\Documents\\Projects\\Python_Learning\\Machine Learning\\Crash Courses\\Python Basics\\Automation\\a-10-10-2022.txt\" to \"C:\\Users\\setsu\\Documents\\Projects\\Python_Learning\\Machine Learning\\Crash Courses\\Python Basics\\Automation\\a-10-10-2022.txt\"...\n",
      "Renaming \"C:\\Users\\setsu\\Documents\\Projects\\Python_Learning\\Machine Learning\\Crash Courses\\Python Basics\\Automation\\a-10-12-2022.txt\" to \"C:\\Users\\setsu\\Documents\\Projects\\Python_Learning\\Machine Learning\\Crash Courses\\Python Basics\\Automation\\a-12-10-2022.txt\"...\n",
      "Renaming \"C:\\Users\\setsu\\Documents\\Projects\\Python_Learning\\Machine Learning\\Crash Courses\\Python Basics\\Automation\\a-206-4-2011.txt\" to \"C:\\Users\\setsu\\Documents\\Projects\\Python_Learning\\Machine Learning\\Crash Courses\\Python Basics\\Automation\\a-24-06-2011.txt\"...\n",
      "Renaming \"C:\\Users\\setsu\\Documents\\Projects\\Python_Learning\\Machine Learning\\Crash Courses\\Python Basics\\Automation\\c-08-06-2020.txt\" to \"C:\\Users\\setsu\\Documents\\Projects\\Python_Learning\\Machine Learning\\Crash Courses\\Python Basics\\Automation\\c-06-08-2020.txt\"...\n"
     ]
    }
   ],
   "source": [
    "# Loop over files in the working directory\n",
    "for amerFileName in os.listdir('.'):\n",
    "    mo = datePattern.search(amerFileName)\n",
    "    # Skips files without a date\n",
    "    if mo == None:\n",
    "        continue\n",
    "    # Get different parts of the filename\n",
    "    beforePart = mo.group(1)\n",
    "    monthPart = mo.group(2)\n",
    "    dayPart = mo.group(4)\n",
    "    yearPart = mo.group(6)\n",
    "    afterPart = mo.group(8)\n",
    "    # Form the European-style filename\n",
    "    euroFileName = beforePart + dayPart + '-' + monthPart + '-' + yearPart + afterPart\n",
    "    # Get full, absolute file paths\n",
    "    absWorkingDir = os.path.abspath('.')\n",
    "    amerFileName = os.path.join(absWorkingDir, amerFileName)\n",
    "    euroFileName = os.path.join(absWorkingDir, euroFileName)\n",
    "#   Rename the files\n",
    "    print('Renaming \"%s\" to \"%s\"...' % (amerFileName, euroFileName))\n",
    "    shutil.move(amerFileName, euroFileName)"
   ]
  }
 ],
 "metadata": {
  "kernelspec": {
   "display_name": "Python 3",
   "language": "python",
   "name": "python3"
  },
  "language_info": {
   "codemirror_mode": {
    "name": "ipython",
    "version": 3
   },
   "file_extension": ".py",
   "mimetype": "text/x-python",
   "name": "python",
   "nbconvert_exporter": "python",
   "pygments_lexer": "ipython3",
   "version": "3.8.8"
  }
 },
 "nbformat": 4,
 "nbformat_minor": 4
}
