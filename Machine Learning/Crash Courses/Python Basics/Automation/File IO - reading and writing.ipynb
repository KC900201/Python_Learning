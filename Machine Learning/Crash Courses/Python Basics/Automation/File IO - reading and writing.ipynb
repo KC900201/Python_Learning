{
 "cells": [
  {
   "cell_type": "code",
   "execution_count": 3,
   "metadata": {},
   "outputs": [
    {
     "data": {
      "text/plain": [
       "'usr\\\\bin\\\\spam'"
      ]
     },
     "execution_count": 3,
     "metadata": {},
     "output_type": "execute_result"
    }
   ],
   "source": [
    "# Refresh on os library\n",
    "import os\n",
    "\n",
    "# Path joining\n",
    "os.path.join('usr', 'bin', 'spam') # in windows dir"
   ]
  },
  {
   "cell_type": "code",
   "execution_count": 12,
   "metadata": {},
   "outputs": [
    {
     "name": "stdout",
     "output_type": "stream",
     "text": [
      "C:\\Users\\setsu\\Documents\\Projects\\Python_Learning\\Machine Learning\\Crash Courses\\Python Basics\\Automation\n"
     ]
    },
    {
     "data": {
      "text/plain": [
       "'C:\\\\Users\\\\setsu\\\\Documents\\\\Projects\\\\Python_Learning\\\\Machine Learning\\\\Crash Courses\\\\Python Basics\\\\Automation'"
      ]
     },
     "execution_count": 12,
     "metadata": {},
     "output_type": "execute_result"
    }
   ],
   "source": [
    "# retrieve current working directory\n",
    "print(os.getcwd())\n",
    "os.chdir('C:\\\\Users\\\\setsu\\\\Documents\\\\Projects\\\\Python_Learning\\\\Machine Learning\\\\Crash Courses\\\\Python Basics\\\\Automation')\n",
    "os.getcwd()\n",
    "# error when switch to non-existing directory\n",
    "# os.chdir('C:\\\\Laala')"
   ]
  },
  {
   "cell_type": "code",
   "execution_count": 23,
   "metadata": {},
   "outputs": [
    {
     "data": {
      "text/plain": [
       "'C:\\\\Users\\\\setsu\\\\Documents\\\\Projects\\\\Python_Learning\\\\Machine Learning\\\\Crash Courses\\\\Python Basics\\\\Automation\\\\new_dir'"
      ]
     },
     "execution_count": 23,
     "metadata": {},
     "output_type": "execute_result"
    }
   ],
   "source": [
    "# create new folder\n",
    "# os.mkdir('new_dir')\n",
    "# switch to new directory\n",
    "# os.chdir('new_dir/')\n",
    "os.getcwd()\n",
    "# os.path"
   ]
  },
  {
   "cell_type": "code",
   "execution_count": 33,
   "metadata": {},
   "outputs": [
    {
     "name": "stdout",
     "output_type": "stream",
     "text": [
      "C:\\Users\\setsu\\Documents\\Projects\n",
      "True\n"
     ]
    },
    {
     "data": {
      "text/plain": [
       "'Documents'"
      ]
     },
     "execution_count": 33,
     "metadata": {},
     "output_type": "execute_result"
    }
   ],
   "source": [
    "# Handling absolute and relative paths\n",
    "\n",
    "# check absolute path of argument\n",
    "print(os.path.abspath('C:\\\\Users\\\\setsu\\\\Documents\\\\Projects'))\n",
    "os.path.abspath('.')\n",
    "\n",
    "# check if input is an absolute path\n",
    "print(os.path.isabs('C:\\\\Users\\\\setsu\\\\Documents\\\\Projects')) # true\n",
    "os.path.isabs('.')\n",
    "\n",
    "# will return a string of relative\n",
    "os.path.relpath('C:\\\\Users\\\\setsu\\\\Documents','C:\\\\Users\\\\setsu')"
   ]
  }
 ],
 "metadata": {
  "kernelspec": {
   "display_name": "Python 3",
   "language": "python",
   "name": "python3"
  },
  "language_info": {
   "codemirror_mode": {
    "name": "ipython",
    "version": 3
   },
   "file_extension": ".py",
   "mimetype": "text/x-python",
   "name": "python",
   "nbconvert_exporter": "python",
   "pygments_lexer": "ipython3",
   "version": "3.8.8"
  }
 },
 "nbformat": 4,
 "nbformat_minor": 4
}
