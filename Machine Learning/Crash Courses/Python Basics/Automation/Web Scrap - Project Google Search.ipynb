{
 "cells": [
  {
   "cell_type": "code",
   "execution_count": 2,
   "metadata": {},
   "outputs": [
    {
     "name": "stdout",
     "output_type": "stream",
     "text": [
      "Googling...\n"
     ]
    }
   ],
   "source": [
    "'''\n",
    "This is what your program does:\n",
    "- Gets search keywords from the command line arguments.\n",
    "- Retrieves the search results page.\n",
    "- Opens a browser tab for each result.\n",
    "This means your code will need to do the following:\n",
    "- Read the command line arguments from sys.argv.\n",
    "- Fetch the search result page with the requests module.\n",
    "- Find the links to each search result.\n",
    "- Call the webbrowser.open() function to open the web browser.\n",
    "'''\n",
    "# import libraries\n",
    "import requests, sys, webbrowser, bs4\n",
    "\n",
    "# S1: Get command line arguments and requests the search page\n",
    "print('Googling...')\n",
    "res = requests.get('https://google.com/search?q=' + ' '.join(sys.argv[1:]))\n",
    "res.raise_for_status()\n",
    "\n",
    "# S2: Find all results\n",
    "\n",
    "# S3: Open Web Browsers for Each Result\n",
    "\n",
    "# S4"
   ]
  }
 ],
 "metadata": {
  "kernelspec": {
   "display_name": "Python 3",
   "language": "python",
   "name": "python3"
  },
  "language_info": {
   "codemirror_mode": {
    "name": "ipython",
    "version": 3
   },
   "file_extension": ".py",
   "mimetype": "text/x-python",
   "name": "python",
   "nbconvert_exporter": "python",
   "pygments_lexer": "ipython3",
   "version": "3.7.4"
  }
 },
 "nbformat": 4,
 "nbformat_minor": 2
}
