{
 "cells": [
  {
   "cell_type": "code",
   "execution_count": 4,
   "metadata": {},
   "outputs": [
    {
     "name": "stdout",
     "output_type": "stream",
     "text": [
      "[[0 1]\n",
      " [4 5]]\n",
      "[[ 8  9]\n",
      " [12 13]]\n",
      "[[2 3]\n",
      " [6 7]]\n"
     ]
    },
    {
     "data": {
      "text/plain": [
       "array([[20, 24],\n",
       "       [36, 40]])"
      ]
     },
     "execution_count": 4,
     "metadata": {},
     "output_type": "execute_result"
    }
   ],
   "source": [
    "# Mathematical functions of Numpy\n",
    "'''\n",
    "Official documentation: https://numpy.org/doc/stable/reference/ufuncs.html#math-operations\n",
    "'''\n",
    "\n",
    "# Numpy Array Broadcasting\n",
    "'''\n",
    "Apply binary NumPy functions to arrays of unlike shapes. \n",
    "Exp: adding a single-shape(2,) array with ten of such arrays, which are stored as a single shape-(10,2) array\n",
    "'''\n",
    "\n",
    "import numpy as np\n",
    "\n",
    "x = np.array([[10, 2],\n",
    "              [3,  5]])\n",
    "\n",
    "y = np.array([[11, 3], \n",
    "              [23, 45]])\n",
    "\n",
    "np.add(x, y)\n",
    "\n",
    "# add column 0 of x with row-1 of y\n",
    "np.add(x[:, 1], y[0, :])\n",
    "\n",
    "# add row-1 of y with column 0 of x\n",
    "# np.add(y[1, :], x[:, 0])\n",
    "\n",
    "# Exp: binary functions of NumPy array\n",
    "x = np.array([[0, 1, 2, 3],\n",
    "              [4, 5, 6, 7],\n",
    "              [8, 9, 10, 11],\n",
    "              [12, 13, 14, 15]])\n",
    "\n",
    "print(x[:2, :2])\n",
    "print(x[-2:,:2])\n",
    "print(x[:2, -2:])\n",
    "\n",
    "# top-left  top-right    bottom-left  bottom-right\n",
    "x[:2, :2] + x[:2, -2:] + x[-2:, :2] + x[-2:, -2:]"
   ]
  },
  {
   "cell_type": "code",
   "execution_count": 18,
   "metadata": {},
   "outputs": [
    {
     "data": {
      "text/plain": [
       "array([2.07944154, 2.19722458])"
      ]
     },
     "execution_count": 18,
     "metadata": {},
     "output_type": "execute_result"
    }
   ],
   "source": [
    "# Example of Unary functions of NumPy Math\n",
    "# Log function\n",
    "x = np.array([[0, 1, 2, 3],\n",
    "             [4, 5, 6, 7],\n",
    "             [8, 9, 10, 11],\n",
    "             [12, 13, 14, 15]])\n",
    "\n",
    "np.log(x[2, 0:2])"
   ]
  },
  {
   "cell_type": "code",
   "execution_count": 22,
   "metadata": {},
   "outputs": [
    {
     "ename": "TypeError",
     "evalue": "'builtin_function_or_method' object is not subscriptable",
     "output_type": "error",
     "traceback": [
      "\u001b[1;31m---------------------------------------------------------------------------\u001b[0m",
      "\u001b[1;31mTypeError\u001b[0m                                 Traceback (most recent call last)",
      "\u001b[1;32m<ipython-input-22-c968bcead6b5>\u001b[0m in \u001b[0;36m<module>\u001b[1;34m\u001b[0m\n\u001b[0;32m      1\u001b[0m \u001b[1;31m# Binary functions\u001b[0m\u001b[1;33m\u001b[0m\u001b[1;33m\u001b[0m\u001b[1;33m\u001b[0m\u001b[0m\n\u001b[1;32m----> 2\u001b[1;33m \u001b[0mnp\u001b[0m\u001b[1;33m.\u001b[0m\u001b[0mmultiply\u001b[0m\u001b[1;33m(\u001b[0m\u001b[0mnp\u001b[0m\u001b[1;33m.\u001b[0m\u001b[0marray\u001b[0m\u001b[1;33m[\u001b[0m\u001b[1;36m0.\u001b[0m\u001b[1;33m,\u001b[0m \u001b[1;36m1.\u001b[0m\u001b[1;33m,\u001b[0m \u001b[1;36m2.\u001b[0m\u001b[1;33m]\u001b[0m\u001b[1;33m)\u001b[0m\u001b[1;33m\u001b[0m\u001b[1;33m\u001b[0m\u001b[0m\n\u001b[0m",
      "\u001b[1;31mTypeError\u001b[0m: 'builtin_function_or_method' object is not subscriptable"
     ]
    }
   ],
   "source": [
    "# Binary functions\n",
    "# Continue 4/11/2022 (evening)\n",
    "# np.multiply(np.array[0., 1., 2.])"
   ]
  }
 ],
 "metadata": {
  "kernelspec": {
   "display_name": "Python 3",
   "language": "python",
   "name": "python3"
  },
  "language_info": {
   "codemirror_mode": {
    "name": "ipython",
    "version": 3
   },
   "file_extension": ".py",
   "mimetype": "text/x-python",
   "name": "python",
   "nbconvert_exporter": "python",
   "pygments_lexer": "ipython3",
   "version": "3.8.8"
  }
 },
 "nbformat": 4,
 "nbformat_minor": 4
}
