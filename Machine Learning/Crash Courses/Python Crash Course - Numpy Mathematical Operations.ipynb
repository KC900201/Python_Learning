{
 "cells": [
  {
   "cell_type": "code",
   "execution_count": 1,
   "metadata": {},
   "outputs": [
    {
     "name": "stdout",
     "output_type": "stream",
     "text": [
      "[[0 1]\n",
      " [4 5]]\n",
      "[[ 8  9]\n",
      " [12 13]]\n",
      "[[2 3]\n",
      " [6 7]]\n"
     ]
    },
    {
     "data": {
      "text/plain": [
       "array([[20, 24],\n",
       "       [36, 40]])"
      ]
     },
     "execution_count": 1,
     "metadata": {},
     "output_type": "execute_result"
    }
   ],
   "source": [
    "# Mathematical functions of Numpy\n",
    "'''\n",
    "Official documentation: https://numpy.org/doc/stable/reference/ufuncs.html#math-operations\n",
    "'''\n",
    "\n",
    "# Numpy Array Broadcasting\n",
    "'''\n",
    "Apply binary NumPy functions to arrays of unlike shapes. \n",
    "Exp: adding a single-shape(2,) array with ten of such arrays, which are stored as a single shape-(10,2) array\n",
    "'''\n",
    "\n",
    "import numpy as np\n",
    "\n",
    "x = np.array([[10, 2],\n",
    "              [3,  5]])\n",
    "\n",
    "y = np.array([[11, 3], \n",
    "              [23, 45]])\n",
    "\n",
    "np.add(x, y)\n",
    "\n",
    "# add column 0 of x with row-1 of y\n",
    "np.add(x[:, 1], y[0, :])\n",
    "\n",
    "# add row-1 of y with column 0 of x\n",
    "# np.add(y[1, :], x[:, 0])\n",
    "\n",
    "# Exp: binary functions of NumPy array\n",
    "x = np.array([[0, 1, 2, 3],\n",
    "              [4, 5, 6, 7],\n",
    "              [8, 9, 10, 11],\n",
    "              [12, 13, 14, 15]])\n",
    "\n",
    "print(x[:2, :2])\n",
    "print(x[-2:,:2])\n",
    "print(x[:2, -2:])\n",
    "\n",
    "# top-left  top-right    bottom-left  bottom-right\n",
    "x[:2, :2] + x[:2, -2:] + x[-2:, :2] + x[-2:, -2:]"
   ]
  },
  {
   "cell_type": "code",
   "execution_count": 4,
   "metadata": {},
   "outputs": [
    {
     "data": {
      "text/plain": [
       "array([2.07944154, 2.19722458])"
      ]
     },
     "execution_count": 4,
     "metadata": {},
     "output_type": "execute_result"
    }
   ],
   "source": [
    "# Example of Unary functions of NumPy Math\n",
    "# Log function\n",
    "x = np.array([[0, 1, 2, 3],\n",
    "             [4, 5, 6, 7],\n",
    "             [8, 9, 10, 11],\n",
    "             [12, 13, 14, 15]])\n",
    "\n",
    "np.log(x[2, 0:2])"
   ]
  },
  {
   "cell_type": "code",
   "execution_count": 11,
   "metadata": {},
   "outputs": [
    {
     "name": "stdout",
     "output_type": "stream",
     "text": [
      "[0. 1. 2.]\n",
      "[0. 1. 2.]\n"
     ]
    },
    {
     "data": {
      "text/plain": [
       "array([0., 1., 4.])"
      ]
     },
     "execution_count": 11,
     "metadata": {},
     "output_type": "execute_result"
    }
   ],
   "source": [
    "# Binary functions\n",
    "# Continue 4/11/2022 (evening)\n",
    "\n",
    "x = np.array([0., 1., 2.])\n",
    "y = np.array([0., 1., 2.])\n",
    "\n",
    "print(x)\n",
    "print(y)\n",
    "\n",
    "np.multiply(x,y)"
   ]
  },
  {
   "cell_type": "code",
   "execution_count": 19,
   "metadata": {},
   "outputs": [
    {
     "name": "stdout",
     "output_type": "stream",
     "text": [
      "[[20 24]\n",
      " [36 40]]\n"
     ]
    }
   ],
   "source": [
    "# Add 4 quadrants of x into a shape(2, 2) output\n",
    "x = np.array([[0, 1, 2, 3],\n",
    "              [4, 5, 6, 7],\n",
    "              [8, 9, 10, 11],\n",
    "              [12, 13, 14, 15]])\n",
    "\n",
    "# print(x[:2, :2])\n",
    "# print(x[-2:,:2])\n",
    "# print(x[:2, -2:])\n",
    "# print(x[-2:, -2:]\n",
    "\n",
    "y = x[:2, :2] + x[-2:,:2] + x[:2, -2:] + x[-2:, -2:]  \n",
    "print(y)"
   ]
  },
  {
   "cell_type": "code",
   "execution_count": 13,
   "metadata": {},
   "outputs": [
    {
     "name": "stdout",
     "output_type": "stream",
     "text": [
      "8\n",
      "3.0\n",
      "14\n",
      "14\n"
     ]
    },
    {
     "data": {
      "text/plain": [
       "'\\nThis default behavior of sequential NumPy functions can be overwritten by specifying the keyword argument \\naxis within the sequential function. This is a very useful and common thing to do. We will carefully study \\nwhat the axis argument is used for in these and other NumPy functions.\\n'"
      ]
     },
     "execution_count": 13,
     "metadata": {},
     "output_type": "execute_result"
    }
   ],
   "source": [
    "# Array generalization of any dimensonality and shape\n",
    "\n",
    "# Sequentia functions of NumPy\n",
    "x = np.array([1, 2, 5])\n",
    "x\n",
    "\n",
    "print(x.sum())\n",
    "\n",
    "print(np.round(x.mean()))\n",
    "\n",
    "# sequential functions of n-dimensional array\n",
    "x = np.array([[0, 1], [2, 3], [3, 5]])\n",
    "print(x.sum()) # same as invoke np.sum(x)\n",
    "print(np.sum(x))\n",
    "\n",
    "'''\n",
    "This default behavior of sequential NumPy functions can be overwritten by specifying the keyword argument \n",
    "axis within the sequential function. This is a very useful and common thing to do. We will carefully study \n",
    "what the axis argument is used for in these and other NumPy functions.\n",
    "'''"
   ]
  },
  {
   "cell_type": "code",
   "execution_count": 29,
   "metadata": {},
   "outputs": [
    {
     "name": "stdout",
     "output_type": "stream",
     "text": [
      "16\n",
      "[ 4 12]\n",
      "[4 5 7]\n",
      "16\n"
     ]
    },
    {
     "data": {
      "text/plain": [
       "array([ 4, 12])"
      ]
     },
     "execution_count": 29,
     "metadata": {},
     "output_type": "execute_result"
    }
   ],
   "source": [
    "# Specifying the axis keyword in sequential NumPy functions\n",
    "# creating a 3-2 array\n",
    "\n",
    "x = np.array([[1, 3], [1, 4], [2,5]])\n",
    "\n",
    "'''\n",
    "The axis argument thus specifies which axis or axes are traversed to produce the input sequences \n",
    "for the sequential function to act on. One sequence is designated for each valid combination of \n",
    "indices of the non-traversed axes. For example, np.sum(x, axis=0) \n",
    "says: “for each of the columns of x, sum over its rows”. \n",
    "'''\n",
    "\n",
    "print(np.sum(x)) # same as sum over axis=(0,1)\n",
    "# sum over axis-0, within axis-1\n",
    "print(np.sum(x, axis=0))\n",
    "# sum over axis-1, within axis-0\n",
    "print(np.sum(x, axis=1))\n",
    "# sum over axis 0 and axis 1\n",
    "print(np.sum(x, axis=(0,1)))\n",
    "\n",
    "x.sum(axis=0) # same as np.sum(x, axis=0), pretty useful"
   ]
  },
  {
   "cell_type": "code",
   "execution_count": 39,
   "metadata": {},
   "outputs": [
    {
     "name": "stdout",
     "output_type": "stream",
     "text": [
      "[ 0  1  2  3  4  5  6  7  8  9 10 11 12 13 14 15 16 17 18 19 20 21 22 23]\n"
     ]
    },
    {
     "data": {
      "text/plain": [
       "array([[[ 0,  1,  2],\n",
       "        [ 3,  4,  5]],\n",
       "\n",
       "       [[ 6,  7,  8],\n",
       "        [ 9, 10, 11]],\n",
       "\n",
       "       [[12, 13, 14],\n",
       "        [15, 16, 17]],\n",
       "\n",
       "       [[18, 19, 20],\n",
       "        [21, 22, 23]]])"
      ]
     },
     "execution_count": 39,
     "metadata": {},
     "output_type": "execute_result"
    }
   ],
   "source": [
    "'''\n",
    "How to use axis-argument within a multi-dimensional array\n",
    "'''\n",
    "\n",
    "x = np.arange(24)\n",
    "print(x)\n",
    "\n",
    "x.reshape(4,2,3)\n",
    "# Continue (axis-argument) - http://www.pythonlikeyoumeanit.com/Module3_IntroducingNumpy/VectorizedOperations.html#NumPy%E2%80%99s-Mathematical-Functions"
   ]
  },
  {
   "cell_type": "code",
   "execution_count": null,
   "metadata": {},
   "outputs": [],
   "source": []
  }
 ],
 "metadata": {
  "kernelspec": {
   "display_name": "Python 3",
   "language": "python",
   "name": "python3"
  },
  "language_info": {
   "codemirror_mode": {
    "name": "ipython",
    "version": 3
   },
   "file_extension": ".py",
   "mimetype": "text/x-python",
   "name": "python",
   "nbconvert_exporter": "python",
   "pygments_lexer": "ipython3",
   "version": "3.8.8"
  }
 },
 "nbformat": 4,
 "nbformat_minor": 4
}
