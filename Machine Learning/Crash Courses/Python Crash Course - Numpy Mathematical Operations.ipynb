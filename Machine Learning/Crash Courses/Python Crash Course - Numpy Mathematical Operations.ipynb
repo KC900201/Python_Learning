{
 "cells": [
  {
   "cell_type": "code",
   "execution_count": 3,
   "metadata": {},
   "outputs": [
    {
     "name": "stdout",
     "output_type": "stream",
     "text": [
      "[[0 1]\n",
      " [4 5]]\n",
      "[[ 8  9]\n",
      " [12 13]]\n",
      "[[2 3]\n",
      " [6 7]]\n"
     ]
    },
    {
     "data": {
      "text/plain": [
       "array([[20, 24],\n",
       "       [36, 40]])"
      ]
     },
     "execution_count": 3,
     "metadata": {},
     "output_type": "execute_result"
    }
   ],
   "source": [
    "# Mathematical functions of Numpy\n",
    "'''\n",
    "Official documentation: https://numpy.org/doc/stable/reference/ufuncs.html#math-operations\n",
    "'''\n",
    "\n",
    "# Numpy Array Broadcasting\n",
    "'''\n",
    "Apply binary NumPy functions to arrays of unlike shapes. \n",
    "Exp: adding a single-shape(2,) array with ten of such arrays, which are stored as a single shape-(10,2) array\n",
    "'''\n",
    "\n",
    "import numpy as np\n",
    "\n",
    "x = np.array([[10, 2],\n",
    "              [3,  5]])\n",
    "\n",
    "y = np.array([[11, 3], \n",
    "              [23, 45]])\n",
    "\n",
    "np.add(x, y)\n",
    "\n",
    "# add column 0 of x with row-1 of y\n",
    "np.add(x[:, 1], y[0, :])\n",
    "\n",
    "# add row-1 of y with column 0 of x\n",
    "# np.add(y[1, :], x[:, 0])\n",
    "\n",
    "# Exp: binary functions of NumPy array\n",
    "x = np.array([[0, 1, 2, 3],\n",
    "              [4, 5, 6, 7],\n",
    "              [8, 9, 10, 11],\n",
    "              [12, 13, 14, 15]])\n",
    "\n",
    "print(x[:2, :2])\n",
    "print(x[-2:,:2])\n",
    "print(x[:2, -2:])\n",
    "\n",
    "# top-left  top-right    bottom-left  bottom-right\n",
    "x[:2, :2] + x[:2, -2:] + x[-2:, :2] + x[-2:, -2:]"
   ]
  },
  {
   "cell_type": "code",
   "execution_count": 4,
   "metadata": {},
   "outputs": [
    {
     "data": {
      "text/plain": [
       "array([2.07944154, 2.19722458])"
      ]
     },
     "execution_count": 4,
     "metadata": {},
     "output_type": "execute_result"
    }
   ],
   "source": [
    "# Example of Unary functions of NumPy Math\n",
    "# Log function\n",
    "x = np.array([[0, 1, 2, 3],\n",
    "             [4, 5, 6, 7],\n",
    "             [8, 9, 10, 11],\n",
    "             [12, 13, 14, 15]])\n",
    "\n",
    "np.log(x[2, 0:2])"
   ]
  },
  {
   "cell_type": "code",
   "execution_count": 11,
   "metadata": {},
   "outputs": [
    {
     "name": "stdout",
     "output_type": "stream",
     "text": [
      "[0. 1. 2.]\n",
      "[0. 1. 2.]\n"
     ]
    },
    {
     "data": {
      "text/plain": [
       "array([0., 1., 4.])"
      ]
     },
     "execution_count": 11,
     "metadata": {},
     "output_type": "execute_result"
    }
   ],
   "source": [
    "# Binary functions\n",
    "# Continue 4/11/2022 (evening)\n",
    "\n",
    "x = np.array([0., 1., 2.])\n",
    "y = np.array([0., 1., 2.])\n",
    "\n",
    "print(x)\n",
    "print(y)\n",
    "\n",
    "np.multiply(x,y)"
   ]
  },
  {
   "cell_type": "code",
   "execution_count": 19,
   "metadata": {},
   "outputs": [
    {
     "name": "stdout",
     "output_type": "stream",
     "text": [
      "[[20 24]\n",
      " [36 40]]\n"
     ]
    }
   ],
   "source": [
    "# Add 4 quadrants of x into a shape(2, 2) output\n",
    "x = np.array([[0, 1, 2, 3],\n",
    "              [4, 5, 6, 7],\n",
    "              [8, 9, 10, 11],\n",
    "              [12, 13, 14, 15]])\n",
    "\n",
    "# print(x[:2, :2])\n",
    "# print(x[-2:,:2])\n",
    "# print(x[:2, -2:])\n",
    "# print(x[-2:, -2:]\n",
    "\n",
    "y = x[:2, :2] + x[-2:,:2] + x[:2, -2:] + x[-2:, -2:]  \n",
    "print(y)"
   ]
  },
  {
   "cell_type": "code",
   "execution_count": null,
   "metadata": {},
   "outputs": [],
   "source": [
    "# Array generalization of any dimensonality and shape\n",
    "# Continue on - http://www.pythonlikeyoumeanit.com/Module3_IntroducingNumpy/VectorizedOperations.html#NumPy%E2%80%99s-Mathematical-Functions"
   ]
  }
 ],
 "metadata": {
  "kernelspec": {
   "display_name": "Python 3",
   "language": "python",
   "name": "python3"
  },
  "language_info": {
   "codemirror_mode": {
    "name": "ipython",
    "version": 3
   },
   "file_extension": ".py",
   "mimetype": "text/x-python",
   "name": "python",
   "nbconvert_exporter": "python",
   "pygments_lexer": "ipython3",
   "version": "3.8.8"
  }
 },
 "nbformat": 4,
 "nbformat_minor": 4
}
