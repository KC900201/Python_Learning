{
 "cells": [
  {
   "cell_type": "code",
   "execution_count": 4,
   "metadata": {},
   "outputs": [
    {
     "data": {
      "text/plain": [
       "{0, 1, 4, 16}"
      ]
     },
     "execution_count": 4,
     "metadata": {},
     "output_type": "execute_result"
    }
   ],
   "source": [
    "# Creating a  set\n",
    "{1, 3.4, \"apple\", False, (1, 2, 3)}\n",
    "\n",
    "# Initialize set via set-comprehension\n",
    "{i ** 2 for i in range(5) if i != 3}"
   ]
  },
  {
   "cell_type": "code",
   "execution_count": 8,
   "metadata": {},
   "outputs": [
    {
     "name": "stdout",
     "output_type": "stream",
     "text": [
      "<class 'set'>\n",
      "set()\n"
     ]
    }
   ],
   "source": [
    "a = {1, 232.2, False, 'abbb'}\n",
    "print(type(a))\n",
    "\n",
    "b  = set()\n",
    "print(b)"
   ]
  },
  {
   "cell_type": "code",
   "execution_count": 10,
   "metadata": {},
   "outputs": [
    {
     "name": "stdout",
     "output_type": "stream",
     "text": [
      "True\n"
     ]
    },
    {
     "data": {
      "text/plain": [
       "['a', 'b', 'c']"
      ]
     },
     "execution_count": 10,
     "metadata": {},
     "output_type": "execute_result"
    }
   ],
   "source": [
    "# checking membership in a set\n",
    "print(2 in {1, 2, 3})\n",
    "\n",
    "# iterating over a set (the order of iteration is random)\n",
    "[i for i in {\"a\", \"b\", \"c\"}]"
   ]
  },
  {
   "cell_type": "code",
   "execution_count": 2,
   "metadata": {},
   "outputs": [
    {
     "name": "stdout",
     "output_type": "stream",
     "text": [
      "{1, 2, 3, 4, 'apple'}\n",
      "5\n"
     ]
    }
   ],
   "source": [
    "# Storing unique items in set\n",
    "x = {1, 1, 2, 2, 3, 4, 'apple', 'apple'}\n",
    "print(x)\n",
    "print(len(x))"
   ]
  },
  {
   "cell_type": "code",
   "execution_count": 7,
   "metadata": {},
   "outputs": [
    {
     "name": "stdout",
     "output_type": "stream",
     "text": [
      "{'c', 'h', 'b', 'd', 'f', 'a', 'g'}\n",
      "{'b', 'a'}\n"
     ]
    },
    {
     "data": {
      "text/plain": [
       "{'c', 'd', 'f', 'g', 'h'}"
      ]
     },
     "execution_count": 7,
     "metadata": {},
     "output_type": "execute_result"
    }
   ],
   "source": [
    "# Demonstrating exhaustive functions in sets\n",
    "x = {'a', 'b', 'c', 'd'}\n",
    "y = {'a', 'b', 'f', 'g', 'h'}\n",
    "\n",
    "# Union\n",
    "print(x | y)\n",
    "x.union(y)\n",
    "# Intersection\n",
    "print(x & y)\n",
    "x.intersection(y)\n",
    "# Symmetric\n",
    "x ^ y"
   ]
  },
  {
   "cell_type": "code",
   "execution_count": 8,
   "metadata": {},
   "outputs": [
    {
     "name": "stdout",
     "output_type": "stream",
     "text": [
      "1.03\n",
      "2.45\n",
      "3.4800000000000004\n",
      "1.03\n"
     ]
    },
    {
     "data": {
      "text/plain": [
       "deque([0, 1, 2, 3])"
      ]
     },
     "execution_count": 8,
     "metadata": {},
     "output_type": "execute_result"
    }
   ],
   "source": [
    "# Describe the use of Collections Module\n",
    "# Named Tuple\n",
    "from collections import namedtuple\n",
    "\n",
    "coordinates = namedtuple('coordinates', ['x', 'y', 'z'])\n",
    "\n",
    "r = coordinates(1.03, 2.45, 4.34)\n",
    "\n",
    "print(r.x)\n",
    "print(r.y)\n",
    "\n",
    "sum = r.x + r.y\n",
    "print(sum)\n",
    "\n",
    "# Access contents by indexing / slicing\n",
    "print(r[0])\n",
    "\n",
    "# Default Dictionary\n",
    "from collections import defaultdict\n",
    "\n",
    "example_default_dict = defaultdict(list) # mapping a missing key to list()\n",
    "example_default_dict\n",
    "\n",
    "# \"apple\" is not a key, so the default mapping \"apple\" -> list() is created\n",
    "example_default_dict[\"apple\"] \n",
    "example_default_dict[\"apple\"] = \"988 SingAlong\" # Assigning a value to key 'apple'\n",
    "\n",
    "example_default_dict\n",
    "example_default_dict[\"apple\"]\n",
    "\n",
    "# Counter\n",
    "from collections import Counter\n",
    "# Note: We will \"normalize\" our text by making it all lowercase.\n",
    "# We will then split the string by its spaces, storing the resulting\n",
    "# tokens in a list. For real text, we would also want to remove punctuation\n",
    "text_1 = \"The cat in the hat\"\n",
    "text_1 = text_1.lower().split()\n",
    "text_1\n",
    "\n",
    "word_distr = Counter(text_1)  # tally the unique objects in `text_1`\n",
    "word_distr\n",
    "Counter({'cat': 1, 'hat': 1, 'in': 1, 'the': 2})\n",
    "\n",
    "# feed additional items to the counter by \"update\"\n",
    "text_2 = \"The apple in the tree\"\n",
    "text_2 = text_2.lower().split()\n",
    "word_distr.update(text_2)\n",
    "word_distr\n",
    "Counter({'apple': 1, 'cat': 1, 'hat': 1, 'in': 2, 'the': 4, 'tree': 1})\n",
    "\n",
    "# get the top-2 most common words, along with their counts\n",
    "word_distr.most_common(2)\n",
    "[('the', 4), ('in', 2)]\n",
    "\n",
    "# get the count for the word \"tree\"\n",
    "word_distr[\"tree\"]\n",
    "\n",
    "# deque\n",
    "from collections import deque\n",
    "my_deque = deque([1,2,3])\n",
    "my_deque.appendleft(0)\n",
    "my_deque"
   ]
  }
 ],
 "metadata": {
  "kernelspec": {
   "display_name": "Python 3",
   "language": "python",
   "name": "python3"
  },
  "language_info": {
   "codemirror_mode": {
    "name": "ipython",
    "version": 3
   },
   "file_extension": ".py",
   "mimetype": "text/x-python",
   "name": "python",
   "nbconvert_exporter": "python",
   "pygments_lexer": "ipython3",
   "version": "3.8.8"
  }
 },
 "nbformat": 4,
 "nbformat_minor": 2
}
