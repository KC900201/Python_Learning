{
 "cells": [
  {
   "cell_type": "code",
   "execution_count": 9,
   "metadata": {},
   "outputs": [
    {
     "name": "stdout",
     "output_type": "stream",
     "text": [
      "[[ 0.  0.  5. ...  0.  0.  0.]\n",
      " [ 0.  0.  0. ... 10.  0.  0.]\n",
      " [ 0.  0.  0. ... 16.  9.  0.]\n",
      " ...\n",
      " [ 0.  0.  1. ...  6.  0.  0.]\n",
      " [ 0.  0.  2. ... 12.  0.  0.]\n",
      " [ 0.  0. 10. ... 12.  1.  0.]]\n"
     ]
    },
    {
     "data": {
      "text/plain": [
       "array([0, 1, 2, ..., 8, 9, 8])"
      ]
     },
     "execution_count": 9,
     "metadata": {},
     "output_type": "execute_result"
    }
   ],
   "source": [
    "import sklearn\n",
    "\n",
    "# Loading example dataset\n",
    "from sklearn import datasets\n",
    "\n",
    "'''\n",
    "A dataset is a dictionary-like object that holds all the data and some metadata about the data. \n",
    "This data is stored in the .data member, which is a n_samples, n_features array. In the case of supervised problem, \n",
    "one or more response variables are stored in the .target member\n",
    "'''\n",
    "\n",
    "iris = datasets.load_iris()\n",
    "digits = datasets.load_digits()\n",
    "\n",
    "# dataset.data -> access to features to use to classify digits samples\n",
    "print(digits.data)\n",
    "# print(iris.data)\n",
    "\n",
    "# dataset.target -> access to ground truth for digit dataset\n",
    "digits.target\n",
    "\n",
    "'''\n",
    "data is always a 2D array, shape (n_samples, n_features)\n",
    "'''"
   ]
  },
  {
   "cell_type": "code",
   "execution_count": 20,
   "metadata": {},
   "outputs": [
    {
     "data": {
      "text/plain": [
       "array([8])"
      ]
     },
     "execution_count": 20,
     "metadata": {},
     "output_type": "execute_result"
    }
   ],
   "source": [
    "# learning and predicting\n",
    "from sklearn import svm\n",
    "# example using support vector classification\n",
    "\n",
    "'''\n",
    "In scikit-learn, an estimator for classification is a Python object that implements the methods fit(X, y) and predict(T).\n",
    "'''\n",
    "clf = svm.SVC(gamma=0.001, C=100.)\n",
    "\n",
    "# Important to choose the right parameters of the model for prediction. Use 'grid search' and 'cross validation'\n",
    "\n",
    "clf.fit(digits.data[:-1], digits.target[:-1])\n",
    "\n",
    "# Now clf can be used to predict new values\n",
    "clf.predict(digits.data[0::])\n",
    "clf.predict(digits.data[-1:])"
   ]
  }
 ],
 "metadata": {
  "kernelspec": {
   "display_name": "Python 3",
   "language": "python",
   "name": "python3"
  },
  "language_info": {
   "codemirror_mode": {
    "name": "ipython",
    "version": 3
   },
   "file_extension": ".py",
   "mimetype": "text/x-python",
   "name": "python",
   "nbconvert_exporter": "python",
   "pygments_lexer": "ipython3",
   "version": "3.8.8"
  }
 },
 "nbformat": 4,
 "nbformat_minor": 4
}
