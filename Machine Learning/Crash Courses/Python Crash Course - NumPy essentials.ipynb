{
 "cells": [
  {
   "cell_type": "code",
   "execution_count": 2,
   "metadata": {},
   "outputs": [
    {
     "name": "stdout",
     "output_type": "stream",
     "text": [
      "[0 1 2 3 4 5]\n"
     ]
    },
    {
     "data": {
      "text/plain": [
       "numpy.ndarray"
      ]
     },
     "execution_count": 2,
     "metadata": {},
     "output_type": "execute_result"
    }
   ],
   "source": [
    "# Basic immports\n",
    "import numpy as np\n",
    "\n",
    "x = np.array([0, 1, 2, 3, 4, 5])\n",
    "print(x)\n",
    "\n",
    "type(x)"
   ]
  },
  {
   "cell_type": "code",
   "execution_count": 13,
   "metadata": {},
   "outputs": [
    {
     "name": "stdout",
     "output_type": "stream",
     "text": [
      "[[          0           1           0]\n",
      " [-1970898431           0   781532673]]\n",
      "[[          0           1]\n",
      " [          0 -1970898431]\n",
      " [          0   781532673]]\n"
     ]
    },
    {
     "data": {
      "text/plain": [
       "array([ 5.00000000e-01,  9.97782528e+08, -2.99837435e+07])"
      ]
     },
     "execution_count": 13,
     "metadata": {},
     "output_type": "execute_result"
    }
   ],
   "source": [
    "# reshaping array n row, i columns\n",
    "x = x.reshape(2, 3)\n",
    "\n",
    "print(x)\n",
    "\n",
    "x = x.reshape(3, 2)\n",
    "print(x)\n",
    "\n",
    "x = x**2\n",
    "x\n",
    "\n",
    "x = np.power(x, 2)\n",
    "x\n",
    "\n",
    "# calculate mean value along the three distinct rows of our data\n",
    "np.mean(x, axis=1)"
   ]
  },
  {
   "cell_type": "code",
   "execution_count": 18,
   "metadata": {},
   "outputs": [
    {
     "data": {
      "text/plain": [
       "array([[0, 1, 2],\n",
       "       [3, 4, 5]])"
      ]
     },
     "execution_count": 18,
     "metadata": {},
     "output_type": "execute_result"
    }
   ],
   "source": [
    "# use broadcasting to rais each column of x to a different power\n",
    "y = np.array([0, 1, 2, 3, 4, 5, 6, 7, 8])\n",
    "y = y.reshape(3,3)\n",
    "y ** np.array([0., 1., 2.])\n",
    "\n",
    "# Array indexing\n",
    "# access 2nd and 3rd columns\n",
    "y[:2, :3]"
   ]
  },
  {
   "cell_type": "code",
   "execution_count": 22,
   "metadata": {},
   "outputs": [
    {
     "data": {
      "text/plain": [
       "array([[1, 0],\n",
       "       [3, 2]])"
      ]
     },
     "execution_count": 22,
     "metadata": {},
     "output_type": "execute_result"
    }
   ],
   "source": [
    "#  Accessing N-dimensional array\n",
    "\n",
    "# Example of 3D-array\n",
    "x = np.array([[[0,1], [2,3]], [[4,5], [6,7]]])\n",
    "# get: sheet-0, both rows, flip order \n",
    "x[0, :, ::-1]"
   ]
  },
  {
   "cell_type": "code",
   "execution_count": 32,
   "metadata": {},
   "outputs": [
    {
     "name": "stdout",
     "output_type": "stream",
     "text": [
      "94\n",
      "[94 99 74]\n"
     ]
    },
    {
     "data": {
      "text/plain": [
       "array([93, 98, 83])"
      ]
     },
     "execution_count": 32,
     "metadata": {},
     "output_type": "execute_result"
    }
   ],
   "source": [
    "# Two-dimensional arrays\n",
    "grades = np.array([[93, 94],[98, 99], [83, 74]])\n",
    "grades\n",
    "\n",
    "grades.shape\n",
    "\n",
    "# 2D-array indexing\n",
    "# row 0, col 1\n",
    "print(grades[0, 1])\n",
    "# using -ve indices\n",
    "grades[-1, 0]\n",
    "# Accessing multiple elements\n",
    "print(grades[0:3, 1])\n",
    "grades[0:3, 0]"
   ]
  },
  {
   "cell_type": "code",
   "execution_count": 37,
   "metadata": {},
   "outputs": [
    {
     "name": "stdout",
     "output_type": "stream",
     "text": [
      "[[[23, 23], [47, 23]], [[456, 56], [34, 65]]]\n",
      "[[[ 23  23]\n",
      "  [ 47  23]]\n",
      "\n",
      " [[456  56]\n",
      "  [ 34  65]]]\n"
     ]
    },
    {
     "data": {
      "text/plain": [
       "array([[456,  56],\n",
       "       [ 34,  65]])"
      ]
     },
     "execution_count": 37,
     "metadata": {},
     "output_type": "execute_result"
    }
   ],
   "source": [
    "# 3-D array\n",
    "three_d_array = [[[23, 23], \n",
    "                  [47,23]], \n",
    "                 [[456, 56], \n",
    "                  [34, 65]\n",
    "                ]]\n",
    "\n",
    "print(three_d_array)\n",
    "\n",
    "# Using NumPy array\n",
    "three_d_array = np.array([[[23, 23], \n",
    "                           [47,23]], \n",
    "                          [[456, 56], \n",
    "                           [34, 65]]])\n",
    "\n",
    "print(three_d_array)\n",
    "\n",
    "# Retrieving a single element from a 3D-array\n",
    "three_d_array[0, 1, 0] # first dimension, row 1, col 0\n",
    "three_d_array[:, 0, 0] # specify elements in row-0 and column-0 of both sheets\n",
    "three_d_array[1]"
   ]
  },
  {
   "cell_type": "code",
   "execution_count": 46,
   "metadata": {},
   "outputs": [
    {
     "name": "stdout",
     "output_type": "stream",
     "text": [
      "[[ 2  5  8]\n",
      " [11 14 17]\n",
      " [20 23 26]]\n",
      "[[ 3  4  5]\n",
      " [12 13 14]]\n",
      "[2 5]\n",
      "[[11 10  9]\n",
      " [14 13 12]\n",
      " [17 16 15]]\n",
      "[[11 10  9]\n",
      " [14 13 12]\n",
      " [17 16 15]]\n"
     ]
    }
   ],
   "source": [
    "# Multi-dimensional indexing\n",
    "arr = np.array([[[ 0,  1,  2],\n",
    "                 [ 3,  4,  5],\n",
    "                 [ 6,  7,  8]],\n",
    "\n",
    "                [[ 9, 10, 11],\n",
    "                 [12, 13, 14],\n",
    "                 [15, 16, 17]],\n",
    "\n",
    "                [[18, 19, 20],\n",
    "                 [21, 22, 23],\n",
    "                 [24, 25, 26]]])\n",
    "\n",
    "# transpose array\n",
    "# print(arr[0].shape)\n",
    "trans_one = arr[0].T\n",
    "# print(trans_one)\n",
    "\n",
    "# Indexing\n",
    "# a\n",
    "print(arr[:, :, 2])\n",
    "# b\n",
    "print(arr[0:2, 1, :])\n",
    "# c\n",
    "print(arr[0, 0:2, 2])\n",
    "# d\n",
    "# print(arr[1, 0:3, :])\n",
    "# print(arr[1, :, :]) # more simp0ified way\n",
    "print(np.fliplr(arr[1,:,:])) # URL: https://www.geeksforgeeks.org/how-to-reverse-column-order-in-a-matrix-with-python/\n",
    "# Reference anser\n",
    "print(arr[1, :, ::-1])"
   ]
  },
  {
   "cell_type": "code",
   "execution_count": 1,
   "metadata": {},
   "outputs": [
    {
     "ename": "NameError",
     "evalue": "name 'np' is not defined",
     "output_type": "error",
     "traceback": [
      "\u001b[1;31m---------------------------------------------------------------------------\u001b[0m",
      "\u001b[1;31mNameError\u001b[0m                                 Traceback (most recent call last)",
      "\u001b[1;32m<ipython-input-1-26e7ef6b396d>\u001b[0m in \u001b[0;36m<module>\u001b[1;34m\u001b[0m\n\u001b[0;32m      1\u001b[0m \u001b[1;31m# Zero dimensional arrays\u001b[0m\u001b[1;33m\u001b[0m\u001b[1;33m\u001b[0m\u001b[1;33m\u001b[0m\u001b[0m\n\u001b[1;32m----> 2\u001b[1;33m \u001b[0mx\u001b[0m \u001b[1;33m=\u001b[0m \u001b[0mnp\u001b[0m\u001b[1;33m.\u001b[0m\u001b[0marray\u001b[0m\u001b[1;33m(\u001b[0m\u001b[1;36m15.2\u001b[0m\u001b[1;33m)\u001b[0m\u001b[1;33m\u001b[0m\u001b[1;33m\u001b[0m\u001b[0m\n\u001b[0m\u001b[0;32m      3\u001b[0m \u001b[1;33m\u001b[0m\u001b[0m\n\u001b[0;32m      4\u001b[0m \u001b[0mx\u001b[0m\u001b[1;33m\u001b[0m\u001b[1;33m\u001b[0m\u001b[0m\n\u001b[0;32m      5\u001b[0m \u001b[1;31m# can only use arr.item() to access 0-d array\u001b[0m\u001b[1;33m\u001b[0m\u001b[1;33m\u001b[0m\u001b[1;33m\u001b[0m\u001b[0m\n",
      "\u001b[1;31mNameError\u001b[0m: name 'np' is not defined"
     ]
    }
   ],
   "source": [
    "# Zero dimensional arrays\n",
    "x = np.array(15.2)\n",
    "\n",
    "x\n",
    "# can only use arr.item() to access 0-d array\n",
    "x.item()\n",
    "# Error\n",
    "x[0]"
   ]
  },
  {
   "cell_type": "code",
   "execution_count": 47,
   "metadata": {},
   "outputs": [
    {
     "name": "stdout",
     "output_type": "stream",
     "text": [
      "[[[ 0  1]\n",
      "  [ 2  3]]\n",
      "\n",
      " [[ 4  5]\n",
      "  [ 6  7]]\n",
      "\n",
      " [[ 9 11]\n",
      "  [12 13]]]\n",
      "[[[ 0  1  2]\n",
      "  [ 3  4  5]\n",
      "  [ 6  7  8]\n",
      "  [ 9 10 11]]\n",
      "\n",
      " [[12 13 14]\n",
      "  [15 16 17]\n",
      "  [18 19 20]\n",
      "  [21 22 23]]\n",
      "\n",
      " [[24 25 26]\n",
      "  [27 28 29]\n",
      "  [30 31 32]\n",
      "  [33 34 35]]]\n",
      "[[[ 0  1  2]\n",
      "  [ 3  4  5]\n",
      "  [ 6  7  8]\n",
      "  [ 9 10 11]]\n",
      "\n",
      " [[12 13 14]\n",
      "  [15 16 17]\n",
      "  [18 19 20]\n",
      "  [21 22 23]]\n",
      "\n",
      " [[24 25 26]\n",
      "  [27 28 29]\n",
      "  [30 31 32]\n",
      "  [33 34 35]]]\n",
      "[[[ 0  1  2  3  4  5  6  7  8  9 10 11]]\n",
      "\n",
      " [[12 13 14 15 16 17 18 19 20 21 22 23]]\n",
      "\n",
      " [[24 25 26 27 28 29 30 31 32 33 34 35]]]\n"
     ]
    }
   ],
   "source": [
    "# Array manipulations\n",
    "x = np.array([[1, 2, 3, 4], [5,6,7,8]])\n",
    "x.shape\n",
    "# Reshape\n",
    "'''Prerequisites: the size the the initial array must match the size of the to-be reshaped array:'''\n",
    "y = x.reshape(4,2)\n",
    "# Multi-dimension array\n",
    "x = np.array([[0, 1, 2, 3], [4, 5, 6, 7], [9, 11, 12, 13]])\n",
    "print(x.reshape(3, 2, 2))\n",
    "\n",
    "# Flatten array\n",
    "flat = y.flatten('K')\n",
    "flat\n",
    "\n",
    "# Auto arrange array?\n",
    "a = np.arange(36) # assigning an array of values 0 to 35, n = size limit\n",
    "# Valid reshaping\n",
    "print(a.reshape(3, 4, 3)) # Remember shape must match the size of array\n",
    "# print(a.reshape(3, 4, 2)) # wrong example\n",
    "# print(a.reshape(2, 6, 3))\n",
    "print(a.reshape(3, 4, -1)) # NumPy replaces -1 with 36/(3*4) -> 3\n",
    "# Using -1 to specify only one dimension\n",
    "print(a.reshape(3, 1, -1)) # not valid\n",
    "# print(a.reshape(3, -1, -1)) # not valid\n",
    "# Transpose"
   ]
  },
  {
   "cell_type": "code",
   "execution_count": 54,
   "metadata": {},
   "outputs": [
    {
     "name": "stdout",
     "output_type": "stream",
     "text": [
      "3\n",
      "(3, 2, 4)\n",
      "24\n",
      "float64\n",
      "8\n"
     ]
    }
   ],
   "source": [
    "# Basic Array attributes\n",
    "# check number of axes (dimensions) of array\n",
    "exp = np.array([[[ 0,  1,  2,  3.123],\n",
    "                 [ 4,  5,  6,  7]],\n",
    "                  [[ 8,  9, 10, 11],\n",
    "                   [12, 13, 14, 15]],\n",
    "                  [[16, 17, 18, 19],\n",
    "                   [20, 21, 22, 23]]])\n",
    "\n",
    "print(exp.ndim)\n",
    "# shape of array\n",
    "print(exp.shape) # sheets, row, col\n",
    "# size\n",
    "print(exp.size)\n",
    "\n",
    "# Special attr\n",
    "# data type\n",
    "print(exp.dtype) # seems can detect the distinct datatype which are \n",
    "                 # different from the most, if there's a float among int, array attrbutes will change\n",
    "# item size (in bytes)\n",
    "print(exp.itemsize)\n",
    "\n"
   ]
  }
 ],
 "metadata": {
  "kernelspec": {
   "display_name": "Python 3",
   "language": "python",
   "name": "python3"
  },
  "language_info": {
   "codemirror_mode": {
    "name": "ipython",
    "version": 3
   },
   "file_extension": ".py",
   "mimetype": "text/x-python",
   "name": "python",
   "nbconvert_exporter": "python",
   "pygments_lexer": "ipython3",
   "version": "3.8.8"
  }
 },
 "nbformat": 4,
 "nbformat_minor": 2
}
