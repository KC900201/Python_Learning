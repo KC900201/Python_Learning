{
 "cells": [
  {
   "cell_type": "code",
   "execution_count": 70,
   "metadata": {},
   "outputs": [
    {
     "data": {
      "text/plain": [
       "88159019"
      ]
     },
     "execution_count": 70,
     "metadata": {},
     "output_type": "execute_result"
    }
   ],
   "source": [
    "#Q1\n",
    "def genTribo(num):\n",
    "    n_1, n_2, n_3 = 1, 0, 5\n",
    "    \n",
    "    arr_fibo = [n_1, n_2, n_3]\n",
    "    fibo_value = 0\n",
    "    \n",
    "    for i in range(3, num):\n",
    "        fibo_value = arr_fibo[i-1] + arr_fibo[i-2] + arr_fibo[i-3]\n",
    "        arr_fibo.append(fibo_value)\n",
    "    \n",
    "    return fibo_value\n",
    "\n",
    "genTribo(31)"
   ]
  },
  {
   "cell_type": "code",
   "execution_count": 11,
   "metadata": {},
   "outputs": [
    {
     "data": {
      "text/plain": [
       "1734174"
      ]
     },
     "execution_count": 11,
     "metadata": {},
     "output_type": "execute_result"
    }
   ],
   "source": [
    "def getDivisor(n):\n",
    "    total_value = 0\n",
    "            \n",
    "    for i in range(1, int(n / 2) + 1):\n",
    "        if n % i == 0:\n",
    "            if i < 2000000:\n",
    "                total_value += i\n",
    "    \n",
    "    return total_value\n",
    "\n",
    "getDivisor(1234567890)"
   ]
  },
  {
   "cell_type": "code",
   "execution_count": 65,
   "metadata": {},
   "outputs": [
    {
     "data": {
      "text/plain": [
       "1835421"
      ]
     },
     "execution_count": 65,
     "metadata": {},
     "output_type": "execute_result"
    }
   ],
   "source": [
    "def multiInverseSum(n, totalValue):\n",
    "    total_value = 0\n",
    "    marker = 0\n",
    "    for i in range(1, n):\n",
    "        total_value += 1/i\n",
    "        \n",
    "        if(total_value > 15):\n",
    "            marker = i\n",
    "            break\n",
    "    \n",
    "    return marker\n",
    "        \n",
    "multiInverseSum(100000000, 15)"
   ]
  },
  {
   "cell_type": "code",
   "execution_count": 60,
   "metadata": {},
   "outputs": [
    {
     "data": {
      "text/plain": [
       "110894536"
      ]
     },
     "execution_count": 60,
     "metadata": {},
     "output_type": "execute_result"
    }
   ],
   "source": [
    "def sumAType():\n",
    "    total_sum = 0\n",
    "    \n",
    "    for i in range(1, 20000):\n",
    "        if(i % 3 == 0):\n",
    "            total_sum += i\n",
    "        elif('3' in str(i)):\n",
    "            total_sum += i\n",
    "    \n",
    "    return total_sum\n",
    "\n",
    "sumAType()"
   ]
  },
  {
   "cell_type": "code",
   "execution_count": 62,
   "metadata": {},
   "outputs": [
    {
     "name": "stdout",
     "output_type": "stream",
     "text": [
      "1\n",
      "5\n",
      "13\n",
      "25\n",
      "41\n",
      "61\n",
      "85\n",
      "113\n",
      "145\n",
      "181\n",
      "221\n",
      "265\n",
      "313\n",
      "365\n",
      "421\n",
      "481\n",
      "545\n",
      "613\n",
      "685\n",
      "761\n",
      "841\n",
      "925\n",
      "1013\n",
      "1105\n",
      "1201\n",
      "1301\n",
      "1405\n",
      "1513\n",
      "1625\n",
      "1741\n",
      "1861\n",
      "1985\n",
      "2113\n",
      "2245\n",
      "2381\n",
      "2521\n",
      "2665\n",
      "2813\n",
      "2965\n",
      "3121\n",
      "3281\n",
      "3445\n",
      "3613\n",
      "3785\n",
      "3961\n",
      "4141\n",
      "4325\n",
      "4513\n",
      "4705\n",
      "4901\n",
      "5101\n",
      "5305\n",
      "5513\n",
      "5725\n",
      "5941\n",
      "6161\n",
      "6385\n",
      "6613\n",
      "6845\n",
      "7081\n",
      "7321\n",
      "7565\n",
      "7813\n",
      "8065\n",
      "8321\n",
      "8581\n",
      "8845\n",
      "9113\n",
      "9385\n",
      "9661\n",
      "9941\n",
      "10225\n",
      "10513\n",
      "10805\n",
      "11101\n",
      "11401\n",
      "11705\n",
      "12013\n",
      "12325\n",
      "12641\n",
      "12961\n",
      "13285\n",
      "13613\n",
      "13945\n",
      "14281\n",
      "14621\n",
      "14965\n",
      "15313\n",
      "15665\n",
      "16021\n",
      "16381\n",
      "16745\n",
      "17113\n",
      "17485\n",
      "17861\n",
      "18241\n",
      "18625\n",
      "19013\n",
      "19405\n",
      "19801\n",
      "20201\n",
      "20605\n",
      "21013\n",
      "21425\n",
      "21841\n",
      "22261\n",
      "22685\n",
      "23113\n",
      "23545\n",
      "23981\n"
     ]
    },
    {
     "data": {
      "text/plain": [
       "110"
      ]
     },
     "execution_count": 62,
     "metadata": {},
     "output_type": "execute_result"
    }
   ],
   "source": [
    "'''\n",
    "A triangle with sides of length 3, 4, and 5 is a right triangle, as indicated by the \"Pythagorean Theorem\":\n",
    "\n",
    "【Pythagorean Theorem】 In a right triangle, let the length of the sides that are adjacent to the right angle be \"a\" and \"b\", and the length of the hypotenuse be \"c\". The theorem says that a2 + b2 = c2.\n",
    "That said, since 32 + 42 = 52（ = 25), we can say it is a right triangle.\n",
    "\n",
    "Find how many right triangles exist which have area less than or equal to 6000 and which its sides' lengths are integers.\n",
    "\n",
    "※ Congruent triangles count as only one. (ex. \"3, 4, 5\" and \"5, 4, 3\").\n",
    "'''\n",
    "import math\n",
    "import numpy as np\n",
    "\n",
    "def countPythaTriangle(x):\n",
    "    total_triangle = 0\n",
    "    height = 0\n",
    "    width = 0\n",
    "    \n",
    "    for i in range (0, x):\n",
    "        height = i\n",
    "        width = i + 1\n",
    "        \n",
    "        area = (height * width) / 2\n",
    "        \n",
    "        if area <= x:\n",
    "            right = height**2 + width**2\n",
    "            print(right)\n",
    "            if(type(right) == int):\n",
    "                total_triangle +=1\n",
    "    \n",
    "    return total_triangle\n",
    "        \n",
    "countPythaTriangle(6000)"
   ]
  }
 ],
 "metadata": {
  "kernelspec": {
   "display_name": "Python 3",
   "language": "python",
   "name": "python3"
  },
  "language_info": {
   "codemirror_mode": {
    "name": "ipython",
    "version": 3
   },
   "file_extension": ".py",
   "mimetype": "text/x-python",
   "name": "python",
   "nbconvert_exporter": "python",
   "pygments_lexer": "ipython3",
   "version": "3.7.4"
  }
 },
 "nbformat": 4,
 "nbformat_minor": 2
}
