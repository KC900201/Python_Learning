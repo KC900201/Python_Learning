{
 "cells": [
  {
   "cell_type": "code",
   "execution_count": 6,
   "metadata": {},
   "outputs": [],
   "source": [
    "import numpy as np\n",
    "import my_module"
   ]
  },
  {
   "cell_type": "code",
   "execution_count": 12,
   "metadata": {},
   "outputs": [
    {
     "data": {
      "text/plain": [
       "module"
      ]
     },
     "execution_count": 12,
     "metadata": {},
     "output_type": "execute_result"
    }
   ],
   "source": [
    "# produced is a object that is an instance of module-type\n",
    "my_module\n",
    "\n",
    "# type(my_module)\n",
    "\n",
    "type(basic_math)"
   ]
  },
  {
   "cell_type": "code",
   "execution_count": 13,
   "metadata": {},
   "outputs": [
    {
     "name": "stdout",
     "output_type": "stream",
     "text": [
      "<function cube at 0x0000027794EAD5E0>\n"
     ]
    },
    {
     "data": {
      "text/plain": [
       "1024"
      ]
     },
     "execution_count": 13,
     "metadata": {},
     "output_type": "execute_result"
    }
   ],
   "source": [
    "# Testing properties in my_module.py\n",
    "my_module.some_list\n",
    "\n",
    "# Testing written function in my_module.py\n",
    "print(my_module.cube)\n",
    "\n",
    "my_module.square(32)"
   ]
  },
  {
   "cell_type": "code",
   "execution_count": 7,
   "metadata": {},
   "outputs": [
    {
     "name": "stdout",
     "output_type": "stream",
     "text": [
      "(-1+1.2246467991473532e-16j)\n"
     ]
    },
    {
     "data": {
      "text/plain": [
       "0.7853981633974483"
      ]
     },
     "execution_count": 7,
     "metadata": {},
     "output_type": "execute_result"
    }
   ],
   "source": [
    "'''\n",
    "Reading comprehension:\n",
    "Create a simple math module name `basic_math.py`. It should make available the irrational numbers and, \n",
    "and the function deg_to_rad, which converts an angle from degrees to radians.\n",
    "\n",
    "Next, import this module and compute  and compute 45 degrees in radians.\n",
    "'''\n",
    "import basic_math\n",
    "\n",
    "basic_math.PI\n",
    "basic_math.EULER\n",
    "\n",
    "print(basic_math.EULER ** (basic_math.PI * complex(0,1)))\n",
    "\n",
    "basic_math.deg_to_rad(45)\n",
    "# basic_math.exponen_pi(12)"
   ]
  },
  {
   "cell_type": "code",
   "execution_count": 3,
   "metadata": {},
   "outputs": [
    {
     "data": {
      "text/plain": [
       "9.0"
      ]
     },
     "execution_count": 3,
     "metadata": {},
     "output_type": "execute_result"
    }
   ],
   "source": [
    "# Packages (Continue 5/30/2022)\n",
    "import a_dir # self created package\n",
    "\n",
    "a_dir.sum_func(123, 234)\n",
    "a_dir.divide_func(126, 14)"
   ]
  },
  {
   "cell_type": "code",
   "execution_count": 13,
   "metadata": {},
   "outputs": [
    {
     "name": "stdout",
     "output_type": "stream",
     "text": [
      "asdff\n"
     ]
    },
    {
     "data": {
      "text/plain": [
       "23343"
      ]
     },
     "execution_count": 13,
     "metadata": {},
     "output_type": "execute_result"
    }
   ],
   "source": [
    "# Reading comprehension\n",
    "import mail\n",
    "from mail import delivery\n",
    "from mail import send_mail\n",
    "\n",
    "print(mail.send_mail('asdff'))\n",
    "delivery.get_zip()\n",
    "\n",
    "# Relative imports\n",
    "# from .. import mail"
   ]
  },
  {
   "cell_type": "code",
   "execution_count": 8,
   "metadata": {},
   "outputs": [
    {
     "data": {
      "text/plain": [
       "['C:\\\\ProgramData\\\\Anaconda3',\n",
       " 'C:\\\\ProgramData\\\\Anaconda3\\\\lib\\\\site-packages']"
      ]
     },
     "execution_count": 8,
     "metadata": {},
     "output_type": "execute_result"
    }
   ],
   "source": [
    "# Checking a package installation\n",
    "import sys\n",
    "\n",
    "sys.path\n",
    "\n",
    "# looking up site-packages\n",
    "import site\n",
    "site.getsitepackages()"
   ]
  }
 ],
 "metadata": {
  "kernelspec": {
   "display_name": "Python 3",
   "language": "python",
   "name": "python3"
  },
  "language_info": {
   "codemirror_mode": {
    "name": "ipython",
    "version": 3
   },
   "file_extension": ".py",
   "mimetype": "text/x-python",
   "name": "python",
   "nbconvert_exporter": "python",
   "pygments_lexer": "ipython3",
   "version": "3.8.8"
  }
 },
 "nbformat": 4,
 "nbformat_minor": 4
}
