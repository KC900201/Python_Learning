{
 "cells": [
  {
   "cell_type": "code",
   "execution_count": 6,
   "metadata": {},
   "outputs": [],
   "source": [
    "import numpy as np\n",
    "import my_module"
   ]
  },
  {
   "cell_type": "code",
   "execution_count": 12,
   "metadata": {},
   "outputs": [
    {
     "data": {
      "text/plain": [
       "module"
      ]
     },
     "execution_count": 12,
     "metadata": {},
     "output_type": "execute_result"
    }
   ],
   "source": [
    "# produced is a object that is an instance of module-type\n",
    "my_module\n",
    "\n",
    "# type(my_module)\n",
    "\n",
    "type(basic_math)"
   ]
  },
  {
   "cell_type": "code",
   "execution_count": 13,
   "metadata": {},
   "outputs": [
    {
     "name": "stdout",
     "output_type": "stream",
     "text": [
      "<function cube at 0x0000027794EAD5E0>\n"
     ]
    },
    {
     "data": {
      "text/plain": [
       "1024"
      ]
     },
     "execution_count": 13,
     "metadata": {},
     "output_type": "execute_result"
    }
   ],
   "source": [
    "# Testing properties in my_module.py\n",
    "my_module.some_list\n",
    "\n",
    "# Testing written function in my_module.py\n",
    "print(my_module.cube)\n",
    "\n",
    "my_module.square(32)"
   ]
  },
  {
   "cell_type": "code",
   "execution_count": 7,
   "metadata": {},
   "outputs": [
    {
     "name": "stdout",
     "output_type": "stream",
     "text": [
      "(-1+1.2246467991473532e-16j)\n"
     ]
    },
    {
     "data": {
      "text/plain": [
       "0.7853981633974483"
      ]
     },
     "execution_count": 7,
     "metadata": {},
     "output_type": "execute_result"
    }
   ],
   "source": [
    "'''\n",
    "Reading comprehension:\n",
    "Create a simple math module name `basic_math.py`. It should make available the irrational numbers and, \n",
    "and the function deg_to_rad, which converts an angle from degrees to radians.\n",
    "\n",
    "Next, import this module and compute  and compute 45 degrees in radians.\n",
    "'''\n",
    "import basic_math\n",
    "\n",
    "basic_math.PI\n",
    "basic_math.EULER\n",
    "\n",
    "print(basic_math.EULER ** (basic_math.PI * complex(0,1)))\n",
    "\n",
    "basic_math.deg_to_rad(45)\n",
    "# basic_math.exponen_pi(12)"
   ]
  },
  {
   "cell_type": "code",
   "execution_count": null,
   "metadata": {},
   "outputs": [],
   "source": [
    "# Packages (Continue 5/30/2022)"
   ]
  }
 ],
 "metadata": {
  "kernelspec": {
   "display_name": "Python 3",
   "language": "python",
   "name": "python3"
  },
  "language_info": {
   "codemirror_mode": {
    "name": "ipython",
    "version": 3
   },
   "file_extension": ".py",
   "mimetype": "text/x-python",
   "name": "python",
   "nbconvert_exporter": "python",
   "pygments_lexer": "ipython3",
   "version": "3.8.8"
  }
 },
 "nbformat": 4,
 "nbformat_minor": 4
}
