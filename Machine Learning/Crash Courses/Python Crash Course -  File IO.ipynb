{
 "cells": [
  {
   "cell_type": "code",
   "execution_count": 15,
   "metadata": {},
   "outputs": [
    {
     "data": {
      "text/plain": [
       "WindowsPath('.')"
      ]
     },
     "execution_count": 15,
     "metadata": {},
     "output_type": "execute_result"
    }
   ],
   "source": [
    "# Basics of File I/O\n",
    "from pathlib import Path\n",
    "root = Path(\".\")\n",
    "\n",
    "root"
   ]
  },
  {
   "cell_type": "code",
   "execution_count": 38,
   "metadata": {},
   "outputs": [
    {
     "name": "stdout",
     "output_type": "stream",
     "text": [
      "False\n",
      "True\n",
      "C:\\Users\\setsu\\Documents\\Projects\\Python_Learning\\Machine Learning\\Crash Courses\\data\\data1.txt\n"
     ]
    },
    {
     "data": {
      "text/plain": [
       "'data\\\\data1.txt'"
      ]
     },
     "execution_count": 38,
     "metadata": {},
     "output_type": "execute_result"
    }
   ],
   "source": [
    "# Creating a path to subsequent directory\n",
    "path_to_data1 = root / \"data\"/ \"data1.txt\"\n",
    "path_to_data1\n",
    "\n",
    "# Check if file / directory exists\n",
    "print(path_to_data1.exists())\n",
    "print(root.exists())\n",
    "\n",
    "# Absolute path\n",
    "print(path_to_data1.absolute())\n",
    "\n",
    "# Access the name of the file that the path is point\n",
    "path_to_data1.name\n",
    "\n",
    "# Create a new directory, named 'new_folder' within the root directory\n",
    "new_dir = root / \"new_folder\"\n",
    "\n",
    "if(not(new_dir.exists())):\n",
    "    new_dir.mkdir() # make directory\n",
    "\n",
    "str(path_to_data1)"
   ]
  },
  {
   "cell_type": "code",
   "execution_count": 41,
   "metadata": {},
   "outputs": [],
   "source": [
    "\"\"\"\n",
    "Opening Files\n",
    "\n",
    "Official tutorial - https://docs.python.org/3/tutorial/inputoutput.html#reading-and-writing-files\n",
    "\n",
    "Mode for file I/O:\n",
    "'r'\n",
    "'w'\n",
    "'a'\n",
    "'x'\n",
    "'+'\n",
    "\"\"\"\n",
    "path_to_file = Path(\"new_folder/file1.txt\")\n",
    "with open(path_to_file, mode=\"a\") as f:\n",
    "    # The indented space enters the \"context\" of the open file.\n",
    "    # Leaving the indented space exits the context of the opened file, forcing\n",
    "    # the file to be closed. This is ensured even if the code within the indented\n",
    "    # block causes an error.\n",
    "    f.write('\\nthis is a line.\\nThis is a second line.\\nThis is the third line.')\n",
    "\n",
    "# File closes here"
   ]
  },
  {
   "cell_type": "code",
   "execution_count": 44,
   "metadata": {},
   "outputs": [],
   "source": [
    "# Extra - saving a NumPy-array to file\n",
    "'''\n",
    "You can instead force Python to read and write strictly in terms of binary data by adding a 'b' \n",
    "to these modes: 'rb', 'wb', 'ab', 'xb', '+b'. It is important to be aware of this binary mode. \n",
    "For example, if you are saving a NumPy-array, you should open a file in the ‘wb’ or ‘xb’ modes \n",
    "so that it expects binary data to be written to it; obviously we are not saving text \n",
    "when we are saving a NumPy array of numbers.\n",
    "'''\n",
    "import numpy as np\n",
    "\n",
    "x = np.array([1, 2, 3])\n",
    "\n",
    "with open(\"array.npy\", mode=\"wb\") as f:\n",
    "    np.save(f, x)"
   ]
  },
  {
   "cell_type": "code",
   "execution_count": 51,
   "metadata": {},
   "outputs": [
    {
     "name": "stdout",
     "output_type": "stream",
     "text": [
      "this is a line.\n",
      "This is a second line.\n",
      "This is the third line.this is a line.\n",
      "This is a second line.\n",
      "This is the third line.\n",
      "this is a line.\n",
      "This is a second line.\n",
      "This is the third line.\n"
     ]
    }
   ],
   "source": [
    "# File reading\n",
    "with open(path_to_file, mode=\"r\") as f:\n",
    "    content = f.read()\n",
    "#     print(content)\n",
    "\n",
    "print(content)"
   ]
  },
  {
   "cell_type": "code",
   "execution_count": 55,
   "metadata": {},
   "outputs": [
    {
     "ename": "FileExistsError",
     "evalue": "[Errno 17] File exists: 'new_folder/a_poem.txt'",
     "output_type": "error",
     "traceback": [
      "\u001b[1;31m---------------------------------------------------------------------------\u001b[0m",
      "\u001b[1;31mFileExistsError\u001b[0m                           Traceback (most recent call last)",
      "\u001b[1;32m<ipython-input-55-2d3a3158e2ae>\u001b[0m in \u001b[0;36m<module>\u001b[1;34m\u001b[0m\n\u001b[0;32m      8\u001b[0m \u001b[0msome_text\u001b[0m\u001b[1;33m\u001b[0m\u001b[1;33m\u001b[0m\u001b[0m\n\u001b[0;32m      9\u001b[0m \u001b[1;33m\u001b[0m\u001b[0m\n\u001b[1;32m---> 10\u001b[1;33m \u001b[1;32mwith\u001b[0m \u001b[0mopen\u001b[0m\u001b[1;33m(\u001b[0m\u001b[1;34m'new_folder/a_poem.txt'\u001b[0m\u001b[1;33m,\u001b[0m \u001b[0mmode\u001b[0m\u001b[1;33m=\u001b[0m\u001b[1;34m'x'\u001b[0m\u001b[1;33m)\u001b[0m \u001b[1;32mas\u001b[0m \u001b[0mf\u001b[0m\u001b[1;33m:\u001b[0m\u001b[1;33m\u001b[0m\u001b[1;33m\u001b[0m\u001b[0m\n\u001b[0m\u001b[0;32m     11\u001b[0m     \u001b[0mf\u001b[0m\u001b[1;33m.\u001b[0m\u001b[0mwrite\u001b[0m\u001b[1;33m(\u001b[0m\u001b[0msome_text\u001b[0m\u001b[1;33m)\u001b[0m\u001b[1;33m\u001b[0m\u001b[1;33m\u001b[0m\u001b[0m\n",
      "\u001b[1;31mFileExistsError\u001b[0m: [Errno 17] File exists: 'new_folder/a_poem.txt'"
     ]
    }
   ],
   "source": [
    "# Exercise\n",
    "# Write string to a file in the present directory\n",
    "some_text = \"\"\"A bogel rolled down the hill.\n",
    "I mean *all* the way down the hill.\n",
    "A lady watched it roll.\n",
    "Way to help me out.\"\"\"\n",
    "\n",
    "some_text\n",
    "\n",
    "with open('new_folder/a_poem.txt', mode='x') as f:\n",
    "    f.write(some_text)"
   ]
  },
  {
   "cell_type": "code",
   "execution_count": 57,
   "metadata": {},
   "outputs": [
    {
     "data": {
      "text/plain": [
       "['A bogel rolled down the hill.\\n', 'A lady watched it roll.\\n']"
      ]
     },
     "execution_count": 57,
     "metadata": {},
     "output_type": "execute_result"
    }
   ],
   "source": [
    "with open('new_folder/a_poem.txt', mode='r') as open_file:\n",
    "#     out = [line for line in open_file]\n",
    "    out = [line for line in open_file if line.startswith('A')]\n",
    "\n",
    "out"
   ]
  }
 ],
 "metadata": {
  "kernelspec": {
   "display_name": "Python 3",
   "language": "python",
   "name": "python3"
  },
  "language_info": {
   "codemirror_mode": {
    "name": "ipython",
    "version": 3
   },
   "file_extension": ".py",
   "mimetype": "text/x-python",
   "name": "python",
   "nbconvert_exporter": "python",
   "pygments_lexer": "ipython3",
   "version": "3.8.8"
  }
 },
 "nbformat": 4,
 "nbformat_minor": 4
}
