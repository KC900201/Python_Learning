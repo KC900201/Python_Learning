{
 "cells": [
  {
   "cell_type": "code",
   "execution_count": 1,
   "metadata": {},
   "outputs": [
    {
     "data": {
      "text/plain": [
       "WindowsPath('.')"
      ]
     },
     "execution_count": 1,
     "metadata": {},
     "output_type": "execute_result"
    }
   ],
   "source": [
    "# Basics of File I/O\n",
    "from pathlib import Path\n",
    "root = Path(\".\")\n",
    "\n",
    "root"
   ]
  },
  {
   "cell_type": "code",
   "execution_count": 11,
   "metadata": {},
   "outputs": [
    {
     "name": "stdout",
     "output_type": "stream",
     "text": [
      "False\n",
      "True\n",
      "C:\\Users\\setsu\\Documents\\Projects\\Python_Learning\\Machine Learning\\Crash Courses\\data\\data1.txt\n"
     ]
    },
    {
     "data": {
      "text/plain": [
       "'data\\\\data1.txt'"
      ]
     },
     "execution_count": 11,
     "metadata": {},
     "output_type": "execute_result"
    }
   ],
   "source": [
    "# Creating a path to subsequent directory\n",
    "path_to_data1 = root / \"data\"/ \"data1.txt\"\n",
    "path_to_data1\n",
    "\n",
    "# Check if file / directory exists\n",
    "print(path_to_data1.exists())\n",
    "print(root.exists())\n",
    "\n",
    "# Absolute path\n",
    "print(path_to_data1.absolute())\n",
    "\n",
    "# Access the name of the file that the path is point\n",
    "path_to_data1.name\n",
    "\n",
    "# Create a new directory, named 'new_folder' within the root directory\n",
    "new_dir = root / \"files\"\n",
    "\n",
    "if(not(new_dir.exists())):\n",
    "    new_dir.mkdir() # make directory\n",
    "\n",
    "str(path_to_data1)"
   ]
  },
  {
   "cell_type": "code",
   "execution_count": 12,
   "metadata": {},
   "outputs": [],
   "source": [
    "\"\"\"\n",
    "Opening Files\n",
    "\n",
    "Official tutorial - https://docs.python.org/3/tutorial/inputoutput.html#reading-and-writing-files\n",
    "\n",
    "Mode for file I/O:\n",
    "'r'\n",
    "'w'\n",
    "'a'\n",
    "'x'\n",
    "'+'\n",
    "\"\"\"\n",
    "path_to_file = Path(\"files/file1.txt\")\n",
    "with open(path_to_file, mode=\"a\") as f:\n",
    "    # The indented space enters the \"context\" of the open file.\n",
    "    # Leaving the indented space exits the context of the opened file, forcing\n",
    "    # the file to be closed. This is ensured even if the code within the indented\n",
    "    # block causes an error.\n",
    "    f.write('\\nthis is a line.\\nThis is a second line.\\nThis is the third line.')\n",
    "\n",
    "# File closes here"
   ]
  },
  {
   "cell_type": "code",
   "execution_count": 44,
   "metadata": {},
   "outputs": [],
   "source": [
    "# Extra - saving a NumPy-array to file\n",
    "'''\n",
    "You can instead force Python to read and write strictly in terms of binary data by adding a 'b' \n",
    "to these modes: 'rb', 'wb', 'ab', 'xb', '+b'. It is important to be aware of this binary mode. \n",
    "For example, if you are saving a NumPy-array, you should open a file in the ‘wb’ or ‘xb’ modes \n",
    "so that it expects binary data to be written to it; obviously we are not saving text \n",
    "when we are saving a NumPy array of numbers.\n",
    "'''\n",
    "import numpy as np\n",
    "\n",
    "x = np.array([1, 2, 3])\n",
    "\n",
    "with open(\"array.npy\", mode=\"wb\") as f:\n",
    "    np.save(f, x)"
   ]
  },
  {
   "cell_type": "code",
   "execution_count": 13,
   "metadata": {},
   "outputs": [
    {
     "name": "stdout",
     "output_type": "stream",
     "text": [
      "\n",
      "this is a line.\n",
      "This is a second line.\n",
      "This is the third line.\n"
     ]
    }
   ],
   "source": [
    "# File reading\n",
    "with open(path_to_file, mode=\"r\") as f:\n",
    "    content = f.read()\n",
    "#     print(content)\n",
    "\n",
    "print(content)"
   ]
  },
  {
   "cell_type": "code",
   "execution_count": 14,
   "metadata": {},
   "outputs": [],
   "source": [
    "# Exercise\n",
    "# Write string to a file in the present directory\n",
    "some_text = \"\"\"A bogel rolled down the hill.\n",
    "I mean *all* the way down the hill.\n",
    "A lady watched it roll.\n",
    "Way to help me out.\"\"\"\n",
    "\n",
    "some_text\n",
    "\n",
    "with open('files/a_poem.txt', mode='x') as f:\n",
    "    f.write(some_text)"
   ]
  },
  {
   "cell_type": "code",
   "execution_count": 20,
   "metadata": {},
   "outputs": [
    {
     "data": {
      "text/plain": [
       "['A bogel rolled down the hill.\\n', 'A lady watched it roll.\\n']"
      ]
     },
     "execution_count": 20,
     "metadata": {},
     "output_type": "execute_result"
    }
   ],
   "source": [
    "with open('files/a_poem.txt', mode='r') as open_file:\n",
    "#     out = [line for line in open_file]\n",
    "    out = [line for line in open_file if line.startswith('A')]\n",
    "\n",
    "out"
   ]
  },
  {
   "cell_type": "code",
   "execution_count": 43,
   "metadata": {},
   "outputs": [
    {
     "name": "stdout",
     "output_type": "stream",
     "text": [
      "files\n"
     ]
    },
    {
     "data": {
      "text/plain": [
       "[]"
      ]
     },
     "execution_count": 43,
     "metadata": {},
     "output_type": "execute_result"
    }
   ],
   "source": [
    "# File globbing\n",
    "'''\n",
    "A glob is a set of file names matching some pattern. To glob files, we use special wildcard characters that will match all the files\n",
    "with a certain part of a file name. It matches any character.\n",
    "'''\n",
    "root_dir = Path('./files')\n",
    "print(root_dir)\n",
    "\n",
    "\n",
    "# Create a new file named '*quirk.txt'\n",
    "path_quirk = Path(\"files/a_quirk.txt\")\n",
    "\n",
    "with open(path_quirk, mode=\"w\") as f:    \n",
    "    f.write('\\nthis is a line.\\nThis is a second line.\\nThis is the third line.')\n",
    "\n",
    "files = root_dir.glob('*.txt')\n",
    "\n",
    "sorted(files)\n",
    "quirk_files = root_dir.glob('*quirk.txt')\n",
    "sorted(quirk_files)\n",
    "\n",
    "data_files = root_dir.glob('data*.txt')\n",
    "sorted(data_files)\n",
    "\n",
    "q_w_files = root_dir.glob('q*w*.npy')\n",
    "sorted(q_w_files)"
   ]
  },
  {
   "cell_type": "code",
   "execution_count": 44,
   "metadata": {},
   "outputs": [],
   "source": [
    "# Using square brackes in globing - [abc]* or [0-9]*\n",
    "\n",
    "# Comprehension. Write a glob pattern that matches below example:\n",
    "# any file with an odd number in its name\n",
    "# Answ: *[13579]*\n",
    "# all txt files that have the letters 'q' or 'z' in them\n",
    "# Ans: *[qz]*"
   ]
  },
  {
   "cell_type": "code",
   "execution_count": 45,
   "metadata": {},
   "outputs": [
    {
     "data": {
      "text/plain": [
       "{'Albert': 92, 'David': 54, 'Emmy': 98, 'Marie': 56}"
      ]
     },
     "execution_count": 45,
     "metadata": {},
     "output_type": "execute_result"
    }
   ],
   "source": [
    "# Saving and Loading pyhon objects: pickle\n",
    "import pickle\n",
    "\n",
    "grades = {\n",
    "    'Albert': 92,\n",
    "    'David': 54,\n",
    "    'Emmy': 98,\n",
    "    \"Marie\": 56\n",
    "}\n",
    "\n",
    "#  save objects pickle.dump\n",
    "with open('grades.pkl', mode=\"wb\") as file:\n",
    "    pickle.dump(grades, file)\n",
    "\n",
    "# load objects pickle.load\n",
    "with open('grades.pkl', mode=\"rb\") as f:\n",
    "    loaded_grades = pickle.load(f)\n",
    "\n",
    "loaded_grades"
   ]
  },
  {
   "cell_type": "code",
   "execution_count": 46,
   "metadata": {},
   "outputs": [
    {
     "data": {
      "text/plain": [
       "array([1, 2, 4])"
      ]
     },
     "execution_count": 46,
     "metadata": {},
     "output_type": "execute_result"
    }
   ],
   "source": [
    "# Saving and loading numpy arrays\n",
    "import numpy as np\n",
    "x = np.array([1, 2, 4])\n",
    "np.save('x.npy', x)\n",
    "\n",
    "y = np.load('x.npy')\n",
    "\n",
    "y"
   ]
  },
  {
   "cell_type": "code",
   "execution_count": 42,
   "metadata": {},
   "outputs": [
    {
     "name": "stdout",
     "output_type": "stream",
     "text": [
      "[1 2 3]\n",
      "[4 5 6]\n",
      "[7 8 9]\n"
     ]
    }
   ],
   "source": [
    "# save three arrays to a numpy archive file\n",
    "a0 = np.array([1, 2, 3])\n",
    "a1 = np.array([4, 5, 6])\n",
    "a2 = np.array([7, 8, 9])\n",
    "\n",
    "# we provide the keywords arguments `soil`, `crust`, and `bedrock`,\n",
    "# as the names of the respective arrays in the archive.\n",
    "np.savez(\"my_archive.npz\", soil=a0, crust=a1, bedrock=a2)\n",
    "\n",
    "# opening the archive and accessing each array by name\n",
    "with np.load(\"my_archive.npz\") as my_archive_file:\n",
    "    out0 = my_archive_file[\"soil\"]\n",
    "    out1 = my_archive_file[\"crust\"]\n",
    "    out2 = my_archive_file[\"bedrock\"]\n",
    "    \n",
    "print(out0)\n",
    "print(out1)\n",
    "print(out2)"
   ]
  }
 ],
 "metadata": {
  "kernelspec": {
   "display_name": "Python 3",
   "language": "python",
   "name": "python3"
  },
  "language_info": {
   "codemirror_mode": {
    "name": "ipython",
    "version": 3
   },
   "file_extension": ".py",
   "mimetype": "text/x-python",
   "name": "python",
   "nbconvert_exporter": "python",
   "pygments_lexer": "ipython3",
   "version": "3.8.8"
  }
 },
 "nbformat": 4,
 "nbformat_minor": 4
}
