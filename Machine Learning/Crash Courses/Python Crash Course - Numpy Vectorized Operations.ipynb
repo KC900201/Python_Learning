{
 "cells": [
  {
   "cell_type": "code",
   "execution_count": 1,
   "metadata": {},
   "outputs": [],
   "source": [
    "import numpy as np"
   ]
  },
  {
   "cell_type": "code",
   "execution_count": 25,
   "metadata": {},
   "outputs": [
    {
     "data": {
      "text/plain": [
       "array([[0., 1., 2.],\n",
       "       [3., 4., 5.],\n",
       "       [6., 7., 8.]])"
      ]
     },
     "execution_count": 25,
     "metadata": {},
     "output_type": "execute_result"
    }
   ],
   "source": [
    "# Basic declaration of array numpy\n",
    "x = np.array([[0., 1., 2.],\n",
    "              [3., 4., 5.],\n",
    "              [6., 7., 8.]])\n",
    "\n",
    "x"
   ]
  },
  {
   "cell_type": "code",
   "execution_count": 27,
   "metadata": {},
   "outputs": [
    {
     "name": "stdout",
     "output_type": "stream",
     "text": [
      "[0.25 2.25 6.25]\n",
      "[0.5 1.5 2.5]\n"
     ]
    },
    {
     "ename": "IndexError",
     "evalue": "too many indices for array: array is 1-dimensional, but 2 were indexed",
     "output_type": "error",
     "traceback": [
      "\u001b[1;31m---------------------------------------------------------------------------\u001b[0m",
      "\u001b[1;31mIndexError\u001b[0m                                Traceback (most recent call last)",
      "\u001b[1;32m<ipython-input-27-b4a7e451213c>\u001b[0m in \u001b[0;36m<module>\u001b[1;34m\u001b[0m\n\u001b[0;32m     10\u001b[0m \u001b[1;31m# Slices return arrays, operate on these too.\u001b[0m\u001b[1;33m\u001b[0m\u001b[1;33m\u001b[0m\u001b[1;33m\u001b[0m\u001b[0m\n\u001b[0;32m     11\u001b[0m \u001b[1;31m# Add 0.5 to row 0 of x\u001b[0m\u001b[1;33m\u001b[0m\u001b[1;33m\u001b[0m\u001b[1;33m\u001b[0m\u001b[0m\n\u001b[1;32m---> 12\u001b[1;33m \u001b[0mx\u001b[0m \u001b[1;33m=\u001b[0m \u001b[1;36m.5\u001b[0m \u001b[1;33m+\u001b[0m \u001b[0mx\u001b[0m\u001b[1;33m[\u001b[0m\u001b[1;36m0\u001b[0m\u001b[1;33m,\u001b[0m \u001b[1;33m:\u001b[0m\u001b[1;33m]\u001b[0m\u001b[1;33m\u001b[0m\u001b[1;33m\u001b[0m\u001b[0m\n\u001b[0m\u001b[0;32m     13\u001b[0m \u001b[0mx\u001b[0m\u001b[1;33m\u001b[0m\u001b[1;33m\u001b[0m\u001b[0m\n",
      "\u001b[1;31mIndexError\u001b[0m: too many indices for array: array is 1-dimensional, but 2 were indexed"
     ]
    }
   ],
   "source": [
    "# Begin simple operations\n",
    "x = x ** 2\n",
    "\n",
    "print(x)\n",
    "\n",
    "# Square root of each entry in array\n",
    "x = np.sqrt(x)\n",
    "print(x)\n",
    "\n",
    "# Slices return arrays, operate on these too.\n",
    "# Add 0.5 to row 0 of x\n",
    "x = .5 + x[0, :]\n",
    "x"
   ]
  },
  {
   "cell_type": "code",
   "execution_count": 34,
   "metadata": {},
   "outputs": [
    {
     "name": "stdout",
     "output_type": "stream",
     "text": [
      "[[-4.  -2.5 -1. ]\n",
      " [ 0.5  6.   6.5]\n",
      " [ 5.   6.5  8. ]]\n",
      "[[-0.  -3.5 -6. ]\n",
      " [-7.5  8.   7.5]\n",
      " [-6.  -3.5 -0. ]]\n",
      "36.0\n",
      "[ 9. 12. 15.]\n",
      "[ 3. 12. 21.]\n"
     ]
    }
   ],
   "source": [
    "# Operation between two arrays\n",
    "x = np.array([[0., 1., 2.],\n",
    "              [3., 4., 5.],\n",
    "              [6., 7., 8.]])\n",
    "\n",
    "y = np.array([[-4, -3.5, -3.,], \n",
    "              [-2.5, 2, 1.5], \n",
    "              [-1, -0.5, -0.]])\n",
    "\n",
    "print(x + y)\n",
    "\n",
    "print(x * y)\n",
    "\n",
    "# Operations on sequence of numbers (sum)\n",
    "print(np.sum(x))\n",
    "\n",
    "# Summing over rows (axis = 0)\n",
    "print(np.sum(x, axis=0)) # rows\n",
    "print(np.sum(x, axis=1)) # columns"
   ]
  },
  {
   "cell_type": "code",
   "execution_count": 10,
   "metadata": {},
   "outputs": [
    {
     "name": "stdout",
     "output_type": "stream",
     "text": [
      "49995000\n",
      "49995000\n",
      "[4 6 8]\n",
      "[   1 -112]\n",
      "50\n"
     ]
    }
   ],
   "source": [
    "'''\n",
    "Vectorized Operations\n",
    "\n",
    "Vectorization - the use of optimized, pre-compiled code written in a low-level language (e.g. C) \n",
    "                to perform mathematical operations over a data sequence. This is done in in place\n",
    "                of an explicit iteration written in the native language\n",
    "Vectorization outcome can be a tremendous speedup relative to analogous computation performed in Python.\n",
    "'''\n",
    "# exp pof numpy\n",
    "print(np.sum(np.arange(10000))) # Using sum reduce the computing time (~11 microseconds)\n",
    "\n",
    "# Similar output, but different methods which takes a lot more computing time\n",
    "total = 0\n",
    "for i in np.arange(10000):\n",
    "    total += i\n",
    "print(total)\n",
    "\n",
    "print(2 * np.array([2, 3, 4]))\n",
    "\n",
    "print(np.array([11, 12]) - np.array([10, 124]))\n",
    "# dot = multiply their corresponding entries and sum result\n",
    "print(np.dot(np.array([1, -3, 4]), np.array([2, 0, 12])))"
   ]
  },
  {
   "cell_type": "code",
   "execution_count": 18,
   "metadata": {},
   "outputs": [
    {
     "data": {
      "text/plain": [
       "array([13,  8])"
      ]
     },
     "execution_count": 18,
     "metadata": {},
     "output_type": "execute_result"
    }
   ],
   "source": [
    "# Mathematical functions of Numpy\n",
    "'''\n",
    "Official documentation: https://numpy.org/doc/stable/reference/ufuncs.html#math-operations\n",
    "'''\n",
    "\n",
    "# Numpy Array Broadcasting\n",
    "'''\n",
    "Apply binary NumPy functions to arrays of unlike shapes. \n",
    "Exp: adding a single-shape(2,) array with ten of such arrays, which are stored as a single shape-(10,2) array\n",
    "'''\n",
    "\n",
    "x = np.array([[10, 2],\n",
    "              [3,  5]])\n",
    "\n",
    "y = np.array([[11, 3], \n",
    "              [23, 45]])\n",
    "\n",
    "np.add(x, y)\n",
    "\n",
    "# add column 0 of x with row-1 of y\n",
    "np.add(x[:, 1], y[0, :])\n",
    "\n",
    "# add row-1 of y with column 0 of x\n",
    "# np.add(y[1, :], x[:, 0])"
   ]
  },
  {
   "cell_type": "code",
   "execution_count": 31,
   "metadata": {},
   "outputs": [
    {
     "name": "stdout",
     "output_type": "stream",
     "text": [
      "[[0 1]\n",
      " [4 5]]\n",
      "[[ 8  9]\n",
      " [12 13]]\n",
      "[[2 3]\n",
      " [6 7]]\n"
     ]
    },
    {
     "data": {
      "text/plain": [
       "array([[20, 24],\n",
       "       [36, 40]])"
      ]
     },
     "execution_count": 31,
     "metadata": {},
     "output_type": "execute_result"
    }
   ],
   "source": [
    "# Exp: binary functions of NumPy array\n",
    "x = np.array([[0, 1, 2, 3],\n",
    "              [4, 5, 6, 7],\n",
    "              [8, 9, 10, 11],\n",
    "              [12, 13, 14, 15]])\n",
    "\n",
    "print(x[:2, :2])\n",
    "print(x[-2:,:2])\n",
    "print(x[:2, -2:])\n",
    "\n",
    "# top-left  top-right    bottom-left  bottom-right\n",
    "x[:2, :2] + x[:2, -2:] + x[-2:, :2] + x[-2:, -2:]"
   ]
  }
 ],
 "metadata": {
  "kernelspec": {
   "display_name": "Python 3",
   "language": "python",
   "name": "python3"
  },
  "language_info": {
   "codemirror_mode": {
    "name": "ipython",
    "version": 3
   },
   "file_extension": ".py",
   "mimetype": "text/x-python",
   "name": "python",
   "nbconvert_exporter": "python",
   "pygments_lexer": "ipython3",
   "version": "3.8.8"
  }
 },
 "nbformat": 4,
 "nbformat_minor": 4
}
