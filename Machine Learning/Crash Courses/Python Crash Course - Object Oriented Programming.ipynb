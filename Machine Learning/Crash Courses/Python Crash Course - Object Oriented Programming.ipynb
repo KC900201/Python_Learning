{
 "cells": [
  {
   "cell_type": "code",
   "execution_count": 6,
   "metadata": {},
   "outputs": [],
   "source": [
    "# OOP in Python\n",
    "\n",
    "class SimpleClass:\n",
    "    def __init__(self):\n",
    "        self.a = 0\n",
    "        self.b = 1\n",
    "        self.c = \"Hello Class\""
   ]
  },
  {
   "cell_type": "code",
   "execution_count": 20,
   "metadata": {},
   "outputs": [
    {
     "name": "stdout",
     "output_type": "stream",
     "text": [
      "0\n",
      "\t 1\n",
      "Hello Class\n"
     ]
    },
    {
     "data": {
      "text/plain": [
       "0.1123"
      ]
     },
     "execution_count": 20,
     "metadata": {},
     "output_type": "execute_result"
    }
   ],
   "source": [
    "a = SimpleClass()\n",
    "# accessing attributes of class\n",
    "print(a.a)\n",
    "print(\"\\t \" + str(a.b))\n",
    "print(a.c)\n",
    "# a.d no attributes of d\n",
    "\n",
    "# set new attributes\n",
    "if (hasattr(a, \"d\")):\n",
    "    print(a.d)\n",
    "else:\n",
    "   setattr(a, \"d\", 0.1123)\n",
    "\n",
    "# print(a.d)\n",
    "getattr(a, 'd')"
   ]
  },
  {
   "cell_type": "code",
   "execution_count": 33,
   "metadata": {},
   "outputs": [
    {
     "name": "stdout",
     "output_type": "stream",
     "text": [
      "Charlie\n"
     ]
    },
    {
     "data": {
      "text/plain": [
       "'*woof* John *woof*'"
      ]
     },
     "execution_count": 33,
     "metadata": {},
     "output_type": "execute_result"
    }
   ],
   "source": [
    "# Reading comprehension\n",
    "class Dog:\n",
    "    def __init__(self, name):\n",
    "        self.name = name\n",
    "    \n",
    "    def speak(self, name):\n",
    "        return \"*woof* \" + name + \" *woof*\"\n",
    "\n",
    "dog = Dog('Charlie')\n",
    "print(dog.name)\n",
    "dog.speak('John')"
   ]
  },
  {
   "cell_type": "code",
   "execution_count": 41,
   "metadata": {},
   "outputs": [
    {
     "data": {
      "text/plain": [
       "True"
      ]
     },
     "execution_count": 41,
     "metadata": {},
     "output_type": "execute_result"
    }
   ],
   "source": [
    "# Class instance\n",
    "# check if is intance of class\n",
    "a = Dog(\"Abbey\")\n",
    "a.name\n",
    "isinstance(a, Dog)\n",
    "isinstance(a.name, str)\n",
    "\n",
    "'''\n",
    "The 'is' operator checks to see if two items reference the exact same object in PC memory.\n",
    "isinstance function checks to see if an object is an instance of class/type\n",
    "'''\n",
    "a is Dog\n",
    "b = Dog # memory referencing, that's why code below works\n",
    "b is Dog"
   ]
  },
  {
   "cell_type": "code",
   "execution_count": 48,
   "metadata": {},
   "outputs": [
    {
     "data": {
      "text/plain": [
       "999.0"
      ]
     },
     "execution_count": 48,
     "metadata": {},
     "output_type": "execute_result"
    }
   ],
   "source": [
    "# Reading comperehension\n",
    "# Define a class, Tmp, that has three instance attributes: x, y, and z. \n",
    "# x and y should be numbers that are set according to values passed to the instance creation, and z should be the product of these two values.\n",
    "import numpy as np\n",
    "\n",
    "class Tmp:\n",
    "    def __init__(self, x, y):\n",
    "        self.x = x\n",
    "        self.y = y\n",
    "        self.z = np.ma.round(np.multiply(x, y), 2)\n",
    "\n",
    "tmp = Tmp(9.99, 100)\n",
    "tmp.x\n",
    "tmp.y\n",
    "tmp.z"
   ]
  }
 ],
 "metadata": {
  "kernelspec": {
   "display_name": "Python 3",
   "language": "python",
   "name": "python3"
  },
  "language_info": {
   "codemirror_mode": {
    "name": "ipython",
    "version": 3
   },
   "file_extension": ".py",
   "mimetype": "text/x-python",
   "name": "python",
   "nbconvert_exporter": "python",
   "pygments_lexer": "ipython3",
   "version": "3.7.4"
  }
 },
 "nbformat": 4,
 "nbformat_minor": 2
}
