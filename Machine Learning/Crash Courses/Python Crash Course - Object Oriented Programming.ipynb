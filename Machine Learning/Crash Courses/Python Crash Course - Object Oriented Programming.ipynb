{
 "cells": [
  {
   "cell_type": "code",
   "execution_count": 6,
   "metadata": {},
   "outputs": [],
   "source": [
    "# OOP in Python\n",
    "\n",
    "class SimpleClass:\n",
    "    def __init__(self):\n",
    "        self.a = 0\n",
    "        self.b = 1\n",
    "        self.c = \"Hello Class\""
   ]
  },
  {
   "cell_type": "code",
   "execution_count": 20,
   "metadata": {},
   "outputs": [
    {
     "name": "stdout",
     "output_type": "stream",
     "text": [
      "0\n",
      "\t 1\n",
      "Hello Class\n"
     ]
    },
    {
     "data": {
      "text/plain": [
       "0.1123"
      ]
     },
     "execution_count": 20,
     "metadata": {},
     "output_type": "execute_result"
    }
   ],
   "source": [
    "a = SimpleClass()\n",
    "# accessing attributes of class\n",
    "print(a.a)\n",
    "print(\"\\t \" + str(a.b))\n",
    "print(a.c)\n",
    "# a.d no attributes of d\n",
    "\n",
    "# set new attributes\n",
    "if (hasattr(a, \"d\")):\n",
    "    print(a.d)\n",
    "else:\n",
    "   setattr(a, \"d\", 0.1123)\n",
    "\n",
    "# print(a.d)\n",
    "getattr(a, 'd')"
   ]
  },
  {
   "cell_type": "code",
   "execution_count": 33,
   "metadata": {},
   "outputs": [
    {
     "name": "stdout",
     "output_type": "stream",
     "text": [
      "Charlie\n"
     ]
    },
    {
     "data": {
      "text/plain": [
       "'*woof* John *woof*'"
      ]
     },
     "execution_count": 33,
     "metadata": {},
     "output_type": "execute_result"
    }
   ],
   "source": [
    "# Reading comprehension\n",
    "class Dog:\n",
    "    def __init__(self, name):\n",
    "        self.name = name\n",
    "    \n",
    "    def speak(self, name):\n",
    "        return \"*woof* \" + name + \" *woof*\"\n",
    "\n",
    "dog = Dog('Charlie')\n",
    "print(dog.name)\n",
    "dog.speak('John')"
   ]
  },
  {
   "cell_type": "code",
   "execution_count": 41,
   "metadata": {},
   "outputs": [
    {
     "data": {
      "text/plain": [
       "True"
      ]
     },
     "execution_count": 41,
     "metadata": {},
     "output_type": "execute_result"
    }
   ],
   "source": [
    "# Class instance\n",
    "# check if is intance of class\n",
    "a = Dog(\"Abbey\")\n",
    "a.name\n",
    "isinstance(a, Dog)\n",
    "isinstance(a.name, str)\n",
    "\n",
    "'''\n",
    "The 'is' operator checks to see if two items reference the exact same object in PC memory.\n",
    "isinstance function checks to see if an object is an instance of class/type\n",
    "'''\n",
    "a is Dog\n",
    "b = Dog # memory referencing, that's why code below works\n",
    "b is Dog"
   ]
  },
  {
   "cell_type": "code",
   "execution_count": 1,
   "metadata": {},
   "outputs": [
    {
     "data": {
      "text/plain": [
       "999.0"
      ]
     },
     "execution_count": 1,
     "metadata": {},
     "output_type": "execute_result"
    }
   ],
   "source": [
    "# Reading comperehension\n",
    "# Define a class, Tmp, that has three instance attributes: x, y, and z. \n",
    "# x and y should be numbers that are set according to values passed to the instance creation, and z should be the product of these two values.\n",
    "import numpy as np\n",
    "\n",
    "class Tmp:\n",
    "    def __init__(self, x, y):\n",
    "        self.x = x\n",
    "        self.y = y\n",
    "        self.z = np.ma.round(np.multiply(x, y), 2)\n",
    "\n",
    "tmp = Tmp(9.99, 100)\n",
    "tmp.x\n",
    "tmp.y\n",
    "tmp.z"
   ]
  },
  {
   "cell_type": "code",
   "execution_count": 11,
   "metadata": {},
   "outputs": [
    {
     "name": "stdout",
     "output_type": "stream",
     "text": [
      "<class '__main__.Tummy'>\n",
      "True\n"
     ]
    },
    {
     "data": {
      "text/plain": [
       "True"
      ]
     },
     "execution_count": 11,
     "metadata": {},
     "output_type": "execute_result"
    }
   ],
   "source": [
    "# Learning about class identity\n",
    "class Tummy:\n",
    "    x = 10.11\n",
    "\n",
    "# class definition\n",
    "print(Tummy)\n",
    "\n",
    "d1 = Tummy()\n",
    "d2 = Tummy\n",
    "\n",
    "# an instance of Tummy class\n",
    "d1\n",
    "d1 is Tummy # False\n",
    "print(d2 is Tummy)\n",
    "isinstance(d1, Tummy)"
   ]
  },
  {
   "cell_type": "code",
   "execution_count": 19,
   "metadata": {},
   "outputs": [
    {
     "name": "stdout",
     "output_type": "stream",
     "text": [
      "<__main__.Dummy object at 0x0000018E00CA9880>\n",
      "<__main__.Dummy object at 0x0000018E00CA98B0>\n",
      "<__main__.Dummy object at 0x0000018E00CA9EB0>\n",
      "<__main__.Dummy object at 0x0000018E00867E20>\n",
      "<__main__.Dummy object at 0x0000018E01D54DF0>\n",
      "<__main__.Dummy object at 0x0000018E01D549A0>\n",
      "<__main__.Dummy object at 0x0000018E01D548E0>\n",
      "<__main__.Dummy object at 0x0000018E01D54310>\n",
      "<__main__.Dummy object at 0x0000018E01D543A0>\n",
      "<__main__.Dummy object at 0x0000018E01D54100>\n"
     ]
    },
    {
     "data": {
      "text/plain": [
       "(<__main__.Dummy at 0x18e01d54640>,\n",
       " <__main__.Dummy at 0x18e01d54640>,\n",
       " <__main__.Dummy at 0x18e01d54640>,\n",
       " <__main__.Dummy at 0x18e01d54640>,\n",
       " <__main__.Dummy at 0x18e01d54640>,\n",
       " <__main__.Dummy at 0x18e01d54640>,\n",
       " <__main__.Dummy at 0x18e01d54640>,\n",
       " <__main__.Dummy at 0x18e01d54640>,\n",
       " <__main__.Dummy at 0x18e01d54640>,\n",
       " <__main__.Dummy at 0x18e01d54640>)"
      ]
     },
     "execution_count": 19,
     "metadata": {},
     "output_type": "execute_result"
    }
   ],
   "source": [
    "# Reading comprehension\n",
    "class Dummy:\n",
    "    def __init__(self): # init level allows to define instance-level attributes for class\n",
    "        self.name = 'Dummy'\n",
    "\n",
    "y = []\n",
    "\n",
    "for i in range(0, 10):\n",
    "    y.append(Dummy())\n",
    "\n",
    "for i in range(0, len(y)):\n",
    "    print(y[i]) # check the memory address of y[i] are not identical\n",
    "\n",
    "# create a tuple that contains a single instance of Dummy stored ten times.\n",
    "dummy_inst = Dummy()\n",
    "x = tuple(dummy_inst for i in range(0, 10))\n",
    "# note that memory addresses are identical\n",
    "x"
   ]
  },
  {
   "cell_type": "code",
   "execution_count": 26,
   "metadata": {},
   "outputs": [
    {
     "name": "stdout",
     "output_type": "stream",
     "text": [
      "1\n",
      "123\n",
      "12\n",
      "123\n",
      "True\n",
      "<class '__main__.Person'>\n"
     ]
    }
   ],
   "source": [
    "'''\n",
    "Define instance-level attributes: __init__ method\n",
    "'''\n",
    "# Differentiate btwn a class level attribute and instance-level attribute\n",
    "\n",
    "class Person:\n",
    "    x = 1 # this is a class level attribute\n",
    "    \n",
    "    def __init__(self, name):\n",
    "        \"\"\" This method is executed every time we create a new `Person` instance.\n",
    "            `self` is the object instance being created.\"\"\"\n",
    "        self.name = name # this is an instance level attribute\n",
    "        # __init__ cannot not return any value other than `None`. Its sole purpose is to affect\n",
    "        # `self`, the instance of `Person` that is being created.\n",
    "        \n",
    "p = Person('Kamati')\n",
    "print(p.x)\n",
    "# Update class level attribute\n",
    "Person.x = 123\n",
    "print(p.x)\n",
    "\n",
    "# See if update instance level attribute can affect class level\n",
    "p.x = 12\n",
    "print(p.x)\n",
    "print(Person.x) # still 123\n",
    "print(isinstance(p, Person))\n",
    "print(type(p))"
   ]
  },
  {
   "cell_type": "code",
   "execution_count": 5,
   "metadata": {},
   "outputs": [
    {
     "data": {
      "text/plain": [
       "{'a': 2.3, 'b': 2.3, 'c': 2.3, 's': 2.3}"
      ]
     },
     "execution_count": 5,
     "metadata": {},
     "output_type": "execute_result"
    }
   ],
   "source": [
    "\"\"\"\n",
    "Methods in Class\n",
    "\n",
    "!Important - When you call an instance method (e.g. func) from an instance object (e.g. inst), Python automatically passes \n",
    "that instance object as the first argument, in addition to any other arguments that were passed in by the user.\n",
    "\"\"\"\n",
    "'''\n",
    "class method\n",
    "'''\n",
    "class Dummy:\n",
    "#     class method\n",
    "    @classmethod\n",
    "    def class_func(cls): # convention to class method is `cls`\n",
    "        '''returns class unchanged'''\n",
    "        return cls\n",
    "\n",
    "Dummy.class_func()\n",
    "\n",
    "# `Dummy.class_func()` returns `Dummy`\n",
    "out = Dummy.class_func()\n",
    "out is Dummy\n",
    "\n",
    "# Dummy gets passed as `cls` automatically\n",
    "# even when class_func is called from an instance\n",
    "inst = Dummy()\n",
    "inst.class_func()\n",
    "\n",
    "# example of class method\n",
    "dict.fromkeys('abcs', 2.3)"
   ]
  },
  {
   "cell_type": "code",
   "execution_count": 11,
   "metadata": {},
   "outputs": [
    {
     "data": {
      "text/plain": [
       "'hi'"
      ]
     },
     "execution_count": 11,
     "metadata": {},
     "output_type": "execute_result"
    }
   ],
   "source": [
    "'''\n",
    "static method -  a method whose arguments must all be passed explicitly by the user. That is, Python doesn’t pass anything to a static method automatically.\n",
    "The built-in decorator staticmethod is used to distinguish a method as being static rather than an instance method.\n",
    "'''\n",
    "class Dummy:\n",
    "    @staticmethod\n",
    "    def static_func():\n",
    "        return 'hi'\n",
    "\n",
    "Dummy.static_func()\n",
    "inst = Dummy()\n",
    "# inst is Dummy\n",
    "inst.static_func()"
   ]
  },
  {
   "cell_type": "code",
   "execution_count": 11,
   "metadata": {},
   "outputs": [
    {
     "name": "stdout",
     "output_type": "stream",
     "text": [
      "• bread\n",
      "• milk\n",
      "• ̶a̶p̶p̶l̶e̶s\n",
      "• staples\n",
      "• ̶p̶e̶n̶s\n"
     ]
    },
    {
     "data": {
      "text/plain": [
       "• staples\n",
       "• bread\n",
       "• milk\n",
       "• ̶a̶p̶p̶l̶e̶s\n",
       "• ̶p̶e̶n̶s"
      ]
     },
     "execution_count": 11,
     "metadata": {},
     "output_type": "execute_result"
    }
   ],
   "source": [
    "# Application of OOP\n",
    "\n",
    "def strike(text):\n",
    "    return ''.join('\\u0336{}'.format(c) for c in text)\n",
    "\n",
    "class ShoppingList:\n",
    "    def __init__(self, items):\n",
    "        if isinstance(items, str):\n",
    "            if(len(items.strip()) > 0): # check for empty string\n",
    "                items = [items]\n",
    "        \n",
    "        self._needed = set(items)\n",
    "        self._purchased = set() # learn about sets\n",
    "    \n",
    "    def add_new_items(self, items):\n",
    "        if(isinstance(items, str)):\n",
    "            if(len(items.strip()) > 0): # check for empty string\n",
    "                items = [items]\n",
    "        self._needed.update(items)\n",
    "    \n",
    "    def mark_purchased_items(self, items):\n",
    "        if isinstance(items, str):\n",
    "            if(len(items.strip()) > 0): # check for empty string\n",
    "                items = [items]\n",
    "        # only mark items as purchased that are on our list to begin with\n",
    "        self._purchased.update(set(items) & self._needed)\n",
    "        # remove all purchased items from our unpurchased set\n",
    "        self._needed.difference_update(self._purchased)            \n",
    "    \n",
    "    def list_purchased_items(self):\n",
    "        \"\"\"Return a sorted list of purchased items\"\"\"\n",
    "        return sorted(self._purchased)\n",
    "    \n",
    "    def list_unpurchased_items(self):\n",
    "        \"\"\"Return a sorted list of unpurchased items (on the list)\"\"\"\n",
    "        return sorted(self._needed)\n",
    "    \n",
    "    def __repr__(self): # invokes x.__repr__(), a string representation of the object (method overwriting)\n",
    "        \"\"\" Returns formatted shopping list as a string with\n",
    "            purchased items being crossed out.\n",
    "\n",
    "            Returns\n",
    "            -------\n",
    "            str\"\"\"\n",
    "        if self._needed or self._purchased:\n",
    "            remaining_items = [str(i) for i in self._needed]\n",
    "            purchased_items = [strike(str(i)) for i in self._purchased]\n",
    "            # You wont find the • character on your keyboard. I simply\n",
    "            # googled \"unicode bullet point\" and copied/pasted it here.\n",
    "            return \"• \" + \"\\n• \".join(remaining_items + purchased_items)\n",
    "    \n",
    "    def __add__(self, other):\n",
    "        \"\"\"\n",
    "        Add the unpurchased and purchased items from another shopping\n",
    "        list to the present one.\n",
    "\n",
    "        Parameters\n",
    "        ----------\n",
    "        other : ShoppingList\n",
    "            The shopping list whose items we will add to the present one.\n",
    "        Returns\n",
    "        -------\n",
    "        ShoppingList\n",
    "            The present shopping list, with items added to it.\n",
    "        \"\"\"\n",
    "        new_list = ShoppingList([])\n",
    "        # populate new_list with items from `self` and `other`\n",
    "        for l in [self, other]:\n",
    "            new_list.add_new_items(l._needed)\n",
    "            \n",
    "            # add purchased items to list, then mark as purchased\n",
    "            new_list.add_new_items(l._purchased)\n",
    "            new_list.mark_purchased_items(l._purchased)\n",
    "            \n",
    "        return new_list\n",
    "            \n",
    "my_list = ShoppingList(['apples', 'bread'])\n",
    "\n",
    "my_list._needed\n",
    "# my_list.list_purchased_items()\n",
    "my_list.mark_purchased_items('apples')\n",
    "# my_list.list_purchased_items()\n",
    "my_list.add_new_items('milk')\n",
    "my_list.list_unpurchased_items()\n",
    "print(my_list)\n",
    "\n",
    "office_supplies = ShoppingList([\"staples\", \"pens\"])\n",
    "office_supplies.mark_purchased_items([\"pens\"])\n",
    "print(office_supplies)\n",
    "\n",
    "# combine two different ShoppingList together\n",
    "\n",
    "my_list + office_supplies"
   ]
  },
  {
   "cell_type": "code",
   "execution_count": 12,
   "metadata": {},
   "outputs": [
    {
     "name": "stdout",
     "output_type": "stream",
     "text": [
      "[True, False, True, False]\n"
     ]
    },
    {
     "data": {
      "text/plain": [
       "'Python Like You Mean It'"
      ]
     },
     "execution_count": 12,
     "metadata": {},
     "output_type": "execute_result"
    }
   ],
   "source": [
    "# Special methods in OOP \n",
    "'''\n",
    "we will learn about a variety of instance methods that are reserved by Python, which affect an object’s high level behavior and \n",
    "its interactions with operators. These are known as special methods. __init__ is an example of a special method; \n",
    "recall that it controls the process of creating instances of a class. Similarly, we will see that __add__ controls \n",
    "the behavior of an object when it is operated on by the + symbol, for example. \n",
    "In general, the names of special methods take the form of __<name>__, where the two underscores preceed and succeed the name. Accordingly, special methods can also be referred to as “dunder” (double-underscore) methods. Learning to leverage special methods will enable us to design elegant and powerful classes of objects.\n",
    "'''\n",
    "\n",
    "# Demonstrating (mis)use of special methods\n",
    "class SillyClass:\n",
    "    def __getitem__(self, key):\n",
    "        \"\"\" Determines behavior of `self[key]` \"\"\"\n",
    "        return [True, False, True, False]\n",
    "    \n",
    "    def __pow__(self, other):\n",
    "        \"\"\" Determines behavior of `self ** other` \"\"\"\n",
    "        return \"Python Like You Mean It\"\n",
    "\n",
    "silly = SillyClass()\n",
    "silly\n",
    "print(silly[0])\n",
    "silly ** 2"
   ]
  },
  {
   "cell_type": "code",
   "execution_count": null,
   "metadata": {},
   "outputs": [],
   "source": [
    "# Creating container like class - continue"
   ]
  }
 ],
 "metadata": {
  "kernelspec": {
   "display_name": "Python 3",
   "language": "python",
   "name": "python3"
  },
  "language_info": {
   "codemirror_mode": {
    "name": "ipython",
    "version": 3
   },
   "file_extension": ".py",
   "mimetype": "text/x-python",
   "name": "python",
   "nbconvert_exporter": "python",
   "pygments_lexer": "ipython3",
   "version": "3.8.8"
  }
 },
 "nbformat": 4,
 "nbformat_minor": 2
}
