{
 "cells": [
  {
   "cell_type": "code",
   "execution_count": 8,
   "metadata": {},
   "outputs": [
    {
     "name": "stdout",
     "output_type": "stream",
     "text": [
      "spam eggs\n",
      "doesn\t'\n",
      "hi...\n",
      "...bye\n",
      "I am a string..\n",
      "I am part of the string.\n",
      "me... too!\n"
     ]
    }
   ],
   "source": [
    "# String type essentials\n",
    "print('spam eggs')\n",
    "print(\"doesn\\t'\")\n",
    "\n",
    "# Print new line using '\\n'\n",
    "print(\"hi...\\n...bye\")\n",
    "\n",
    "# Block string using triple-quotes\n",
    "x = \"\"\"I am a string..\n",
    "I am part of the string.\n",
    "me... too!\"\"\"\n",
    "print(x)"
   ]
  },
  {
   "cell_type": "code",
   "execution_count": 13,
   "metadata": {},
   "outputs": [
    {
     "name": "stdout",
     "output_type": "stream",
     "text": [
      "Hello\n",
      "WHellooHellorHellolHellod\n",
      "item1...item2...item3\n"
     ]
    }
   ],
   "source": [
    "#  Built in functions\n",
    "# capitalize\n",
    "x = \"hello\".capitalize()\n",
    "print(x)\n",
    "# String joining\n",
    "x = \"Hello\"\n",
    "y = \"World\"\n",
    "c = x.join(y)\n",
    "print(c)\n",
    "print(\"...\".join([\"item1\", \"item2\", \"item3\"]))"
   ]
  },
  {
   "cell_type": "code",
   "execution_count": 27,
   "metadata": {},
   "outputs": [
    {
     "name": "stdout",
     "output_type": "stream",
     "text": [
      "John is female\n",
      "Batman 10 apples\n",
      "y is a <class 'float'> number.\n",
      "  5 \n",
      "  5 \n",
      "  5 \n",
      "101 \n",
      "  6 \n",
      "  6 \n",
      "  6 \n",
      "110 \n",
      "  7 \n",
      "  7 \n",
      "  7 \n",
      "111 \n",
      "  8 \n",
      "  8 \n",
      " 10 \n",
      "1000 \n",
      "  9 \n",
      "  9 \n",
      " 11 \n",
      "1001 \n",
      " 10 \n",
      "  A \n",
      " 12 \n",
      "1010 \n",
      " 11 \n",
      "  B \n",
      " 13 \n",
      "1011 \n"
     ]
    }
   ],
   "source": [
    "# String formatting\n",
    "x = \"{name} is {gender}\".format(name=\"John\", gender=\"female\")\n",
    "print(x)\n",
    "\n",
    "batman = 10\n",
    "print(f\"Batman {batman} apples\")\n",
    "\n",
    "# f-string format\n",
    "# An f-string is special because it permits us to write Python code within a string; any expression within curly brackets, {}, will be executed as Python code, and the resulting value will be converted to a string and inserted into the f-string at that position.\n",
    "y = 10.99\n",
    "print(f\"y is a {type(y)} number.\")\n",
    "\n",
    "# Nesting arguments\n",
    "width = 3\n",
    "for num in range(5, 12):\n",
    "    for base in 'dXob':\n",
    "        print('{0:{width}{base}}'.format(num, base=base, width=width), end=' ')\n",
    "        print()"
   ]
  },
  {
   "cell_type": "code",
   "execution_count": 34,
   "metadata": {},
   "outputs": [
    {
     "name": "stdout",
     "output_type": "stream",
     "text": [
      "<class 'list'>\n"
     ]
    },
    {
     "data": {
      "text/plain": [
       "[True, 'Hello', 25]"
      ]
     },
     "execution_count": 34,
     "metadata": {},
     "output_type": "execute_result"
    }
   ],
   "source": [
    "# List and interpretations\n",
    "# A list is a type of Python object that allows us to store a sequence of other objects. One of its major utilities is that it provides us with means for updating the contents of a list later on.\n",
    "# A list object is created using square-brackets, and its contents are separated by commas: [item1, item2, ..., itemN]. Its contents need not be of the same type of object.\n",
    "\n",
    "print(type([1,2,3]))\n",
    "\n",
    "isinstance([2, 4], list)\n",
    "\n",
    "# Storing objects in list\n",
    "x = \"hello\"\n",
    "[2 < 3, x.capitalize(), 5**2]"
   ]
  },
  {
   "cell_type": "code",
   "execution_count": 46,
   "metadata": {},
   "outputs": [
    {
     "name": "stdout",
     "output_type": "stream",
     "text": [
      "5\n",
      "['a', 'p', 'p', 'l', 'e']\n",
      "H\n",
      "[True, 12]\n",
      "['H', True, 12, 23.33, 'llove', 'Eat food', 'love', True, False]\n",
      "[]\n"
     ]
    }
   ],
   "source": [
    "# Accessing lists\n",
    "# Web - https://docs.python.org/3/tutorial/datastructures.html#more-on-listshttps://docs.python.org/3/tutorial/datastructures.html#more-on-lists\n",
    "a = ['H', True, 12, 23.33, \"llove\"]\n",
    "print(len(a))\n",
    "\n",
    "# String conversion to list\n",
    "print(list(\"apple\"))\n",
    "\n",
    "# List mutation\n",
    "print(a[0])\n",
    "print(a[1:3])\n",
    "\n",
    "# Append (only 1 item)\n",
    "a.append(\"Eat food\")\n",
    "\n",
    "# Extend a sequence of items to list\n",
    "a.extend(['love', True, False])\n",
    "print(a)\n",
    "\n",
    "# remove nth-position items from list\n",
    "a.pop(1)\n",
    "\n",
    "#  remove all items\n",
    "a.clear()\n",
    "print(a)"
   ]
  },
  {
   "cell_type": "code",
   "execution_count": 51,
   "metadata": {},
   "outputs": [
    {
     "name": "stdout",
     "output_type": "stream",
     "text": [
      "<class 'float'>\n",
      "True\n"
     ]
    }
   ],
   "source": [
    "# check Object type\n",
    "x = 3.233243434324\n",
    "y = False\n",
    "a = None\n",
    "print(type(x))\n",
    "type(y)\n",
    "type(a)\n",
    "\n",
    "if a is None:\n",
    "    print(True)"
   ]
  },
  {
   "cell_type": "code",
   "execution_count": null,
   "metadata": {},
   "outputs": [],
   "source": []
  }
 ],
 "metadata": {
  "kernelspec": {
   "display_name": "Python 3",
   "language": "python",
   "name": "python3"
  },
  "language_info": {
   "codemirror_mode": {
    "name": "ipython",
    "version": 3
   },
   "file_extension": ".py",
   "mimetype": "text/x-python",
   "name": "python",
   "nbconvert_exporter": "python",
   "pygments_lexer": "ipython3",
   "version": "3.8.8"
  }
 },
 "nbformat": 4,
 "nbformat_minor": 4
}
