{
 "cells": [
  {
   "cell_type": "code",
   "execution_count": 1,
   "metadata": {},
   "outputs": [
    {
     "name": "stdout",
     "output_type": "stream",
     "text": [
      "True\n",
      "False\n"
     ]
    }
   ],
   "source": [
    "# Data structures in Python\n",
    "x = [10, 12, \"S\", True]\n",
    "\n",
    "if(12 in x):\n",
    "    print(True)\n",
    "\n",
    "if(\"aS\" in x):\n",
    "    print(True)\n",
    "else:\n",
    "    print(False)"
   ]
  },
  {
   "cell_type": "code",
   "execution_count": 2,
   "metadata": {},
   "outputs": [
    {
     "name": "stdout",
     "output_type": "stream",
     "text": [
      "True\n"
     ]
    }
   ],
   "source": [
    "# Sets data structures\n",
    "x = {10, 12, \"S\", True}\n",
    "\n",
    "print(10 in x)"
   ]
  },
  {
   "cell_type": "code",
   "execution_count": 10,
   "metadata": {},
   "outputs": [
    {
     "name": "stdout",
     "output_type": "stream",
     "text": [
      "{'cheese': 2.53, 'milk': 2.34, 'frozen pizza': 4423}\n"
     ]
    }
   ],
   "source": [
    "# Dictionaries data type\n",
    "# key-to-value pairs storing. Each key must map to only one key value\n",
    "items_to_prices = {\n",
    "    \"cheese\": 2.53,\n",
    "    \"milk\": 2.34,\n",
    "    \"frozen pizza\": 4423,\n",
    "}\n",
    "print(items_to_prices)"
   ]
  },
  {
   "cell_type": "code",
   "execution_count": 15,
   "metadata": {},
   "outputs": [
    {
     "name": "stdout",
     "output_type": "stream",
     "text": [
      "cheese 2.53\n",
      "milk 2.34\n",
      "frozen pizza 4423\n"
     ]
    }
   ],
   "source": [
    "items_to_prices[\"cheese\"]\n",
    "\n",
    "for obj in items_to_prices:\n",
    "    print(obj, items_to_prices[obj])"
   ]
  },
  {
   "cell_type": "code",
   "execution_count": 3,
   "metadata": {},
   "outputs": [
    {
     "name": "stdout",
     "output_type": "stream",
     "text": [
      "True\n",
      "[100, 99, 90]\n"
     ]
    }
   ],
   "source": [
    "# Versatile data structure = dictionary. Can be used to store a variety of mappings\n",
    "# Storing list in dictionaries\n",
    "point_to_region = {(0.1, 2.2, 3):False, (-10., 0, 4.5):True, (4.3, 1.0, 9.5):False}\n",
    "\n",
    "print(point_to_region[(-10., 0, 4.5)])\n",
    "\n",
    "name_to_scores = {\"Ryan S\": [65, 50, 80], \"Nick S\": [100, 99, 90]}\n",
    "print(name_to_scores[\"Nick S\"])"
   ]
  },
  {
   "cell_type": "code",
   "execution_count": 4,
   "metadata": {},
   "outputs": [
    {
     "data": {
      "text/plain": [
       "dict"
      ]
     },
     "execution_count": 4,
     "metadata": {},
     "output_type": "execute_result"
    }
   ],
   "source": [
    "type(name_to_scores)"
   ]
  },
  {
   "cell_type": "code",
   "execution_count": 13,
   "metadata": {},
   "outputs": [
    {
     "name": "stdout",
     "output_type": "stream",
     "text": [
      "{'apple': 'fruit', 'carrot': 'vegetable'}\n"
     ]
    }
   ],
   "source": [
    "# use the 'dictionary comprehension' syntax to create a dictionary that maps:\n",
    "#  \"apple\" -> \"fruit\"\n",
    "# \"carrot\" -> \"vegetable\n",
    "new_dict ={k:v for k,v in [(\"apple\", \"fruit\"), (\"carrot\", \"vegetable\")]}\n",
    "print(new_dict)"
   ]
  },
  {
   "cell_type": "code",
   "execution_count": 14,
   "metadata": {},
   "outputs": [
    {
     "ename": "KeyError",
     "evalue": "'kiwi'",
     "output_type": "error",
     "traceback": [
      "\u001b[1;31m---------------------------------------------------------------------------\u001b[0m",
      "\u001b[1;31mKeyError\u001b[0m                                  Traceback (most recent call last)",
      "\u001b[1;32m<ipython-input-14-1da12144973d>\u001b[0m in \u001b[0;36m<module>\u001b[1;34m\u001b[0m\n\u001b[0;32m      2\u001b[0m \u001b[1;33m\u001b[0m\u001b[0m\n\u001b[0;32m      3\u001b[0m \u001b[1;31m# Key error\u001b[0m\u001b[1;33m\u001b[0m\u001b[1;33m\u001b[0m\u001b[1;33m\u001b[0m\u001b[0m\n\u001b[1;32m----> 4\u001b[1;33m \u001b[0mprint\u001b[0m\u001b[1;33m(\u001b[0m\u001b[0mnew_dict\u001b[0m\u001b[1;33m[\u001b[0m\u001b[1;34m'kiwi'\u001b[0m\u001b[1;33m]\u001b[0m\u001b[1;33m)\u001b[0m\u001b[1;33m\u001b[0m\u001b[1;33m\u001b[0m\u001b[0m\n\u001b[0m",
      "\u001b[1;31mKeyError\u001b[0m: 'kiwi'"
     ]
    }
   ],
   "source": [
    "new_dict['apple']\n",
    "\n",
    "# Key error\n",
    "print(new_dict['kiwi'])"
   ]
  },
  {
   "cell_type": "code",
   "execution_count": 19,
   "metadata": {},
   "outputs": [
    {
     "name": "stdout",
     "output_type": "stream",
     "text": [
      "jojojo\n"
     ]
    },
    {
     "data": {
      "text/plain": [
       "{'apple': 'fruit', 'carrot': 'vegetable', 'kiwi': 'jojojo', 'grape': 'long'}"
      ]
     },
     "execution_count": 19,
     "metadata": {},
     "output_type": "execute_result"
    }
   ],
   "source": [
    "new_dict['kiwi'] = \"jojojo\"\n",
    "\n",
    "print(new_dict['kiwi'])\n",
    "\n",
    "# Update function - adding multiple key-value pairs\n",
    "new_dict.update([(\"grape\", \"long\")])\n",
    "new_dict"
   ]
  },
  {
   "cell_type": "code",
   "execution_count": 28,
   "metadata": {},
   "outputs": [
    {
     "data": {
      "text/plain": [
       "True"
      ]
     },
     "execution_count": 28,
     "metadata": {},
     "output_type": "execute_result"
    }
   ],
   "source": [
    "# Example using mutable object as key - error\n",
    "# bad_dict = {[]:1}\n",
    "dict = {\"moo\": True}\n",
    "dict['moo']"
   ]
  },
  {
   "cell_type": "code",
   "execution_count": 36,
   "metadata": {},
   "outputs": [
    {
     "name": "stdout",
     "output_type": "stream",
     "text": [
      "['key_1', 'key_2']\n",
      "John\n",
      "Jane\n"
     ]
    },
    {
     "data": {
      "text/plain": [
       "2"
      ]
     },
     "execution_count": 36,
     "metadata": {},
     "output_type": "execute_result"
    }
   ],
   "source": [
    "# Inspect dictionary key\n",
    "example_dict = {\"key_1\": \"John\", \"key_2\": \"Jane\"}\n",
    "\n",
    "# Iterate dictionary key\n",
    "print([i for i in example_dict])\n",
    "\n",
    "# Iterate dictionary object\n",
    "for i in example_dict:\n",
    "    print(example_dict[i])\n",
    "    \n",
    "len(example_dict)"
   ]
  },
  {
   "cell_type": "code",
   "execution_count": 40,
   "metadata": {},
   "outputs": [
    {
     "name": "stdout",
     "output_type": "stream",
     "text": [
      "dict_keys(['key_1', 'key_2'])\n",
      "dict_values(['John', 'Jane'])\n"
     ]
    },
    {
     "data": {
      "text/plain": [
       "['John', 'Jane']"
      ]
     },
     "execution_count": 40,
     "metadata": {},
     "output_type": "execute_result"
    }
   ],
   "source": [
    "# Using keys / values function to return an iterable over dict's keys and values\n",
    "print(example_dict.keys())\n",
    "print(example_dict.values())\n",
    "\n",
    "[i for i in example_dict.values()]"
   ]
  },
  {
   "cell_type": "code",
   "execution_count": 42,
   "metadata": {},
   "outputs": [
    {
     "name": "stdout",
     "output_type": "stream",
     "text": [
      "True\n"
     ]
    },
    {
     "data": {
      "text/plain": [
       "False"
      ]
     },
     "execution_count": 42,
     "metadata": {},
     "output_type": "execute_result"
    }
   ],
   "source": [
    "# To check for object in dictionary's values\n",
    "print(\"John\" in example_dict.values())\n",
    "\n",
    "\"Fish\" in example_dict.values()"
   ]
  },
  {
   "cell_type": "code",
   "execution_count": 53,
   "metadata": {},
   "outputs": [],
   "source": [
    "# inverts dictionary\n",
    "def invert_dict(old_dict):\n",
    "    temp_dict = {}\n",
    "    for i in old_dict.keys():\n",
    "        temp_dict[old_dict[i]] = i\n",
    "    \n",
    "    return temp_dict"
   ]
  },
  {
   "cell_type": "code",
   "execution_count": 54,
   "metadata": {},
   "outputs": [
    {
     "data": {
      "text/plain": [
       "{'John': 'key_1', 'Jane': 'key_2'}"
      ]
     },
     "execution_count": 54,
     "metadata": {},
     "output_type": "execute_result"
    }
   ],
   "source": [
    "invert_dict(example_dict)"
   ]
  },
  {
   "cell_type": "code",
   "execution_count": null,
   "metadata": {},
   "outputs": [],
   "source": []
  },
  {
   "cell_type": "code",
   "execution_count": null,
   "metadata": {},
   "outputs": [],
   "source": []
  },
  {
   "cell_type": "code",
   "execution_count": null,
   "metadata": {},
   "outputs": [],
   "source": []
  },
  {
   "cell_type": "code",
   "execution_count": null,
   "metadata": {},
   "outputs": [],
   "source": []
  },
  {
   "cell_type": "code",
   "execution_count": null,
   "metadata": {},
   "outputs": [],
   "source": []
  }
 ],
 "metadata": {
  "kernelspec": {
   "display_name": "Python 3",
   "language": "python",
   "name": "python3"
  },
  "language_info": {
   "codemirror_mode": {
    "name": "ipython",
    "version": 3
   },
   "file_extension": ".py",
   "mimetype": "text/x-python",
   "name": "python",
   "nbconvert_exporter": "python",
   "pygments_lexer": "ipython3",
   "version": "3.8.8"
  }
 },
 "nbformat": 4,
 "nbformat_minor": 4
}
