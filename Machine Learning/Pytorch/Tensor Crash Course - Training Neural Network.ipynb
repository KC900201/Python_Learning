{
 "cells": [
  {
   "cell_type": "code",
   "execution_count": 1,
   "metadata": {},
   "outputs": [],
   "source": [
    "# Section 4: Linear Regression\n",
    "import torch\n",
    "import random\n",
    "import numpy as np\n",
    "import matplotlib.pyplot as plt"
   ]
  },
  {
   "cell_type": "code",
   "execution_count": 2,
   "metadata": {},
   "outputs": [],
   "source": [
    "# Video 14 - Making Predictions\n",
    "# Example using gradient descent to declare a linear model and make predictions\n",
    "#w = torch.tensor(random.uniform(0, 10), requires_grad=True) # weight, setting a random value\n",
    "#b = torch.tensor(random.uniform(0, 10), requires_grad=True) # bias\n",
    "w = torch.tensor(3.0, requires_grad=True) # weight, setting a random value\n",
    "b = torch.tensor(1.0, requires_grad=True) # bias"
   ]
  },
  {
   "cell_type": "code",
   "execution_count": 3,
   "metadata": {},
   "outputs": [],
   "source": [
    "# Defining function for input x\n",
    "def forward(x):\n",
    "    y = w*x + b # a simple linear model, will train along time to fit, x = input, y = prediction output\n",
    "    return y"
   ]
  },
  {
   "cell_type": "code",
   "execution_count": 4,
   "metadata": {},
   "outputs": [
    {
     "data": {
      "text/plain": [
       "tensor([[ 7.],\n",
       "        [22.]], grad_fn=<AddBackward0>)"
      ]
     },
     "execution_count": 4,
     "metadata": {},
     "output_type": "execute_result"
    }
   ],
   "source": [
    "#x = torch.tensor(2)\n",
    "x = torch.tensor([[2], [7]]) # if x has two inputs, n input values\n",
    "forward(x)"
   ]
  },
  {
   "cell_type": "code",
   "execution_count": 5,
   "metadata": {},
   "outputs": [],
   "source": [
    "# Vid 15 - Linear Class\n",
    "# Standardized way of creating linear class\n",
    "from torch.nn import Linear"
   ]
  },
  {
   "cell_type": "code",
   "execution_count": 6,
   "metadata": {},
   "outputs": [
    {
     "name": "stdout",
     "output_type": "stream",
     "text": [
      "Parameter containing:\n",
      "tensor([-0.4414], requires_grad=True) Parameter containing:\n",
      "tensor([[0.5153]], requires_grad=True)\n"
     ]
    }
   ],
   "source": [
    "torch.manual_seed(1) # construct a seed to generate random numbers\n",
    "model = Linear(in_features=1, out_features=1) # for every output, theres single input\n",
    "print(model.bias, model.weight)"
   ]
  },
  {
   "cell_type": "code",
   "execution_count": 7,
   "metadata": {},
   "outputs": [
    {
     "name": "stdout",
     "output_type": "stream",
     "text": [
      "tensor([[0.5891],\n",
      "        [1.2590]], grad_fn=<AddmmBackward>)\n"
     ]
    }
   ],
   "source": [
    "x = torch.tensor([[2.0], [3.3]])\n",
    "print(model(x))"
   ]
  },
  {
   "cell_type": "code",
   "execution_count": 8,
   "metadata": {},
   "outputs": [],
   "source": [
    "# Vid 16 - Custom Modules\n",
    "import torch.nn as nn"
   ]
  },
  {
   "cell_type": "code",
   "execution_count": 9,
   "metadata": {},
   "outputs": [],
   "source": [
    "# creating new class\n",
    "class LR(nn.Module):\n",
    "    def __init__(self, input_size, output_size): # constructor to initialize new int\n",
    "        super().__init__() # more freedom to initiate\n",
    "        self.linear = nn.Linear(input_size, output_size)\n",
    "\n",
    "    def forward(self, x):\n",
    "        y = self.linear(x) # a simple linear model, will train along time to fit, x = input, y = prediction output\n",
    "        return y"
   ]
  },
  {
   "cell_type": "code",
   "execution_count": 10,
   "metadata": {},
   "outputs": [
    {
     "name": "stdout",
     "output_type": "stream",
     "text": [
      "tensor([[0.0739],\n",
      "        [0.5891]], grad_fn=<AddmmBackward>)\n"
     ]
    }
   ],
   "source": [
    "torch.manual_seed(1)\n",
    "model = LR(1, 1)\n",
    "\n",
    "#print(model.parameters())\n",
    "#print(list(model.parameters()))\n",
    "\n",
    "x = torch.tensor([[1.0], [2.0]])\n",
    "y = model.forward(x)\n",
    "print(y)"
   ]
  },
  {
   "cell_type": "code",
   "execution_count": 11,
   "metadata": {},
   "outputs": [
    {
     "data": {
      "text/plain": [
       "Text(0, 0.5, 'y')"
      ]
     },
     "execution_count": 11,
     "metadata": {},
     "output_type": "execute_result"
    },
    {
     "data": {
      "image/png": "[encoded data removed]",
      "text/plain": [
       "<Figure size 432x288 with 1 Axes>"
      ]
     },
     "metadata": {
      "needs_background": "light"
     },
     "output_type": "display_data"
    }
   ],
   "source": [
    "# Vid 17 - Creating Dataset\n",
    "X = torch.randn(100, 1)*10 # creating a set of random integers\n",
    "y = X + (3 * torch.randn(100, 1))\n",
    "plt.plot(X.numpy(), y.numpy(), 'o')\n",
    "plt.xlabel('X')\n",
    "plt.ylabel('y')"
   ]
  },
  {
   "cell_type": "code",
   "execution_count": 12,
   "metadata": {},
   "outputs": [
    {
     "name": "stdout",
     "output_type": "stream",
     "text": [
      "tensor(0.5153, grad_fn=<SelectBackward>) tensor(-0.4414, grad_fn=<SelectBackward>)\n"
     ]
    }
   ],
   "source": [
    "# Set up weight and bias of our LR model\n",
    "[w, b] = model.parameters()\n",
    "#print(w, b)\n",
    "w1 = w[0][0]\n",
    "b1 = b[0]\n",
    "print(w1, b1)"
   ]
  },
  {
   "cell_type": "code",
   "execution_count": 13,
   "metadata": {},
   "outputs": [],
   "source": [
    "def get_params():\n",
    "    return (w[0][0].item(), b[0].item())"
   ]
  },
  {
   "cell_type": "code",
   "execution_count": 14,
   "metadata": {},
   "outputs": [],
   "source": [
    "def plot_fit(title):\n",
    "    plt.title = title\n",
    "    w1, b1 = get_params()\n",
    "    x1 = np.array([-30, 30])\n",
    "    y1 = w1*x1 + b1\n",
    "    plt.plot(x1, y1, 'r')\n",
    "    plt.scatter(X, y)\n",
    "    plt.show()    "
   ]
  },
  {
   "cell_type": "code",
   "execution_count": 15,
   "metadata": {},
   "outputs": [
    {
     "data": {
      "image/png": "[encoded data removed]",
      "text/plain": [
       "<Figure size 432x288 with 1 Axes>"
      ]
     },
     "metadata": {
      "needs_background": "light"
     },
     "output_type": "display_data"
    }
   ],
   "source": [
    "plot_fit('Initial model')"
   ]
  },
  {
   "cell_type": "code",
   "execution_count": 16,
   "metadata": {},
   "outputs": [],
   "source": [
    "# Video 21 - Implement Gradient Descent\n",
    "criterion = nn.MSELoss() # mean squared error loss\n",
    "optimizer = torch.optim.SGD(model.parameters(), lr = 0.01) # SGD equation "
   ]
  },
  {
   "cell_type": "code",
   "execution_count": 17,
   "metadata": {},
   "outputs": [
    {
     "name": "stdout",
     "output_type": "stream",
     "text": [
      "epoch:  0 loss:  36.448333740234375\n",
      "epoch:  1 loss:  43.94552230834961\n",
      "epoch:  2 loss:  53.461822509765625\n",
      "epoch:  3 loss:  65.5404281616211\n",
      "epoch:  4 loss:  80.87049865722656\n",
      "epoch:  5 loss:  100.32696533203125\n",
      "epoch:  6 loss:  125.01981353759766\n",
      "epoch:  7 loss:  156.3577880859375\n",
      "epoch:  8 loss:  196.12875366210938\n",
      "epoch:  9 loss:  246.60142517089844\n",
      "epoch:  10 loss:  310.6552429199219\n",
      "epoch:  11 loss:  391.9435119628906\n",
      "epoch:  12 loss:  495.1043395996094\n",
      "epoch:  13 loss:  626.021240234375\n",
      "epoch:  14 loss:  792.162109375\n",
      "epoch:  15 loss:  1003.0047607421875\n",
      "epoch:  16 loss:  1270.573974609375\n",
      "epoch:  17 loss:  1610.131591796875\n",
      "epoch:  18 loss:  2041.0472412109375\n",
      "epoch:  19 loss:  2587.899169921875\n",
      "epoch:  20 loss:  3281.88427734375\n",
      "epoch:  21 loss:  4162.58251953125\n",
      "epoch:  22 loss:  5280.22607421875\n",
      "epoch:  23 loss:  6698.56982421875\n",
      "epoch:  24 loss:  8498.5029296875\n",
      "epoch:  25 loss:  10782.7236328125\n",
      "epoch:  26 loss:  13681.5\n",
      "epoch:  27 loss:  17360.189453125\n",
      "epoch:  28 loss:  22028.619140625\n",
      "epoch:  29 loss:  27953.029296875\n",
      "epoch:  30 loss:  35471.42578125\n",
      "epoch:  31 loss:  45012.60546875\n",
      "epoch:  32 loss:  57120.82421875\n",
      "epoch:  33 loss:  72486.7265625\n",
      "epoch:  34 loss:  91986.7734375\n",
      "epoch:  35 loss:  116733.2109375\n",
      "epoch:  36 loss:  148137.640625\n",
      "epoch:  37 loss:  187991.421875\n",
      "epoch:  38 loss:  238567.625\n",
      "epoch:  39 loss:  302751.03125\n",
      "epoch:  40 loss:  384202.96875\n",
      "epoch:  41 loss:  487569.125\n",
      "epoch:  42 loss:  618745.625\n",
      "epoch:  43 loss:  785214.75\n",
      "epoch:  44 loss:  996471.9375\n",
      "epoch:  45 loss:  1264566.375\n",
      "epoch:  46 loss:  1604792.0\n",
      "epoch:  47 loss:  2036555.625\n",
      "epoch:  48 loss:  2584480.75\n",
      "epoch:  49 loss:  3279822.75\n",
      "epoch:  50 loss:  4162246.0\n",
      "epoch:  51 loss:  5282088.0\n",
      "epoch:  52 loss:  6703212.0\n",
      "epoch:  53 loss:  8506686.0\n",
      "epoch:  54 loss:  10795365.0\n",
      "epoch:  55 loss:  13699814.0\n",
      "epoch:  56 loss:  17385696.0\n",
      "epoch:  57 loss:  22063232.0\n",
      "epoch:  58 loss:  27999266.0\n",
      "epoch:  59 loss:  35532364.0\n",
      "epoch:  60 loss:  45092212.0\n",
      "epoch:  61 loss:  57224080.0\n",
      "epoch:  62 loss:  72619944.0\n",
      "epoch:  63 loss:  92158096.0\n",
      "epoch:  64 loss:  116953016.0\n",
      "epoch:  65 loss:  148418800.0\n",
      "epoch:  66 loss:  188350336.0\n",
      "epoch:  67 loss:  239025392.0\n",
      "epoch:  68 loss:  303334208.0\n",
      "epoch:  69 loss:  384944672.0\n",
      "epoch:  70 loss:  488513120.0\n",
      "epoch:  71 loss:  619946112.0\n",
      "epoch:  72 loss:  786739776.0\n",
      "epoch:  73 loss:  998408960.0\n",
      "epoch:  74 loss:  1267026688.0\n",
      "epoch:  75 loss:  1607916032.0\n",
      "epoch:  76 loss:  2040521472.0\n",
      "epoch:  77 loss:  2589516288.0\n",
      "epoch:  78 loss:  3286216960.0\n",
      "epoch:  79 loss:  4170363136.0\n",
      "epoch:  80 loss:  5292381184.0\n",
      "epoch:  81 loss:  6716276736.0\n",
      "epoch:  82 loss:  8523273216.0\n",
      "epoch:  83 loss:  10816417792.0\n",
      "epoch:  84 loss:  13726529536.0\n",
      "epoch:  85 loss:  17419608064.0\n",
      "epoch:  86 loss:  22106288128.0\n",
      "epoch:  87 loss:  28053929984.0\n",
      "epoch:  88 loss:  35601727488.0\n",
      "epoch:  89 loss:  45180289024.0\n",
      "epoch:  90 loss:  57335869440.0\n",
      "epoch:  91 loss:  72761769984.0\n",
      "epoch:  92 loss:  92337963008.0\n",
      "epoch:  93 loss:  117181169664.0\n",
      "epoch:  94 loss:  148708229120.0\n",
      "epoch:  95 loss:  188717694976.0\n",
      "epoch:  96 loss:  239491596288.0\n",
      "epoch:  97 loss:  303925821440.0\n",
      "epoch:  98 loss:  385696071680.0\n",
      "epoch:  99 loss:  489466265600.0\n"
     ]
    }
   ],
   "source": [
    "epochs = 100\n",
    "losses = []\n",
    "\n",
    "# Need to fix - 09022020\n",
    "for i in range(epochs):\n",
    "    y_pred = model.forward(X)\n",
    "    loss = criterion(y_pred, y)\n",
    "    print(\"epoch: \", i, \"loss: \", loss.item())\n",
    "    \n",
    "    losses.append(loss)    \n",
    "    optimizer.zero_grad()\n",
    "    loss.backward()\n",
    "    optimizer.step()"
   ]
  },
  {
   "cell_type": "code",
   "execution_count": 18,
   "metadata": {},
   "outputs": [
    {
     "data": {
      "text/plain": [
       "Text(0.5, 0, 'Epoch')"
      ]
     },
     "execution_count": 18,
     "metadata": {},
     "output_type": "execute_result"
    },
    {
     "data": {
      "image/png": "[encoded data removed]",
      "text/plain": [
       "<Figure size 432x288 with 1 Axes>"
      ]
     },
     "metadata": {
      "needs_background": "light"
     },
     "output_type": "display_data"
    }
   ],
   "source": [
    "plt.plot(range(epochs), losses)\n",
    "plt.ylabel('Loss')\n",
    "plt.xlabel('Epoch')"
   ]
  },
  {
   "cell_type": "code",
   "execution_count": 19,
   "metadata": {},
   "outputs": [
    {
     "data": {
      "image/png": "[encoded data removed]",
      "text/plain": [
       "<Figure size 432x288 with 1 Axes>"
      ]
     },
     "metadata": {
      "needs_background": "light"
     },
     "output_type": "display_data"
    }
   ],
   "source": [
    "plot_fit(\"Trained Model\")"
   ]
  },
  {
   "cell_type": "code",
   "execution_count": null,
   "metadata": {},
   "outputs": [],
   "source": []
  }
 ],
 "metadata": {
  "kernelspec": {
   "display_name": "Python 3",
   "language": "python",
   "name": "python3"
  },
  "language_info": {
   "codemirror_mode": {
    "name": "ipython",
    "version": 3
   },
   "file_extension": ".py",
   "mimetype": "text/x-python",
   "name": "python",
   "nbconvert_exporter": "python",
   "pygments_lexer": "ipython3",
   "version": "3.7.4"
  }
 },
 "nbformat": 4,
 "nbformat_minor": 2
}
