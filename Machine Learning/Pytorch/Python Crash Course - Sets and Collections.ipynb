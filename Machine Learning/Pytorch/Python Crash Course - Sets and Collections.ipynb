{
 "cells": [
  {
   "cell_type": "code",
   "execution_count": 4,
   "metadata": {},
   "outputs": [
    {
     "data": {
      "text/plain": [
       "{0, 1, 4, 16}"
      ]
     },
     "execution_count": 4,
     "metadata": {},
     "output_type": "execute_result"
    }
   ],
   "source": [
    "# Creating a  set\n",
    "{1, 3.4, \"apple\", False, (1, 2, 3)}\n",
    "\n",
    "# Initialize set via set-comprehension\n",
    "{i ** 2 for i in range(5) if i != 3}"
   ]
  },
  {
   "cell_type": "code",
   "execution_count": 8,
   "metadata": {},
   "outputs": [
    {
     "name": "stdout",
     "output_type": "stream",
     "text": [
      "<class 'set'>\n",
      "set()\n"
     ]
    }
   ],
   "source": [
    "a = {1, 232.2, False, 'abbb'}\n",
    "print(type(a))\n",
    "\n",
    "b  = set()\n",
    "print(b)"
   ]
  },
  {
   "cell_type": "code",
   "execution_count": 10,
   "metadata": {},
   "outputs": [
    {
     "name": "stdout",
     "output_type": "stream",
     "text": [
      "True\n"
     ]
    },
    {
     "data": {
      "text/plain": [
       "['a', 'b', 'c']"
      ]
     },
     "execution_count": 10,
     "metadata": {},
     "output_type": "execute_result"
    }
   ],
   "source": [
    "# checking membership in a set\n",
    "print(2 in {1, 2, 3})\n",
    "\n",
    "# iterating over a set (the order of iteration is random)\n",
    "[i for i in {\"a\", \"b\", \"c\"}]"
   ]
  },
  {
   "cell_type": "code",
   "execution_count": 2,
   "metadata": {},
   "outputs": [
    {
     "name": "stdout",
     "output_type": "stream",
     "text": [
      "{1, 2, 3, 4, 'apple'}\n",
      "5\n"
     ]
    }
   ],
   "source": [
    "# Storing unique items in set\n",
    "x = {1, 1, 2, 2, 3, 4, 'apple', 'apple'}\n",
    "print(x)\n",
    "print(len(x))"
   ]
  },
  {
   "cell_type": "code",
   "execution_count": 7,
   "metadata": {},
   "outputs": [
    {
     "name": "stdout",
     "output_type": "stream",
     "text": [
      "{'c', 'h', 'b', 'd', 'f', 'a', 'g'}\n",
      "{'b', 'a'}\n"
     ]
    },
    {
     "data": {
      "text/plain": [
       "{'c', 'd', 'f', 'g', 'h'}"
      ]
     },
     "execution_count": 7,
     "metadata": {},
     "output_type": "execute_result"
    }
   ],
   "source": [
    "# Demonstrating exhaustive functions in sets\n",
    "x = {'a', 'b', 'c', 'd'}\n",
    "y = {'a', 'b', 'f', 'g', 'h'}\n",
    "\n",
    "# Union\n",
    "print(x | y)\n",
    "x.union(y)\n",
    "# Intersection\n",
    "print(x & y)\n",
    "x.intersection(y)\n",
    "# Symmetric\n",
    "x ^ y"
   ]
  },
  {
   "cell_type": "code",
   "execution_count": 11,
   "metadata": {},
   "outputs": [
    {
     "name": "stdout",
     "output_type": "stream",
     "text": [
      "1.03\n",
      "2.45\n",
      "3.4800000000000004\n",
      "1.03\n"
     ]
    }
   ],
   "source": [
    "# Describe the use of Collections Module\n",
    "# Named Tuple\n",
    "from collections import namedtuple\n",
    "\n",
    "coordinates = namedtuple('coordinates', ['x', 'y', 'z'])\n",
    "\n",
    "r = coordinates(1.03, 2.45, 4.34)\n",
    "\n",
    "print(r.x)\n",
    "print(r.y)\n",
    "\n",
    "sum = r.x + r.y\n",
    "print(sum)\n",
    "\n",
    "# Access contents by indexing / slicing\n",
    "print(r[0])\n",
    "\n",
    "# Default Dictionary\n",
    "# Counter"
   ]
  }
 ],
 "metadata": {
  "kernelspec": {
   "display_name": "Python 3",
   "language": "python",
   "name": "python3"
  },
  "language_info": {
   "codemirror_mode": {
    "name": "ipython",
    "version": 3
   },
   "file_extension": ".py",
   "mimetype": "text/x-python",
   "name": "python",
   "nbconvert_exporter": "python",
   "pygments_lexer": "ipython3",
   "version": "3.8.8"
  }
 },
 "nbformat": 4,
 "nbformat_minor": 2
}
