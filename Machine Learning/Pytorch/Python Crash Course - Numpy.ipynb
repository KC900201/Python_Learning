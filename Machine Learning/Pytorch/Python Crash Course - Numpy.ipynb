{
 "cells": [
  {
   "cell_type": "code",
   "execution_count": 1,
   "metadata": {},
   "outputs": [],
   "source": [
    "import numpy as np"
   ]
  },
  {
   "cell_type": "code",
   "execution_count": 2,
   "metadata": {},
   "outputs": [
    {
     "name": "stdout",
     "output_type": "stream",
     "text": [
      "Before: \n",
      "\n",
      "[1, 2, 3]\n",
      "[1, 2, 3]\n",
      "After: \n",
      "\n",
      "[1, 4, 9]\n",
      "[1, 8, 27]\n",
      "[2, 12, 36]\n"
     ]
    }
   ],
   "source": [
    "# Numerical operations using Python lists\n",
    "list_two = list(range(1, 4)) # 4 is exclusive\n",
    "list_three = list(range(1, 4))\n",
    "list_sum = []\n",
    "\n",
    "print(\"Before: \\n\")\n",
    "print(list_two)\n",
    "print(list_three)\n",
    "\n",
    "for index in range(3):\n",
    "    list_two[index] = list_two[index] ** 2\n",
    "    list_three[index] = list_three[index] ** 3\n",
    "    list_sum.append(list_two[index] + list_three[index])\n",
    "\n",
    "print(\"After: \\n\")\n",
    "print(list_two)\n",
    "print(list_three)\n",
    "        \n",
    "print(list_sum)"
   ]
  },
  {
   "cell_type": "code",
   "execution_count": 3,
   "metadata": {},
   "outputs": [
    {
     "name": "stdout",
     "output_type": "stream",
     "text": [
      "[1 4 9]\n"
     ]
    }
   ],
   "source": [
    "# Numerical operations using Numpy array\n",
    "\n",
    "array_two = np.arange(1, 4) ** 2\n",
    "print(array_two)"
   ]
  },
  {
   "cell_type": "code",
   "execution_count": 4,
   "metadata": {},
   "outputs": [
    {
     "name": "stdout",
     "output_type": "stream",
     "text": [
      "[ 1  8 27]\n",
      "[ 2 12 36]\n"
     ]
    }
   ],
   "source": [
    "array_three = np.arange(1, 4) ** 3\n",
    "print(array_three)\n",
    "print(array_two + array_three)"
   ]
  },
  {
   "cell_type": "code",
   "execution_count": 5,
   "metadata": {},
   "outputs": [],
   "source": [
    "sample_array = np.array([1, 2, 3])"
   ]
  },
  {
   "cell_type": "code",
   "execution_count": 6,
   "metadata": {},
   "outputs": [],
   "source": [
    "# Polynomial operations (power)\n",
    "test_power = np.power(sample_array, 4)"
   ]
  },
  {
   "cell_type": "code",
   "execution_count": 7,
   "metadata": {},
   "outputs": [
    {
     "name": "stdout",
     "output_type": "stream",
     "text": [
      "[ 1 16 81]\n"
     ]
    }
   ],
   "source": [
    "print(test_power)"
   ]
  },
  {
   "cell_type": "code",
   "execution_count": 8,
   "metadata": {},
   "outputs": [
    {
     "name": "stdout",
     "output_type": "stream",
     "text": [
      "[-1 -2 -3]\n"
     ]
    }
   ],
   "source": [
    "print(np.negative(sample_array))"
   ]
  },
  {
   "cell_type": "code",
   "execution_count": 9,
   "metadata": {},
   "outputs": [
    {
     "data": {
      "text/plain": [
       "array([ 2.71828183,  7.3890561 , 20.08553692])"
      ]
     },
     "execution_count": 9,
     "metadata": {},
     "output_type": "execute_result"
    }
   ],
   "source": [
    "np.exp(sample_array)"
   ]
  },
  {
   "cell_type": "code",
   "execution_count": 10,
   "metadata": {},
   "outputs": [
    {
     "data": {
      "text/plain": [
       "array([0.        , 0.69314718, 1.09861229])"
      ]
     },
     "execution_count": 10,
     "metadata": {},
     "output_type": "execute_result"
    }
   ],
   "source": [
    "np.log(sample_array)"
   ]
  },
  {
   "cell_type": "code",
   "execution_count": 11,
   "metadata": {},
   "outputs": [
    {
     "data": {
      "text/plain": [
       "array([0.84147098, 0.90929743, 0.14112001])"
      ]
     },
     "execution_count": 11,
     "metadata": {},
     "output_type": "execute_result"
    }
   ],
   "source": [
    "np.sin(sample_array)"
   ]
  },
  {
   "cell_type": "code",
   "execution_count": 12,
   "metadata": {},
   "outputs": [
    {
     "data": {
      "text/plain": [
       "array([ 0.54030231, -0.41614684, -0.9899925 ])"
      ]
     },
     "execution_count": 12,
     "metadata": {},
     "output_type": "execute_result"
    }
   ],
   "source": [
    "np.cos(sample_array)"
   ]
  },
  {
   "cell_type": "code",
   "execution_count": 13,
   "metadata": {},
   "outputs": [
    {
     "data": {
      "text/plain": [
       "array([ 1.55740772, -2.18503986, -0.14254654])"
      ]
     },
     "execution_count": 13,
     "metadata": {},
     "output_type": "execute_result"
    }
   ],
   "source": [
    "np.tan(sample_array)"
   ]
  },
  {
   "cell_type": "code",
   "execution_count": 14,
   "metadata": {},
   "outputs": [
    {
     "name": "stdout",
     "output_type": "stream",
     "text": [
      "[[0 1 2]\n",
      " [3 4 5]\n",
      " [0 1 2]]\n",
      "(3, 3)\n"
     ]
    },
    {
     "data": {
      "text/plain": [
       "5"
      ]
     },
     "execution_count": 14,
     "metadata": {},
     "output_type": "execute_result"
    }
   ],
   "source": [
    "# Array arrangements\n",
    "x = np.arange(3) # 1 row, 3 columns, numpy array value from 0 to 2 (3 is exclusive)\n",
    "y = np.arange(3, 6) # All are 1-dimensional arrays\n",
    "z = np.arange(3)\n",
    "\n",
    "multi_array = np.array([x,y,z], dtype = np.int16)\n",
    "print(multi_array)\n",
    "print(multi_array.shape) # print array shape (3 r, 3 c)\n",
    "\n",
    "# Indexing\n",
    "multi_array[1, 2] # points to 1th row, 2nd column value (indexing starts from 0)"
   ]
  },
  {
   "cell_type": "code",
   "execution_count": 15,
   "metadata": {},
   "outputs": [
    {
     "name": "stdout",
     "output_type": "stream",
     "text": [
      "[ 1.          1.49494949  1.98989899  2.48484848  2.97979798  3.47474747\n",
      "  3.96969697  4.46464646  4.95959596  5.45454545  5.94949495  6.44444444\n",
      "  6.93939394  7.43434343  7.92929293  8.42424242  8.91919192  9.41414141\n",
      "  9.90909091 10.4040404  10.8989899  11.39393939 11.88888889 12.38383838\n",
      " 12.87878788 13.37373737 13.86868687 14.36363636 14.85858586 15.35353535\n",
      " 15.84848485 16.34343434 16.83838384 17.33333333 17.82828283 18.32323232\n",
      " 18.81818182 19.31313131 19.80808081 20.3030303  20.7979798  21.29292929\n",
      " 21.78787879 22.28282828 22.77777778 23.27272727 23.76767677 24.26262626\n",
      " 24.75757576 25.25252525 25.74747475 26.24242424 26.73737374 27.23232323\n",
      " 27.72727273 28.22222222 28.71717172 29.21212121 29.70707071 30.2020202\n",
      " 30.6969697  31.19191919 31.68686869 32.18181818 32.67676768 33.17171717\n",
      " 33.66666667 34.16161616 34.65656566 35.15151515 35.64646465 36.14141414\n",
      " 36.63636364 37.13131313 37.62626263 38.12121212 38.61616162 39.11111111\n",
      " 39.60606061 40.1010101  40.5959596  41.09090909 41.58585859 42.08080808\n",
      " 42.57575758 43.07070707 43.56565657 44.06060606 44.55555556 45.05050505\n",
      " 45.54545455 46.04040404 46.53535354 47.03030303 47.52525253 48.02020202\n",
      " 48.51515152 49.01010101 49.50505051 50.        ]\n",
      "(100,)\n"
     ]
    }
   ],
   "source": [
    "w = np.linspace(1, 50, 100) # Gives out 50 rows of array, from evenly spaced no. from 1 to 10\n",
    "print(w) # (value start, value end, n rows(step size))\n",
    "print(w.shape)"
   ]
  },
  {
   "cell_type": "code",
   "execution_count": 16,
   "metadata": {},
   "outputs": [
    {
     "name": "stdout",
     "output_type": "stream",
     "text": [
      "(50,)\n"
     ]
    }
   ],
   "source": [
    "b = np.linspace(1, 30)\n",
    "b\n",
    "print(b.shape)"
   ]
  },
  {
   "cell_type": "code",
   "execution_count": 17,
   "metadata": {},
   "outputs": [
    {
     "data": {
      "text/plain": [
       "array([ 1,  2,  3,  4,  5,  6,  7,  8,  9, 10, 11, 12, 13, 14, 15, 16, 17,\n",
       "       18, 19])"
      ]
     },
     "execution_count": 17,
     "metadata": {},
     "output_type": "execute_result"
    }
   ],
   "source": [
    "# 1-D array slicing\n",
    "x = np.arange(1, 20)\n",
    "x"
   ]
  },
  {
   "cell_type": "code",
   "execution_count": 18,
   "metadata": {},
   "outputs": [
    {
     "name": "stdout",
     "output_type": "stream",
     "text": [
      "[4 5 6]\n",
      "[3 5 7]\n",
      "[ 3  4  5  6  7  8  9 10 11 12 13 14 15 16 17 18 19]\n"
     ]
    }
   ],
   "source": [
    "# Slicing from nth index to mth index, m exclusive\n",
    "print(x[3:6]) # remember index always starts from 0\n",
    "print(x[2:7:2]) # slice from 2th to 7th index, with a step size of 2\n",
    "print(x[2:]) # slice from 2th to n-1th index, n = array size"
   ]
  },
  {
   "cell_type": "code",
   "execution_count": 19,
   "metadata": {},
   "outputs": [
    {
     "name": "stdout",
     "output_type": "stream",
     "text": [
      "[0 1 2 3 4 5 6 7 8]\n",
      "(9,)\n"
     ]
    }
   ],
   "source": [
    "# N-dimensional array slicing, reshaping array\n",
    "x = np.arange(9)\n",
    "print(x)\n",
    "print(x.shape)"
   ]
  },
  {
   "cell_type": "code",
   "execution_count": 20,
   "metadata": {},
   "outputs": [
    {
     "name": "stdout",
     "output_type": "stream",
     "text": [
      "[[0 1 2]\n",
      " [3 4 5]\n",
      " [6 7 8]]\n",
      "(3, 3)\n"
     ]
    }
   ],
   "source": [
    "x = x.reshape(3, 3) # reshaping, must be compatible with the data, n = r*c\n",
    "print(x)\n",
    "print(x.shape)"
   ]
  },
  {
   "cell_type": "code",
   "execution_count": 21,
   "metadata": {},
   "outputs": [
    {
     "name": "stdout",
     "output_type": "stream",
     "text": [
      "[[[ 0  1]\n",
      "  [ 2  3]\n",
      "  [ 4  5]]\n",
      "\n",
      " [[ 6  7]\n",
      "  [ 8  9]\n",
      "  [10 11]]\n",
      "\n",
      " [[12 13]\n",
      "  [14 15]\n",
      "  [16 17]]]\n",
      "(3, 3, 2)\n"
     ]
    }
   ],
   "source": [
    "z = np.arange(18).reshape(3, 3, 2) # reshape with n blocks of data, r rows, c columns\n",
    "print(z)\n",
    "print(z.shape)"
   ]
  },
  {
   "cell_type": "code",
   "execution_count": 22,
   "metadata": {},
   "outputs": [
    {
     "name": "stdout",
     "output_type": "stream",
     "text": [
      "\n",
      "slicing from [nth block, nth row, nth column]\n",
      "\n",
      "9\n",
      "\n",
      "slicing from [nth block, ith to jth row, ith to jth column]\n",
      "\n",
      "[[ 6  7]\n",
      " [ 8  9]\n",
      " [10 11]]\n",
      "\n",
      "assume slicing with all the elements in the nth block\n",
      "\n",
      "[[12 13]\n",
      " [14 15]\n",
      " [16 17]]\n",
      "\n",
      "replacing : with elipses (...)\n",
      "\n",
      "[[0 1]\n",
      " [2 3]\n",
      " [4 5]]\n",
      "\n",
      "slice 0th row and 0th col values of all blocks of data\n",
      "\n",
      "[ 0  6 12]\n",
      "\n",
      "\n",
      "[[[ 0  1]\n",
      "  [ 2  3]\n",
      "  [ 4  5]]\n",
      "\n",
      " [[ 6  7]\n",
      "  [ 8  9]\n",
      "  [10 11]]\n",
      "\n",
      " [[12 13]\n",
      "  [14 15]\n",
      "  [16 17]]]\n"
     ]
    }
   ],
   "source": [
    "print(\"\\nslicing from [nth block, nth row, nth column]\\n\")\n",
    "print(z[1, 1, 1]) # slicing from [nth block, nth row, nth column]\n",
    "print(\"\\nslicing from [nth block, ith to jth row, ith to jth column]\\n\")\n",
    "print(z[1, 0:3, 0:2]) # slicing from [nth block, ith to jth row, ith to jth column]\n",
    "print(\"\\nassume slicing with all the elements in the nth block\\n\")\n",
    "print(z[2, :, :]) # assume slicing with all the elements in the nth block\n",
    "print(\"\\nreplacing : with elipses (...)\\n\")\n",
    "print(z[0, ...]) # replacing : with elipses (...)\n",
    "print(\"\\nslice 0th row and 0th col values of all blocks of data\\n\")\n",
    "print(z[:, 0, 0]) # slice 0th row and 0th col values of all blocks of data\n",
    "print(\"\\n\")\n",
    "print(z[:, 0:3, 0:2]) "
   ]
  },
  {
   "cell_type": "code",
   "execution_count": 23,
   "metadata": {},
   "outputs": [
    {
     "name": "stdout",
     "output_type": "stream",
     "text": [
      "[[[False False]\n",
      "  [False False]\n",
      "  [False False]]\n",
      "\n",
      " [[ True  True]\n",
      "  [ True  True]\n",
      "  [ True  True]]\n",
      "\n",
      " [[ True  True]\n",
      "  [ True  True]\n",
      "  [ True  True]]]\n",
      "[ 6  7  8  9 10 11 12 13 14 15 16 17]\n",
      "17\n",
      "0\n"
     ]
    }
   ],
   "source": [
    "# Slicing using boolean operation\n",
    "comparison = z > 5\n",
    "print(comparison)\n",
    "print(z[comparison]) # or can do with (z[z>5])\n",
    "print(z.max())\n",
    "print(z.min())"
   ]
  },
  {
   "cell_type": "code",
   "execution_count": 24,
   "metadata": {},
   "outputs": [
    {
     "name": "stdout",
     "output_type": "stream",
     "text": [
      "[[0 1 2]\n",
      " [3 4 5]\n",
      " [6 7 8]]\n"
     ]
    }
   ],
   "source": [
    "# Array manipulation\n",
    "a = np.arange(9).reshape(3, 3)\n",
    "print(a)"
   ]
  },
  {
   "cell_type": "code",
   "execution_count": 25,
   "metadata": {},
   "outputs": [
    {
     "name": "stdout",
     "output_type": "stream",
     "text": [
      "[0 1 2 3 4 5 6 7 8]\n",
      "[[0 1 2]\n",
      " [3 4 5]\n",
      " [6 7 8]]\n"
     ]
    }
   ],
   "source": [
    "ravelled_array = a.ravel()\n",
    "#ravelled_array[2] = 4564\n",
    "print(ravelled_array)\n",
    "print(a)"
   ]
  },
  {
   "cell_type": "code",
   "execution_count": 26,
   "metadata": {},
   "outputs": [
    {
     "name": "stdout",
     "output_type": "stream",
     "text": [
      "[      0       1 1000000       3       4       5       6       7       8]\n",
      "[[0 1 2]\n",
      " [3 4 5]\n",
      " [6 7 8]]\n"
     ]
    }
   ],
   "source": [
    "flattened_array = a.flatten()\n",
    "flattened_array[2] = 1000000\n",
    "print(flattened_array)\n",
    "print(a)"
   ]
  },
  {
   "cell_type": "code",
   "execution_count": 27,
   "metadata": {},
   "outputs": [
    {
     "data": {
      "text/plain": [
       "'\\n* Flatten -> always return a copy and allocates new memory, changes to flatten will not reflect to orig array\\n* Ravel -> returns a view of the array, changes to ravel will reflect to original\\n'"
      ]
     },
     "execution_count": 27,
     "metadata": {},
     "output_type": "execute_result"
    }
   ],
   "source": [
    "\"\"\"\n",
    "* Flatten -> always return a copy and allocates new memory, changes to flatten will not reflect to orig array\n",
    "* Ravel -> returns a view of the array, changes to ravel will reflect to original\n",
    "\"\"\""
   ]
  },
  {
   "cell_type": "code",
   "execution_count": 28,
   "metadata": {},
   "outputs": [
    {
     "name": "stdout",
     "output_type": "stream",
     "text": [
      "[[0 1 2 3 4]\n",
      " [5 6 7 8 9]]\n",
      "[[0 5]\n",
      " [1 6]\n",
      " [2 7]\n",
      " [3 8]\n",
      " [4 9]]\n",
      "[[0 5]\n",
      " [1 6]\n",
      " [2 7]\n",
      " [3 8]\n",
      " [4 9]]\n"
     ]
    }
   ],
   "source": [
    "y = np.arange(10).reshape(2, 5)\n",
    "print(y)\n",
    "print(y.transpose())\n",
    "print(y.T) # short form of transpose()"
   ]
  },
  {
   "cell_type": "code",
   "execution_count": 29,
   "metadata": {},
   "outputs": [
    {
     "name": "stdout",
     "output_type": "stream",
     "text": [
      "[[0 1 2 3 4 5]\n",
      " [6 7 8 9 0 1]\n",
      " [2 3 4 5 6 7]\n",
      " [8 9 0 1 2 3]\n",
      " [4 5 6 7 8 9]\n",
      " [0 1 2 3 4 5]]\n"
     ]
    }
   ],
   "source": [
    "# Resizing\n",
    "y_resize = np.resize(y, (6, 6))\n",
    "print(y_resize)"
   ]
  },
  {
   "cell_type": "code",
   "execution_count": 30,
   "metadata": {},
   "outputs": [
    {
     "name": "stdout",
     "output_type": "stream",
     "text": [
      "[[0 0 0]\n",
      " [0 0 0]\n",
      " [0 0 0]]\n",
      "[[1 1 1]\n",
      " [1 1 1]\n",
      " [1 1 1]]\n",
      "[[1. 0. 0.]\n",
      " [0. 1. 0.]\n",
      " [0. 0. 1.]]\n",
      "[[0.7810784  0.80653002 0.11522366]\n",
      " [0.60517195 0.7154313  0.49837217]\n",
      " [0.16870697 0.10495117 0.58889311]]\n"
     ]
    }
   ],
   "source": [
    "print(np.zeros((3, 3), dtype=int))\n",
    "print(np.ones((3, 3), dtype=int))\n",
    "print(np.eye(3, 3))\n",
    "print(np.random.rand(3, 3))"
   ]
  },
  {
   "cell_type": "code",
   "execution_count": 32,
   "metadata": {},
   "outputs": [
    {
     "name": "stdout",
     "output_type": "stream",
     "text": [
      "[[0 1 2]\n",
      " [3 4 5]]\n",
      "[[ 3  4]\n",
      " [ 3 -2]\n",
      " [ 4 -2]]\n"
     ]
    }
   ],
   "source": [
    "# Matrix multiplication - 09282020\n",
    "mat_a = np.matrix([0, 1, 2, 3, 4, 5]).reshape(2, 3) # initialize matrix with reshape(row, col)\n",
    "mat_b = np.matrix([3, 4, 3, -2, 4, -2]).reshape(3, 2)\n",
    "print(mat_a)\n",
    "print(mat_b)"
   ]
  },
  {
   "cell_type": "code",
   "execution_count": 34,
   "metadata": {},
   "outputs": [
    {
     "data": {
      "text/plain": [
       "matrix([[11, -6],\n",
       "        [41, -6]])"
      ]
     },
     "execution_count": 34,
     "metadata": {},
     "output_type": "execute_result"
    }
   ],
   "source": [
    "product = np.matmul(mat_a, mat_b)\n",
    "product"
   ]
  },
  {
   "cell_type": "code",
   "execution_count": 83,
   "metadata": {},
   "outputs": [
    {
     "name": "stdout",
     "output_type": "stream",
     "text": [
      "[[0 1]\n",
      " [2 3]]\n",
      "[[0 1 2 3]\n",
      " [4 5 6 7]]\n",
      "[[0 1]\n",
      " [2 3]]\n",
      "X shape: (2, 2)\n"
     ]
    }
   ],
   "source": [
    "#Stacking\n",
    "x = np.arange(4).reshape(2, 2)\n",
    "y = np.arange(8).reshape(2, 4)\n",
    "z = np.arange(4).reshape(2, 2)\n",
    "\n",
    "print(x)\n",
    "print(y)\n",
    "print(z)\n",
    "\n",
    "print(\"X shape: \" + str(x.shape))"
   ]
  },
  {
   "cell_type": "code",
   "execution_count": 84,
   "metadata": {},
   "outputs": [
    {
     "name": "stdout",
     "output_type": "stream",
     "text": [
      "[[0 1 0 1 2 3]\n",
      " [2 3 4 5 6 7]]\n",
      "Stack shape: (2, 6)\n"
     ]
    }
   ],
   "source": [
    "# h_stack = horizontal stacking n arrays into 1,\n",
    "# both arrays musth have the same shape along the first axis \n",
    "# (vertically runs downward along the rows)\n",
    "h_stack = np.hstack((x, y))\n",
    "print(h_stack)\n",
    "print(\"Stack shape: \" + str(h_stack.shape))"
   ]
  },
  {
   "cell_type": "code",
   "execution_count": 85,
   "metadata": {},
   "outputs": [
    {
     "name": "stdout",
     "output_type": "stream",
     "text": [
      "[[0 1]\n",
      " [2 3]\n",
      " [0 1]\n",
      " [2 3]]\n",
      "Stack shape: (4, 2)\n"
     ]
    }
   ],
   "source": [
    "# v_stack = vertically stacking n arrays into 1,\n",
    "# both arrays musth have the same shape along the second axis \n",
    "# (vertically runs downward along the cols)\n",
    "v_stack = np.vstack((x, z))\n",
    "print(v_stack)\n",
    "print(\"Stack shape: \" + str(v_stack.shape))"
   ]
  },
  {
   "cell_type": "code",
   "execution_count": 86,
   "metadata": {},
   "outputs": [
    {
     "name": "stdout",
     "output_type": "stream",
     "text": [
      "[[0 1 0 1 2 3]\n",
      " [2 3 4 5 6 7]]\n",
      "[[0 1]\n",
      " [2 3]\n",
      " [0 1]\n",
      " [2 3]]\n"
     ]
    }
   ],
   "source": [
    "#Concatenation of arrays\n",
    "w = np.concatenate((x, y), axis=1) # concatenate at second axis\n",
    "print(w)\n",
    "v = np.concatenate((x, z), axis=0) # concatenate at first axis\n",
    "print(v)"
   ]
  },
  {
   "cell_type": "code",
   "execution_count": 87,
   "metadata": {},
   "outputs": [
    {
     "name": "stdout",
     "output_type": "stream",
     "text": [
      "[[ True  True  True  True  True  True]\n",
      " [ True  True  True  True  True  True]]\n",
      "[[ True  True]\n",
      " [ True  True]\n",
      " [ True  True]\n",
      " [ True  True]]\n"
     ]
    }
   ],
   "source": [
    "# Compare stack and concatenated arrays\n",
    "print(h_stack == w)\n",
    "print(v_stack == v)"
   ]
  },
  {
   "cell_type": "code",
   "execution_count": 90,
   "metadata": {},
   "outputs": [
    {
     "name": "stdout",
     "output_type": "stream",
     "text": [
      "[[[0 0]\n",
      "  [1 1]]\n",
      "\n",
      " [[2 2]\n",
      "  [3 3]]]\n",
      "(2, 2, 2)\n"
     ]
    }
   ],
   "source": [
    "# Depth stacking\n",
    "# both arrays must be in same dimension, will add one dimension (3rd) \n",
    "depth_stack = np.dstack((x, z))\n",
    "print(depth_stack)\n",
    "print(depth_stack.shape) # n floors, n rows, n col"
   ]
  },
  {
   "cell_type": "code",
   "execution_count": 94,
   "metadata": {},
   "outputs": [
    {
     "name": "stdout",
     "output_type": "stream",
     "text": [
      "(2, 2)\n",
      "(2, 4)\n",
      "[[0 1 0 1 2 3]\n",
      " [2 3 4 5 6 7]]\n",
      "(2, 6)\n"
     ]
    }
   ],
   "source": [
    "# Column stacking\n",
    "# Stack both arrays along second axis (cols)\n",
    "col_stack = np.column_stack((x, y))\n",
    "\n",
    "print(x.shape)\n",
    "print(y.shape)\n",
    "print(col_stack)\n",
    "print(col_stack.shape)"
   ]
  },
  {
   "cell_type": "code",
   "execution_count": 97,
   "metadata": {},
   "outputs": [
    {
     "name": "stdout",
     "output_type": "stream",
     "text": [
      "(2, 2)\n",
      "(2, 2)\n",
      "[[0 1]\n",
      " [2 3]\n",
      " [0 1]\n",
      " [2 3]]\n",
      "(4, 2)\n"
     ]
    }
   ],
   "source": [
    "# Column stacking\n",
    "# Stack both arrays along first axis (rows)\n",
    "row_stack = np.row_stack((x, z))\n",
    "\n",
    "print(x.shape)\n",
    "print(z.shape)\n",
    "print(row_stack)\n",
    "print(row_stack.shape)"
   ]
  },
  {
   "cell_type": "code",
   "execution_count": null,
   "metadata": {},
   "outputs": [],
   "source": []
  }
 ],
 "metadata": {
  "kernelspec": {
   "display_name": "Python 3",
   "language": "python",
   "name": "python3"
  },
  "language_info": {
   "codemirror_mode": {
    "name": "ipython",
    "version": 3
   },
   "file_extension": ".py",
   "mimetype": "text/x-python",
   "name": "python",
   "nbconvert_exporter": "python",
   "pygments_lexer": "ipython3",
   "version": "3.7.4"
  }
 },
 "nbformat": 4,
 "nbformat_minor": 2
}
